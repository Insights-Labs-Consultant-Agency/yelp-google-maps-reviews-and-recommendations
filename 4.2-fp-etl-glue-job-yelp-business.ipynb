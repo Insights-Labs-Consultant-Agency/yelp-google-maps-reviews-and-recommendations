{
  "cells": [
    {
      "cell_type": "markdown",
      "metadata": {
        "id": "view-in-github",
        "colab_type": "text"
      },
      "source": [
        "<a href=\"https://colab.research.google.com/github/Insights-Labs-Consultant-Agency/yelp-google-maps-reviews-and-recommendations/blob/data-pipeline/4.2-fp-etl-glue-job-yelp-business.ipynb\" target=\"_parent\"><img src=\"https://colab.research.google.com/assets/colab-badge.svg\" alt=\"Open In Colab\"/></a>"
      ]
    },
    {
      "cell_type": "markdown",
      "metadata": {
        "id": "hNl1vrW1wxib"
      },
      "source": [
        "# Extracción, transformación y carga (ETL)"
      ]
    },
    {
      "cell_type": "markdown",
      "metadata": {
        "id": "DDmg3udVw-1b"
      },
      "source": [
        "En este notebook, nuestro objetivo es realizar el proceso de extracción, transformación y carga (ETL) de los datos de Yelp y Google Maps utilizando la librería AWS Glue 3.0 que servirá como base para los scripts de los diferentes ETL Glue Jobs que se usaran en AWS Glue Workflow en el proceso de carga al DW. En esta etapa, se realizará un proceso de limpieza previa y posterior normalización para construir un DER."
      ]
    },
    {
      "cell_type": "markdown",
      "metadata": {
        "id": "4HXp2o_Aytpo"
      },
      "source": [
        "## 0 Configuraciones Globales e Importaciones"
      ]
    },
    {
      "cell_type": "markdown",
      "metadata": {
        "id": "rh6OIFORyz25"
      },
      "source": [
        "En esta sección,instalamos e importamos todas las librerías y/o módulos necesarios para nuestro proceso ETL y establecemos configuraciones globales de ser requerido."
      ]
    },
    {
      "cell_type": "markdown",
      "metadata": {
        "id": "0pZfLw2By_lm"
      },
      "source": [
        "### Instalación de librerías y/o Dependencias"
      ]
    },
    {
      "cell_type": "code",
      "execution_count": null,
      "metadata": {
        "id": "enoMebVcsRoG"
      },
      "outputs": [],
      "source": [
        "!apt-get install openjdk-8-jdk-headless -qq > /dev/null\n",
        "!wget -q https://aws-glue-etl-artifacts.s3.amazonaws.com/glue-common/apache-maven-3.6.0-bin.tar.gz\n",
        "!tar xvf apache-maven-3.6.0-bin.tar.gz -C /bin/ > /dev/null\n",
        "!wget -q https://aws-glue-etl-artifacts.s3.amazonaws.com/glue-3.0/spark-3.1.1-amzn-0-bin-3.2.1-amzn-3.tgz\n",
        "!tar xvf spark-3.1.1-amzn-0-bin-3.2.1-amzn-3.tgz -C /bin/ > /dev/null\n",
        "!pip install -q findspark"
      ]
    },
    {
      "cell_type": "markdown",
      "metadata": {
        "id": "bhoxHr9TzVV0"
      },
      "source": [
        "### Exportación de Variables Entorno"
      ]
    },
    {
      "cell_type": "code",
      "execution_count": null,
      "metadata": {
        "id": "zCi3c-5lsX_H"
      },
      "outputs": [],
      "source": [
        "import os\n",
        "os.environ[\"JAVA_HOME\"] = \"/usr/lib/jvm/java-8-openjdk-amd64\"\n",
        "os.environ[\"PATH\"] += \":/bin/apache-maven-3.6.0/bin\"\n",
        "os.environ[\"SPARK_HOME\"] = \"/bin/spark-3.1.1-amzn-0-bin-3.2.1-amzn-3/\"\n",
        "os.environ[\"SPARK_CONF_DIR\"] = \"/bin/aws-glue-libs/conf\""
      ]
    },
    {
      "cell_type": "markdown",
      "metadata": {
        "id": "uZoM1kz41LQI"
      },
      "source": [
        "### Instalación de AWS GLue 3.0 Libs"
      ]
    },
    {
      "cell_type": "code",
      "execution_count": null,
      "metadata": {
        "colab": {
          "background_save": true,
          "base_uri": "https://localhost:8080/"
        },
        "id": "Y5ArgNgqsi4I",
        "outputId": "03815068-f078-4ca6-949d-3383cfe0e56d"
      },
      "outputs": [
        {
          "name": "stdout",
          "output_type": "stream",
          "text": [
            "Cloning into '/bin/aws-glue-libs'...\n",
            "remote: Enumerating objects: 321, done.\u001b[K\n",
            "remote: Counting objects: 100% (99/99), done.\u001b[K\n",
            "remote: Compressing objects: 100% (54/54), done.\u001b[K\n",
            "remote: Total 321 (delta 63), reused 62 (delta 45), pack-reused 222\u001b[K\n",
            "Receiving objects: 100% (321/321), 163.93 KiB | 7.81 MiB/s, done.\n",
            "Resolving deltas: 100% (203/203), done.\n",
            "rm: cannot remove 'PyGlue.zip': No such file or directory\n",
            "rm: cannot remove '/bin/aws-glue-libs/conf/spark-defaults.conf': No such file or directory\n"
          ]
        }
      ],
      "source": [
        "!git clone -b glue-3.0 https://github.com/awslabs/aws-glue-libs.git /bin/aws-glue-libs\n",
        "!chmod +x /bin/aws-glue-libs/bin/glue-setup.sh\n",
        "!bash /bin/aws-glue-libs/bin/glue-setup.sh > /dev/null\n",
        "!cp -r /bin/spark-3.1.1-amzn-0-bin-3.2.1-amzn-3/jars/netty-all-4.1.51.Final.jar /bin/aws-glue-libs/jarsv1/"
      ]
    },
    {
      "cell_type": "markdown",
      "metadata": {
        "id": "gs9WyuNY0eIf"
      },
      "source": [
        "### Importación de Librerías y/o Módulos"
      ]
    },
    {
      "cell_type": "code",
      "execution_count": null,
      "metadata": {
        "colab": {
          "background_save": true
        },
        "id": "weHEFQDDoSoE",
        "outputId": "4101c51a-0014-42e9-e6ad-8f1dd1842ea5"
      },
      "outputs": [
        {
          "data": {
            "text/html": [
              "\n",
              "            <div>\n",
              "                <p><b>SparkSession - in-memory</b></p>\n",
              "                \n",
              "        <div>\n",
              "            <p><b>SparkContext</b></p>\n",
              "\n",
              "            <p><a href=\"http://5b5526aee18c:4040\">Spark UI</a></p>\n",
              "\n",
              "            <dl>\n",
              "              <dt>Version</dt>\n",
              "                <dd><code>v3.1.1-amzn-0</code></dd>\n",
              "              <dt>Master</dt>\n",
              "                <dd><code>local[*]</code></dd>\n",
              "              <dt>AppName</dt>\n",
              "                <dd><code>pyspark-shell</code></dd>\n",
              "            </dl>\n",
              "        </div>\n",
              "        \n",
              "            </div>\n",
              "        "
            ],
            "text/plain": [
              "<pyspark.sql.session.SparkSession at 0x7ca985c09f90>"
            ]
          },
          "execution_count": 4,
          "metadata": {},
          "output_type": "execute_result"
        }
      ],
      "source": [
        "import sys\n",
        "sys.path.extend([\"/bin/spark-3.1.1-amzn-0-bin-3.2.1-amzn-3/python\",\"/bin/spark-3.1.1-amzn-0-bin-3.2.1-amzn-3/python/lib/py4j-0.10.9-src.zip\",\"/bin/aws-glue-libs/PyGlue.zip\"])\n",
        "\n",
        "import findspark\n",
        "import pandas as pd\n",
        "from awsglue.context import GlueContext\n",
        "from pyspark.context import SparkContext\n",
        "from awsglue.dynamicframe import DynamicFrame\n",
        "from pyspark.sql.functions import col, size, split, explode\n",
        "\n",
        "findspark.init()\n",
        "sc = SparkContext()\n",
        "glueContext = GlueContext(sc)\n",
        "spark = glueContext.spark_session\n",
        "spark"
      ]
    },
    {
      "cell_type": "markdown",
      "metadata": {
        "id": "f42m4ww00wIY"
      },
      "source": [
        "## 1 Extracción"
      ]
    },
    {
      "cell_type": "markdown",
      "metadata": {
        "id": "RnM8Dls40ytF"
      },
      "source": [
        "En esta sección, extraemos los datasets de la fuente y los leemos como un DataFrame de PySpark."
      ]
    },
    {
      "cell_type": "code",
      "execution_count": null,
      "metadata": {
        "id": "UXQF3vPti5R3"
      },
      "outputs": [],
      "source": [
        "import pandas as pd"
      ]
    },
    {
      "cell_type": "code",
      "execution_count": null,
      "metadata": {
        "id": "T-Ftm7L4MXVk"
      },
      "outputs": [],
      "source": [
        "# Ruta al archivo parquet user\n",
        "file_path = '/content/drive/MyDrive/data/raw/yelp/business.pkl'"
      ]
    },
    {
      "cell_type": "code",
      "execution_count": null,
      "metadata": {
        "id": "ju-CtCUgjJCK"
      },
      "outputs": [],
      "source": [
        "# Lee el archivo .pkl en un DataFrame de pandas\n",
        "pandas_df = pd.read_pickle(file_path)"
      ]
    },
    {
      "cell_type": "code",
      "execution_count": null,
      "metadata": {
        "id": "svCYn1oz2AhD"
      },
      "outputs": [],
      "source": [
        "# Convierte el DataFrame de pandas a un DataFrame de PySpark\n",
        "df = spark.createDataFrame(pandas_df)"
      ]
    },
    {
      "cell_type": "markdown",
      "metadata": {
        "id": "naOeIpxO919e"
      },
      "source": [
        "## 2 Transformación"
      ]
    },
    {
      "cell_type": "markdown",
      "metadata": {
        "id": "ua1qTRsQ93hZ"
      },
      "source": [
        "En esta sección, realizamos la limpieza inicial de los datos y las transformaciones necesarias. Esto puede incluir la creación de nuevas columnas  la eliminación de duplicados o columnas innecesarias, la gestión de valores nulos o la corrección de tipos de datos."
      ]
    },
    {
      "cell_type": "code",
      "execution_count": null,
      "metadata": {
        "id": "u35lchNbYJiy"
      },
      "outputs": [],
      "source": [
        "# Reemplaza los NaN en 'state' por sus valores correspondientes de acuerdo a 'address', 'city' y 'postal_code'\n",
        "df = df.withColumn('state', when((col('address') == 'address1') & (col('city') == 'city1') & (col('postal_code') == 'postal_code1'), 'CA').otherwise(col('state')))\n",
        "df = df.withColumn('state', when((col('address') == 'address2') & (col('city') == 'city2') & (col('postal_code') == 'postal_code2'), 'MO').otherwise(col('state')))\n",
        "df = df.withColumn('state', when((col('address') == 'address3') & (col('city') == 'city3') & (col('postal_code') == 'postal_code3'), 'AZ').otherwise(col('state')))"
      ]
    },
    {
      "cell_type": "code",
      "execution_count": null,
      "metadata": {
        "id": "wplFVIqo5WYT"
      },
      "outputs": [],
      "source": [
        "# Convierte la columna 'yelping_since' al formato datetime\n",
        "df = df.withColumn('yelping_since', df['yelping_since'].cast('timestamp'))"
      ]
    },
    {
      "cell_type": "code",
      "execution_count": null,
      "metadata": {
        "id": "xJvgBUPA6bdE"
      },
      "outputs": [],
      "source": [
        "# Ordena el DataFrame por y 'yelping_since'\n",
        "df = df.orderBy('yelping_since')"
      ]
    },
    {
      "cell_type": "code",
      "execution_count": null,
      "metadata": {
        "id": "geb4i49ITJD3"
      },
      "outputs": [],
      "source": [
        "# Crea un nuevo DataFrame para la normalización de la columna 'elite'\n",
        "df_elite = df.withColumn('elite', split(df['elite'], ','))\n",
        "df_elite = df_elite.withColumn('elite', explode(df_elite['elite']))\n",
        "df_elite = df_elite.select('user_id', df_elite['elite'].alias('elite_year'))"
      ]
    },
    {
      "cell_type": "code",
      "execution_count": null,
      "metadata": {
        "id": "A8dPNI0KcnNI"
      },
      "outputs": [],
      "source": [
        "# Reemplaza los strings en blanco por None\n",
        "df_elite = df_elite.withColumn('elite_year', when(col('elite_year') == '', None).otherwise(col('elite_year')))"
      ]
    },
    {
      "cell_type": "code",
      "execution_count": null,
      "metadata": {
        "id": "3OiLwhbDdDUr"
      },
      "outputs": [],
      "source": [
        "# Elimina los None\n",
        "df_elite = df_elite.na.drop(subset=[\"elite_year\"])"
      ]
    },
    {
      "cell_type": "code",
      "execution_count": null,
      "metadata": {
        "id": "UoCNoR_wdG5u"
      },
      "outputs": [],
      "source": [
        "# Ordena el DataFrame por 'elite_year'\n",
        "df_elite = df_elite.orderBy('elite_year')"
      ]
    },
    {
      "cell_type": "code",
      "execution_count": null,
      "metadata": {
        "id": "3TdMTpa3dKtX"
      },
      "outputs": [],
      "source": [
        "# Filtra los años que no son '20'\n",
        "df_elite = df_elite.filter(df_elite.elite_year != '20')"
      ]
    },
    {
      "cell_type": "code",
      "execution_count": null,
      "metadata": {
        "id": "ouHFrXIKd4Dg"
      },
      "outputs": [],
      "source": [
        "# Elimina la columna 'elite'\n",
        "df = df.drop('elite')"
      ]
    },
    {
      "cell_type": "code",
      "execution_count": null,
      "metadata": {
        "id": "KmZz5w9gd7PK"
      },
      "outputs": [],
      "source": [
        "# Crea una nueva columna 'friends' que es la cantidad de amigos\n",
        "df = df.withColumn('friends', size(split(df['friends'], ',')))"
      ]
    },
    {
      "cell_type": "code",
      "execution_count": null,
      "metadata": {
        "id": "QeO2moPrMm14"
      },
      "outputs": [],
      "source": [
        "df.printSchema()"
      ]
    },
    {
      "cell_type": "code",
      "execution_count": null,
      "metadata": {
        "id": "WCSxt6saoDlN"
      },
      "outputs": [],
      "source": [
        "df_elite.printSchema()"
      ]
    },
    {
      "cell_type": "markdown",
      "metadata": {
        "id": "hNxMjfag9hma"
      },
      "source": [
        "## 3. Carga"
      ]
    },
    {
      "cell_type": "markdown",
      "metadata": {
        "id": "o-OnEMti-i2z"
      },
      "source": [
        "Finalmente, en esta sección cargamos nuestros datos transformados en formato parquet a su destino correspondiente."
      ]
    },
    {
      "cell_type": "markdown",
      "metadata": {
        "id": "SzJbsgYb-qGn"
      },
      "source": [
        "### Google Drive"
      ]
    },
    {
      "cell_type": "code",
      "execution_count": null,
      "metadata": {
        "id": "t9PEpRX09gVl"
      },
      "outputs": [],
      "source": [
        "# Ruta al archivo Parquet local\n",
        "file_path = '/content/drive/MyDrive/data/cleaned/yelp/tip.parquet'\n",
        "\n",
        "# Escribe el DataFrame a un archivo Parquet localmente\n",
        "df.write.parquet(file_path)\n"
      ]
    },
    {
      "cell_type": "markdown",
      "metadata": {
        "id": "0piDPdCm-wRZ"
      },
      "source": [
        "### S3"
      ]
    },
    {
      "cell_type": "code",
      "execution_count": null,
      "metadata": {
        "id": "zkDYn1K-2Dr3"
      },
      "outputs": [],
      "source": [
        "# Convierte el DataFrame de Spark a un DynamicFrame de Glue\n",
        "dyf = DynamicFrame.fromDF(df, glueContext, \"dynamic_frame\")"
      ]
    },
    {
      "cell_type": "code",
      "execution_count": null,
      "metadata": {
        "id": "xRDUuquA-4gx"
      },
      "outputs": [],
      "source": [
        "# Escribe el DynamicFrame a S3 en formato Parquet\n",
        "glueContext.write_dynamic_frame.from_options(\n",
        "    frame = dyf,\n",
        "    connection_type = \"s3\",\n",
        "    connection_options = {\"path\": \"s3://ruta/al/bucket\"},\n",
        "    format = \"parquet\"\n",
        ")"
      ]
    }
  ],
  "metadata": {
    "colab": {
      "provenance": [],
      "mount_file_id": "1Q5pZqogay0S8aImPVZc2OQIIlvLkGJ3j",
      "authorship_tag": "ABX9TyMzKiy+rSsIhd43NDTr0Clo",
      "include_colab_link": true
    },
    "kernelspec": {
      "display_name": "Python 3",
      "name": "python3"
    },
    "language_info": {
      "name": "python"
    }
  },
  "nbformat": 4,
  "nbformat_minor": 0
}