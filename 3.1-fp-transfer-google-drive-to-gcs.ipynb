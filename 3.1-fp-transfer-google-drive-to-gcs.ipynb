{
  "nbformat": 4,
  "nbformat_minor": 0,
  "metadata": {
    "colab": {
      "provenance": [],
      "include_colab_link": true
    },
    "kernelspec": {
      "name": "python3",
      "display_name": "Python 3"
    }
  },
  "cells": [
    {
      "cell_type": "markdown",
      "metadata": {
        "id": "view-in-github",
        "colab_type": "text"
      },
      "source": [
        "<a href=\"https://colab.research.google.com/github/Insights-Labs-Consultant-Agency/yelp-google-maps-reviews-and-recommendations/blob/data-ingestion/3.1-fp-transfer-google-drive-to-gcs.ipynb\" target=\"_parent\"><img src=\"https://colab.research.google.com/assets/colab-badge.svg\" alt=\"Open In Colab\"/></a>"
      ]
    },
    {
      "cell_type": "markdown",
      "metadata": {
        "id": "OPk9CrZM8bXx"
      },
      "source": [
        "# Transferring data from Google Drive to Google Cloud Storage\n",
        "This notebook shows how to transfer Yelp and Google maps datasets from Google Drive to a Google Cloud Storage bucket. We mount Google Drive using the google colab tools which requires authenticating in a separate brower window. Then we authenticate and connect our Google Cloud Storage project, list all buckets, and start copying files from Google Drive to our bucket."
      ]
    },
    {
      "cell_type": "code",
      "metadata": {
        "id": "gYyUbZ9j01LG",
        "colab": {
          "base_uri": "https://localhost:8080/"
        },
        "outputId": "6563475e-8f56-488f-a58e-15308de9251e"
      },
      "source": [
        "from google.colab import drive\n",
        "drive.mount('/content/drive')"
      ],
      "execution_count": 1,
      "outputs": [
        {
          "output_type": "stream",
          "name": "stdout",
          "text": [
            "Mounted at /content/drive\n"
          ]
        }
      ]
    },
    {
      "cell_type": "code",
      "source": [
        "from google.colab import auth\n",
        "auth.authenticate_user()"
      ],
      "metadata": {
        "id": "m7Yu7Kr6KdRM"
      },
      "execution_count": 7,
      "outputs": []
    },
    {
      "cell_type": "code",
      "metadata": {
        "id": "aehvgY-u7zRe"
      },
      "source": [
        "from google.colab import userdata\n",
        "userdata.get('project_id')\n",
        "\n",
        "!gcloud config set project {project_id}\n",
        "!gsutil ls\n"
      ],
      "execution_count": null,
      "outputs": []
    },
    {
      "cell_type": "code",
      "metadata": {
        "id": "bFfQadlr0_Wy",
        "colab": {
          "base_uri": "https://localhost:8080/"
        },
        "outputId": "50d81013-dc09-4030-ed5f-1c6c0b993982"
      },
      "source": [
        "userdata.get('bucket_name')\n",
        "\n",
        "!gsutil -m cp -r /content/drive/My\\ Drive/data/* gs://{bucket_name}/"
      ],
      "execution_count": 4,
      "outputs": [
        {
          "output_type": "stream",
          "name": "stdout",
          "text": [
            "Copying file:///content/drive/My Drive/data/raw/yelp/business.pkl [Content-Type=application/octet-stream]...\n",
            "/ [0 files][    0.0 B/111.0 MiB]                                                \rCopying file:///content/drive/My Drive/data/raw/yelp/tip.json [Content-Type=application/json]...\n",
            "/ [0 files][    0.0 B/283.2 MiB]                                                \rCopying file:///content/drive/My Drive/data/raw/yelp/review.json [Content-Type=application/json]...\n",
            "/ [0 files][    0.0 B/  5.2 GiB]                                                \rCopying file:///content/drive/My Drive/data/raw/yelp/checkin.json [Content-Type=application/json]...\n",
            "/ [0 files][    0.0 B/  5.5 GiB]                                                \r==> NOTE: You are uploading one or more large file(s), which would run\n",
            "significantly faster if you enable parallel composite uploads. This\n",
            "feature can be enabled by editing the\n",
            "\"parallel_composite_upload_threshold\" value in your .boto\n",
            "configuration file. However, note that if you do this large files will\n",
            "be uploaded as `composite objects\n",
            "<https://cloud.google.com/storage/docs/composite-objects>`_,which\n",
            "means that any user who downloads such objects will need to have a\n",
            "compiled crcmod installed (see \"gsutil help crcmod\"). This is because\n",
            "without a compiled crcmod, computing checksums on composite objects is\n",
            "so slow that gsutil disables downloads of composite objects.\n",
            "\n",
            "Copying file:///content/drive/My Drive/data/raw/google/metadata-sitios/3.json [Content-Type=application/json]...\n",
            "Copying file:///content/drive/My Drive/data/raw/google/metadata-sitios/2.json [Content-Type=application/json]...\n",
            "Copying file:///content/drive/My Drive/data/raw/google/metadata-sitios/1.json [Content-Type=application/json]...\n",
            "Copying file:///content/drive/My Drive/data/raw/yelp/user.parquet [Content-Type=application/octet-stream]...\n",
            "Copying file:///content/drive/My Drive/data/raw/google/metadata-sitios/4.json [Content-Type=application/json]...\n",
            "Copying file:///content/drive/My Drive/data/raw/google/metadata-sitios/5.json [Content-Type=application/json]...\n",
            "Copying file:///content/drive/My Drive/data/raw/google/metadata-sitios/6.json [Content-Type=application/json]...\n",
            "Copying file:///content/drive/My Drive/data/raw/google/metadata-sitios/7.json [Content-Type=application/json]...\n",
            "Copying file:///content/drive/My Drive/data/raw/google/metadata-sitios/8.json [Content-Type=application/json]...\n",
            "Copying file:///content/drive/My Drive/data/raw/google/metadata-sitios/9.json [Content-Type=application/json]...\n",
            "Copying file:///content/drive/My Drive/data/raw/google/metadata-sitios/11.json [Content-Type=application/json]...\n",
            "Copying file:///content/drive/My Drive/data/raw/google/metadata-sitios/10.json [Content-Type=application/json]...\n",
            "Copying file:///content/drive/My Drive/data/raw/google/reviews-estados/review-Virginia/1.json [Content-Type=application/json]...\n",
            "Copying file:///content/drive/My Drive/data/raw/google/reviews-estados/review-Virginia/2.json [Content-Type=application/json]...\n",
            "Copying file:///content/drive/My Drive/data/raw/google/reviews-estados/review-Virginia/3.json [Content-Type=application/json]...\n",
            "Copying file:///content/drive/My Drive/data/raw/google/reviews-estados/review-Virginia/4.json [Content-Type=application/json]...\n",
            "Copying file:///content/drive/My Drive/data/raw/google/reviews-estados/review-Virginia/5.json [Content-Type=application/json]...\n",
            "Copying file:///content/drive/My Drive/data/raw/google/reviews-estados/review-Virginia/6.json [Content-Type=application/json]...\n",
            "Copying file:///content/drive/My Drive/data/raw/google/reviews-estados/review-Virginia/7.json [Content-Type=application/json]...\n",
            "Copying file:///content/drive/My Drive/data/raw/google/reviews-estados/review-Virginia/8.json [Content-Type=application/json]...\n",
            "Copying file:///content/drive/My Drive/data/raw/google/reviews-estados/review-Virginia/9.json [Content-Type=application/json]...\n",
            "Copying file:///content/drive/My Drive/data/raw/google/reviews-estados/review-Virginia/10.json [Content-Type=application/json]...\n",
            "Copying file:///content/drive/My Drive/data/raw/google/reviews-estados/review-Virginia/11.json [Content-Type=application/json]...\n",
            "Copying file:///content/drive/My Drive/data/raw/google/reviews-estados/review-Virginia/12.json [Content-Type=application/json]...\n",
            "Copying file:///content/drive/My Drive/data/raw/google/reviews-estados/review-Florida/19.json [Content-Type=application/json]...\n",
            "Copying file:///content/drive/My Drive/data/raw/google/reviews-estados/review-Florida/17.json [Content-Type=application/json]...\n",
            "Copying file:///content/drive/My Drive/data/raw/google/reviews-estados/review-Florida/18.json [Content-Type=application/json]...\n",
            "Copying file:///content/drive/My Drive/data/raw/google/reviews-estados/review-Florida/15.json [Content-Type=application/json]...\n",
            "Copying file:///content/drive/My Drive/data/raw/google/reviews-estados/review-Florida/16.json [Content-Type=application/json]...\n",
            "Copying file:///content/drive/My Drive/data/raw/google/reviews-estados/review-Florida/13.json [Content-Type=application/json]...\n",
            "Copying file:///content/drive/My Drive/data/raw/google/reviews-estados/review-Florida/11.json [Content-Type=application/json]...\n",
            "Copying file:///content/drive/My Drive/data/raw/google/reviews-estados/review-Florida/10.json [Content-Type=application/json]...\n",
            "Copying file:///content/drive/My Drive/data/raw/google/reviews-estados/review-Florida/14.json [Content-Type=application/json]...\n",
            "Copying file:///content/drive/My Drive/data/raw/google/reviews-estados/review-Florida/12.json [Content-Type=application/json]...\n",
            "Copying file:///content/drive/My Drive/data/raw/google/reviews-estados/review-Florida/8.json [Content-Type=application/json]...\n",
            "Copying file:///content/drive/My Drive/data/raw/google/reviews-estados/review-Florida/9.json [Content-Type=application/json]...\n",
            "Copying file:///content/drive/My Drive/data/raw/google/reviews-estados/review-Florida/6.json [Content-Type=application/json]...\n",
            "Copying file:///content/drive/My Drive/data/raw/google/reviews-estados/review-Florida/4.json [Content-Type=application/json]...\n",
            "Copying file:///content/drive/My Drive/data/raw/google/reviews-estados/review-Florida/5.json [Content-Type=application/json]...\n",
            "Copying file:///content/drive/My Drive/data/raw/google/reviews-estados/review-Florida/7.json [Content-Type=application/json]...\n",
            "Copying file:///content/drive/My Drive/data/raw/google/reviews-estados/review-Florida/2.json [Content-Type=application/json]...\n",
            "Copying file:///content/drive/My Drive/data/raw/google/reviews-estados/review-Florida/3.json [Content-Type=application/json]...\n",
            "Copying file:///content/drive/My Drive/data/raw/google/reviews-estados/review-Florida/1.json [Content-Type=application/json]...\n",
            "Copying file:///content/drive/My Drive/data/raw/google/reviews-estados/review-Nevada/1.json [Content-Type=application/json]...\n",
            "Copying file:///content/drive/My Drive/data/raw/google/reviews-estados/review-Nevada/2.json [Content-Type=application/json]...\n",
            "Copying file:///content/drive/My Drive/data/raw/google/reviews-estados/review-Nevada/3.json [Content-Type=application/json]...\n",
            "Copying file:///content/drive/My Drive/data/raw/google/reviews-estados/review-Nevada/7.json [Content-Type=application/json]...\n",
            "Copying file:///content/drive/My Drive/data/raw/google/reviews-estados/review-Nevada/4.json [Content-Type=application/json]...\n",
            "Copying file:///content/drive/My Drive/data/raw/google/reviews-estados/review-Nevada/6.json [Content-Type=application/json]...\n",
            "Copying file:///content/drive/My Drive/data/raw/google/reviews-estados/review-Nevada/5.json [Content-Type=application/json]...\n",
            "Copying file:///content/drive/My Drive/data/raw/google/reviews-estados/review-Nevada/8.json [Content-Type=application/json]...\n",
            "Copying file:///content/drive/My Drive/data/raw/google/reviews-estados/review-Nevada/9.json [Content-Type=application/json]...\n",
            "Copying file:///content/drive/My Drive/data/raw/google/reviews-estados/review-Nevada/10.json [Content-Type=application/json]...\n",
            "Copying file:///content/drive/My Drive/data/raw/google/reviews-estados/review-Nevada/12.json [Content-Type=application/json]...\n",
            "Copying file:///content/drive/My Drive/data/raw/google/reviews-estados/review-Nevada/11.json [Content-Type=application/json]...\n",
            "| [59/59 files][ 12.9 GiB/ 12.9 GiB] 100% Done  50.5 MiB/s ETA 00:00:00         \n",
            "Operation completed over 59 objects/12.9 GiB.                                    \n"
          ]
        }
      ]
    }
  ]
}