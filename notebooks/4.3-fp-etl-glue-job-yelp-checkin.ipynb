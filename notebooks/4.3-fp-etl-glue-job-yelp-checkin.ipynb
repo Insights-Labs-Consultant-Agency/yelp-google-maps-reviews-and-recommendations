{
  "nbformat": 4,
  "nbformat_minor": 0,
  "metadata": {
    "colab": {
      "provenance": [],
      "mount_file_id": "12tqSWz1qZlkrLs-87UdHDA_0fCla2VwI",
      "authorship_tag": "ABX9TyMRdbjaBuENnvyZeB6rJJpf",
      "include_colab_link": true
    },
    "kernelspec": {
      "name": "python3",
      "display_name": "Python 3"
    },
    "language_info": {
      "name": "python"
    }
  },
  "cells": [
    {
      "cell_type": "markdown",
      "metadata": {
        "id": "view-in-github",
        "colab_type": "text"
      },
      "source": [
        "<a href=\"https://colab.research.google.com/github/Insights-Labs-Consultant-Agency/yelp-google-maps-reviews-and-recommendations/blob/data-pipeline/notebooks/4.3-fp-etl-glue-job-yelp-checkin.ipynb\" target=\"_parent\"><img src=\"https://colab.research.google.com/assets/colab-badge.svg\" alt=\"Open In Colab\"/></a>"
      ]
    },
    {
      "cell_type": "markdown",
      "source": [
        "# Extracción, transformación y carga (ETL)"
      ],
      "metadata": {
        "id": "hNl1vrW1wxib"
      }
    },
    {
      "cell_type": "markdown",
      "source": [
        "En este notebook, nuestro objetivo es realizar el proceso de extracción, transformación y carga (ETL) de los datos de Yelp y Google Maps utilizando la librería AWS Glue 3.0 que servirá como base para los scripts de los diferentes ETL Glue Jobs que se usaran en AWS Glue Workflow en el proceso de carga al DW. En esta etapa, se realizará un proceso de limpieza previa y posterior normalización para construir un DER."
      ],
      "metadata": {
        "id": "DDmg3udVw-1b"
      }
    },
    {
      "cell_type": "markdown",
      "source": [
        "## 0 Configuraciones Globales e Importaciones"
      ],
      "metadata": {
        "id": "4HXp2o_Aytpo"
      }
    },
    {
      "cell_type": "markdown",
      "source": [
        "En esta sección,instalamos e importamos todas las librerías y/o módulos necesarios para nuestro proceso ETL y establecemos configuraciones globales de ser requerido."
      ],
      "metadata": {
        "id": "rh6OIFORyz25"
      }
    },
    {
      "cell_type": "markdown",
      "source": [
        "### Instalación de librerías y/o Dependencias"
      ],
      "metadata": {
        "id": "0pZfLw2By_lm"
      }
    },
    {
      "cell_type": "code",
      "source": [
        "!apt-get install openjdk-8-jdk-headless -qq > /dev/null\n",
        "!wget -q https://aws-glue-etl-artifacts.s3.amazonaws.com/glue-common/apache-maven-3.6.0-bin.tar.gz\n",
        "!tar xvf apache-maven-3.6.0-bin.tar.gz -C /bin/ > /dev/null\n",
        "!wget -q https://aws-glue-etl-artifacts.s3.amazonaws.com/glue-3.0/spark-3.1.1-amzn-0-bin-3.2.1-amzn-3.tgz\n",
        "!tar xvf spark-3.1.1-amzn-0-bin-3.2.1-amzn-3.tgz -C /bin/ > /dev/null\n",
        "!pip install -q findspark"
      ],
      "metadata": {
        "id": "enoMebVcsRoG"
      },
      "execution_count": null,
      "outputs": []
    },
    {
      "cell_type": "markdown",
      "source": [
        "### Exportación de Variables Entorno"
      ],
      "metadata": {
        "id": "bhoxHr9TzVV0"
      }
    },
    {
      "cell_type": "code",
      "source": [
        "import os\n",
        "os.environ[\"JAVA_HOME\"] = \"/usr/lib/jvm/java-8-openjdk-amd64\"\n",
        "os.environ[\"PATH\"] += \":/bin/apache-maven-3.6.0/bin\"\n",
        "os.environ[\"SPARK_HOME\"] = \"/bin/spark-3.1.1-amzn-0-bin-3.2.1-amzn-3/\"\n",
        "os.environ[\"SPARK_CONF_DIR\"] = \"/bin/aws-glue-libs/conf\""
      ],
      "metadata": {
        "id": "zCi3c-5lsX_H"
      },
      "execution_count": null,
      "outputs": []
    },
    {
      "cell_type": "markdown",
      "source": [
        "### Instalación de AWS GLue 3.0 Libs"
      ],
      "metadata": {
        "id": "uZoM1kz41LQI"
      }
    },
    {
      "cell_type": "code",
      "source": [
        "!git clone -b glue-3.0 https://github.com/awslabs/aws-glue-libs.git /bin/aws-glue-libs\n",
        "!chmod +x /bin/aws-glue-libs/bin/glue-setup.sh\n",
        "!bash /bin/aws-glue-libs/bin/glue-setup.sh > /dev/null\n",
        "!cp -r /bin/spark-3.1.1-amzn-0-bin-3.2.1-amzn-3/jars/netty-all-4.1.51.Final.jar /bin/aws-glue-libs/jarsv1/"
      ],
      "metadata": {
        "colab": {
          "base_uri": "https://localhost:8080/"
        },
        "id": "Y5ArgNgqsi4I",
        "outputId": "5fa41e47-b9fd-4901-ac68-b13c52a7aa23"
      },
      "execution_count": null,
      "outputs": [
        {
          "output_type": "stream",
          "name": "stdout",
          "text": [
            "Cloning into '/bin/aws-glue-libs'...\n",
            "remote: Enumerating objects: 321, done.\u001b[K\n",
            "remote: Counting objects: 100% (99/99), done.\u001b[K\n",
            "remote: Compressing objects: 100% (54/54), done.\u001b[K\n",
            "remote: Total 321 (delta 63), reused 62 (delta 45), pack-reused 222\u001b[K\n",
            "Receiving objects: 100% (321/321), 163.93 KiB | 4.43 MiB/s, done.\n",
            "Resolving deltas: 100% (203/203), done.\n",
            "rm: cannot remove 'PyGlue.zip': No such file or directory\n",
            "rm: cannot remove '/bin/aws-glue-libs/conf/spark-defaults.conf': No such file or directory\n"
          ]
        }
      ]
    },
    {
      "cell_type": "markdown",
      "source": [
        "### Importación de Librerías y/o Módulos"
      ],
      "metadata": {
        "id": "gs9WyuNY0eIf"
      }
    },
    {
      "cell_type": "code",
      "execution_count": null,
      "metadata": {
        "id": "weHEFQDDoSoE",
        "colab": {
          "base_uri": "https://localhost:8080/",
          "height": 219
        },
        "outputId": "77432f53-7369-49dd-e10d-5ebf760ba730"
      },
      "outputs": [
        {
          "output_type": "execute_result",
          "data": {
            "text/plain": [
              "<pyspark.sql.session.SparkSession at 0x7e0ccc0546d0>"
            ],
            "text/html": [
              "\n",
              "            <div>\n",
              "                <p><b>SparkSession - in-memory</b></p>\n",
              "                \n",
              "        <div>\n",
              "            <p><b>SparkContext</b></p>\n",
              "\n",
              "            <p><a href=\"http://0297151d16a3:4040\">Spark UI</a></p>\n",
              "\n",
              "            <dl>\n",
              "              <dt>Version</dt>\n",
              "                <dd><code>v3.1.1-amzn-0</code></dd>\n",
              "              <dt>Master</dt>\n",
              "                <dd><code>local[*]</code></dd>\n",
              "              <dt>AppName</dt>\n",
              "                <dd><code>pyspark-shell</code></dd>\n",
              "            </dl>\n",
              "        </div>\n",
              "        \n",
              "            </div>\n",
              "        "
            ]
          },
          "metadata": {},
          "execution_count": 4
        }
      ],
      "source": [
        "import sys\n",
        "sys.path.extend([\"/bin/spark-3.1.1-amzn-0-bin-3.2.1-amzn-3/python\",\"/bin/spark-3.1.1-amzn-0-bin-3.2.1-amzn-3/python/lib/py4j-0.10.9-src.zip\",\"/bin/aws-glue-libs/PyGlue.zip\"])\n",
        "\n",
        "import findspark\n",
        "from awsglue.context import GlueContext\n",
        "from pyspark.context import SparkContext\n",
        "from awsglue.dynamicframe import DynamicFrame\n",
        "from pyspark.sql.functions import split, explode, monotonically_increasing_id\n",
        "\n",
        "findspark.init()\n",
        "sc = SparkContext()\n",
        "glueContext = GlueContext(sc)\n",
        "spark = glueContext.spark_session\n",
        "spark"
      ]
    },
    {
      "cell_type": "markdown",
      "source": [
        "## 1 Extracción"
      ],
      "metadata": {
        "id": "f42m4ww00wIY"
      }
    },
    {
      "cell_type": "markdown",
      "source": [
        "En esta sección, extraemos los datasets de la fuente y los leemos como un DataFrame de PySpark."
      ],
      "metadata": {
        "id": "RnM8Dls40ytF"
      }
    },
    {
      "cell_type": "code",
      "source": [
        "# Ruta al archivo JSON checkin\n",
        "file_path = '/content/drive/MyDrive/data/raw/yelp/checkin.json'"
      ],
      "metadata": {
        "id": "LttGHP981vuD"
      },
      "execution_count": null,
      "outputs": []
    },
    {
      "cell_type": "code",
      "source": [
        "# Lee el archivo JSON localmente con PySpark\n",
        "df = spark.read.json(file_path)"
      ],
      "metadata": {
        "id": "svCYn1oz2AhD"
      },
      "execution_count": null,
      "outputs": []
    },
    {
      "cell_type": "markdown",
      "source": [
        "## 2 Transformación"
      ],
      "metadata": {
        "id": "naOeIpxO919e"
      }
    },
    {
      "cell_type": "markdown",
      "source": [
        "En esta sección, realizamos la limpieza inicial de los datos y las transformaciones necesarias. Esto puede incluir la creación de nuevas columnas  la eliminación de duplicados o columnas innecesarias, la gestión de valores nulos o la corrección de tipos de datos."
      ],
      "metadata": {
        "id": "ua1qTRsQ93hZ"
      }
    },
    {
      "cell_type": "code",
      "source": [
        "# Divide la columna 'date' en una lista de fechas\n",
        "df = df.withColumn('date', split(df['date'], ', '))"
      ],
      "metadata": {
        "id": "FAOVb0oG5Su9"
      },
      "execution_count": null,
      "outputs": []
    },
    {
      "cell_type": "code",
      "source": [
        "# Convierte la lista de fechas en filas separadas\n",
        "df = df.withColumn('date', explode(df['date']))"
      ],
      "metadata": {
        "id": "Im0j8a0w6Dsq"
      },
      "execution_count": null,
      "outputs": []
    },
    {
      "cell_type": "code",
      "source": [
        "# Convierte la columna 'date' al formato datetime\n",
        "df = df.withColumn('date', df['date'].cast('timestamp'))"
      ],
      "metadata": {
        "id": "wplFVIqo5WYT"
      },
      "execution_count": null,
      "outputs": []
    },
    {
      "cell_type": "code",
      "source": [
        "# Ordena el DataFrame por 'business_id' y 'date'\n",
        "df = df.orderBy('date')"
      ],
      "metadata": {
        "id": "xJvgBUPA6bdE"
      },
      "execution_count": null,
      "outputs": []
    },
    {
      "cell_type": "code",
      "source": [
        "# Agrega una columna 'checkin_id' con un ID único para cada registro\n",
        "df = df.withColumn('checkin_id', monotonically_increasing_id())"
      ],
      "metadata": {
        "id": "Cu0SOdx-63Gg"
      },
      "execution_count": null,
      "outputs": []
    },
    {
      "cell_type": "code",
      "source": [
        "# Reordena las columnas\n",
        "df = df.select('checkin_id', 'business_id', 'date')"
      ],
      "metadata": {
        "id": "giaNOREW8Qrv"
      },
      "execution_count": null,
      "outputs": []
    },
    {
      "cell_type": "code",
      "source": [
        "df.show()"
      ],
      "metadata": {
        "colab": {
          "base_uri": "https://localhost:8080/"
        },
        "id": "Td6Al7sB5kPn",
        "outputId": "ea96feb3-f531-4338-b315-843712bf44af"
      },
      "execution_count": null,
      "outputs": [
        {
          "output_type": "stream",
          "name": "stdout",
          "text": [
            "+----------+--------------------+-------------------+\n",
            "|checkin_id|         business_id|               date|\n",
            "+----------+--------------------+-------------------+\n",
            "|         0|jm_6bIhR_TuciFIk5...|2009-12-30 02:53:27|\n",
            "|         1|yEKmlxvhA2EWrMLbw...|2009-12-31 00:18:24|\n",
            "|         2|TRxR32_T_7Ly_RW4K...|2010-01-16 00:36:59|\n",
            "|         3|OzoE9NH0xjhfsVMc7...|2010-01-16 01:15:27|\n",
            "|         4|7lwe7n-Yc-V9E_HfL...|2010-01-16 02:12:05|\n",
            "|         5|qDheewhaZNDWLfpsr...|2010-01-16 02:12:19|\n",
            "|         6|QYni15AsaQ8F20jEk...|2010-01-16 02:25:21|\n",
            "|         7|cdIZWzfLzU8AAnS0r...|2010-01-16 02:56:02|\n",
            "|         8|frkdRWMpN70bO3jFW...|2010-01-16 03:45:04|\n",
            "|         9|32exKYuOUcXARWrhv...|2010-01-16 03:52:21|\n",
            "|        10|RHdIW62cidKmRIjxM...|2010-01-16 03:56:53|\n",
            "|        11|pDyhy6j_QMhP69wLm...|2010-01-16 04:08:09|\n",
            "|        12|s2JiYzE7i68cXIV6Y...|2010-01-16 04:14:00|\n",
            "|        13|aM3gFY8Eq2KJuvNBl...|2010-01-16 04:21:18|\n",
            "|        14|PY9GRfzr4nTZeINf3...|2010-01-16 05:02:18|\n",
            "|        15|DQOLYljad7wQnMsS8...|2010-01-16 05:05:38|\n",
            "|        16|zCuTt_dSarLqFu6iL...|2010-01-16 05:24:16|\n",
            "|        17|g2JHAYFX2tOJubMHS...|2010-01-16 05:42:27|\n",
            "|        18|XMIVTppnfHtN-_ZsQ...|2010-01-16 05:45:04|\n",
            "|        19|oVJIqlBcEGEl2nQ9l...|2010-01-16 05:46:41|\n",
            "+----------+--------------------+-------------------+\n",
            "only showing top 20 rows\n",
            "\n"
          ]
        }
      ]
    },
    {
      "cell_type": "markdown",
      "source": [
        "## 3. Carga"
      ],
      "metadata": {
        "id": "hNxMjfag9hma"
      }
    },
    {
      "cell_type": "markdown",
      "source": [
        "Finalmente, en esta sección cargamos nuestros datos transformados en formato parquet a su destino correspondiente."
      ],
      "metadata": {
        "id": "o-OnEMti-i2z"
      }
    },
    {
      "cell_type": "markdown",
      "source": [
        "### Google Drive"
      ],
      "metadata": {
        "id": "SzJbsgYb-qGn"
      }
    },
    {
      "cell_type": "code",
      "source": [
        "# Ruta al archivo Parquet local\n",
        "file_path = '/content/drive/MyDrive/data/cleaned/yelp/checkin.parquet'\n",
        "\n",
        "# Escribe el DataFrame a un archivo Parquet localmente\n",
        "df.write.parquet(file_path)\n"
      ],
      "metadata": {
        "id": "t9PEpRX09gVl"
      },
      "execution_count": null,
      "outputs": []
    },
    {
      "cell_type": "markdown",
      "source": [
        "### S3"
      ],
      "metadata": {
        "id": "0piDPdCm-wRZ"
      }
    },
    {
      "cell_type": "code",
      "source": [
        "# Convierte el DataFrame de Spark a un DynamicFrame de Glue\n",
        "dyf = DynamicFrame.fromDF(df, glueContext, \"dynamic_frame\")"
      ],
      "metadata": {
        "id": "zkDYn1K-2Dr3"
      },
      "execution_count": null,
      "outputs": []
    },
    {
      "cell_type": "code",
      "source": [
        "# Escribe el DynamicFrame a S3 en formato Parquet\n",
        "glueContext.write_dynamic_frame.from_options(\n",
        "    frame = dyf,\n",
        "    connection_type = \"s3\",\n",
        "    connection_options = {\"path\": \"s3://ruta/al/bucket\"},\n",
        "    format = \"parquet\"\n",
        ")"
      ],
      "metadata": {
        "id": "xRDUuquA-4gx"
      },
      "execution_count": null,
      "outputs": []
    }
  ]
}