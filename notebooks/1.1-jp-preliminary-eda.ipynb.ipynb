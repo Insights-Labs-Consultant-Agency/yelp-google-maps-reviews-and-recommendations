{
  "nbformat": 4,
  "nbformat_minor": 0,
  "metadata": {
    "colab": {
      "provenance": []
    },
    "kernelspec": {
      "name": "python3",
      "display_name": "Python 3"
    },
    "language_info": {
      "name": "python"
    }
  },
  "cells": [
    {
      "cell_type": "markdown",
      "source": [],
      "metadata": {
        "id": "3RXh6CFp4v9z"
      }
    },
    {
      "cell_type": "code",
      "execution_count": 2,
      "metadata": {
        "colab": {
          "base_uri": "https://localhost:8080/"
        },
        "id": "-l0d8DZneUBV",
        "outputId": "23c56306-a20a-48e1-d3c7-ca4661bab05b"
      },
      "outputs": [
        {
          "output_type": "stream",
          "name": "stdout",
          "text": [
            "Mounted at /content/drive\n"
          ]
        }
      ],
      "source": [
        "#Se conecta Google Colaboratory con Google Drive\n",
        "from google.colab import drive\n",
        "drive.mount('/content/drive')"
      ]
    },
    {
      "cell_type": "code",
      "source": [
        "#Instala pyspark en Google Colaboratory\n",
        "!pip install pyspark"
      ],
      "metadata": {
        "colab": {
          "base_uri": "https://localhost:8080/"
        },
        "id": "F_EC4DAdBKtq",
        "outputId": "91411de5-a351-486f-d7c1-6ac5f3b1accf"
      },
      "execution_count": 3,
      "outputs": [
        {
          "output_type": "stream",
          "name": "stdout",
          "text": [
            "Collecting pyspark\n",
            "  Downloading pyspark-3.5.0.tar.gz (316.9 MB)\n",
            "\u001b[2K     \u001b[90m━━━━━━━━━━━━━━━━━━━━━━━━━━━━━━━━━━━━━━━━\u001b[0m \u001b[32m316.9/316.9 MB\u001b[0m \u001b[31m1.5 MB/s\u001b[0m eta \u001b[36m0:00:00\u001b[0m\n",
            "\u001b[?25h  Preparing metadata (setup.py) ... \u001b[?25l\u001b[?25hdone\n",
            "Requirement already satisfied: py4j==0.10.9.7 in /usr/local/lib/python3.10/dist-packages (from pyspark) (0.10.9.7)\n",
            "Building wheels for collected packages: pyspark\n",
            "  Building wheel for pyspark (setup.py) ... \u001b[?25l\u001b[?25hdone\n",
            "  Created wheel for pyspark: filename=pyspark-3.5.0-py2.py3-none-any.whl size=317425345 sha256=15770e560dec868541c78da78ece7108eb34be78e8e077b0ca59a4a0578b0e40\n",
            "  Stored in directory: /root/.cache/pip/wheels/41/4e/10/c2cf2467f71c678cfc8a6b9ac9241e5e44a01940da8fbb17fc\n",
            "Successfully built pyspark\n",
            "Installing collected packages: pyspark\n",
            "Successfully installed pyspark-3.5.0\n"
          ]
        }
      ]
    },
    {
      "cell_type": "code",
      "source": [
        "#Se importan las librerias\n",
        "import pandas as pd\n",
        "import numpy as np\n",
        "import ast\n",
        "import json\n",
        "import pickle\n",
        "from pyspark.sql import SparkSession\n",
        "from pyspark.sql.functions import col, from_json, explode, sum,expr\n",
        "from pyspark.sql.types import StructType, StructField, StringType, IntegerType\n"
      ],
      "metadata": {
        "id": "kchzfryFffl_"
      },
      "execution_count": 4,
      "outputs": []
    },
    {
      "cell_type": "code",
      "source": [
        "spark = SparkSession.builder.appName(\"LecturaDeArchivos\").getOrCreate()"
      ],
      "metadata": {
        "id": "K1JKSy-ZCTbF"
      },
      "execution_count": 5,
      "outputs": []
    },
    {
      "cell_type": "code",
      "source": [
        "#Se cargan los archivos de la carpeta metadata-sitios y se compilan en un solo DataFrame\n",
        "\n",
        "metadata_sitios=[]\n",
        "\n",
        "for i in range(1,12):\n",
        "\n",
        "\n",
        "    archivo = spark.read.json(f\"/content/drive/My Drive/Google Maps/metadata-sitios/{i}.json\")\n",
        "\n",
        "    archivo = archivo.withColumn(\"MISC\", col(\"MISC\").cast(\"string\"))\n",
        "\n",
        "    metadata_sitios.append(archivo)\n",
        "\n",
        "df_final = metadata_sitios[0]\n",
        "\n",
        "for dataframe in metadata_sitios[1:]:\n",
        "\n",
        "  df_final = df_final.unionByName(dataframe)\n",
        "\n",
        "\n",
        "metadata_sitios=df_final"
      ],
      "metadata": {
        "id": "3Nqg6JYzC4IT"
      },
      "execution_count": 6,
      "outputs": []
    },
    {
      "cell_type": "code",
      "source": [
        "metadata_sitios.show()"
      ],
      "metadata": {
        "colab": {
          "base_uri": "https://localhost:8080/"
        },
        "id": "XU0CTX1Yz9eO",
        "outputId": "8f74bd89-8764-4f79-cc4c-6f63ad8be392"
      },
      "execution_count": 7,
      "outputs": [
        {
          "output_type": "stream",
          "name": "stdout",
          "text": [
            "+--------------------+--------------------+----------+--------------------+--------------------+--------------------+--------------------+------------------+-------------------+--------------------+--------------+-----+--------------------+--------------------+--------------------+\n",
            "|                MISC|             address|avg_rating|            category|         description|             gmap_id|               hours|          latitude|          longitude|                name|num_of_reviews|price|    relative_results|               state|                 url|\n",
            "+--------------------+--------------------+----------+--------------------+--------------------+--------------------+--------------------+------------------+-------------------+--------------------+--------------+-----+--------------------+--------------------+--------------------+\n",
            "|{[Wheelchair acce...|Porter Pharmacy, ...|       4.9|          [Pharmacy]|                NULL|0x88f16e41928ff68...|[[Friday, 8AM–6PM...|           32.3883|           -83.3571|     Porter Pharmacy|            16| NULL|[0x88f16e41929435...|   Open ⋅ Closes 6PM|https://www.googl...|\n",
            "|                NULL|City Textile, 300...|       4.5|  [Textile exporter]|                NULL|0x80c2c98c0e3c16f...|                NULL|        34.0188913|       -118.2152898|        City Textile|             6| NULL|[0x80c2c624136ea8...|            Open now|https://www.googl...|\n",
            "|{[Wheelchair acce...|San Soo Dang, 761...|       4.4| [Korean restaurant]|                NULL|0x80c2c778e3b73d3...|[[Thursday, 6:30A...|        34.0580917|       -118.2921295|        San Soo Dang|            18| NULL|[0x80c2c78249aba6...|   Open ⋅ Closes 6PM|https://www.googl...|\n",
            "|{null, null, null...|Nova Fabrics, 220...|       3.3|      [Fabric store]|                NULL|0x80c2c89923b27a4...|[[Thursday, 9AM–5...|        34.0236689|       -118.2329297|        Nova Fabrics|             6| NULL|[0x80c2c881147725...|   Open ⋅ Closes 5PM|https://www.googl...|\n",
            "|{null, null, null...|Nobel Textile Co,...|       4.3|      [Fabric store]|                NULL|0x80c2c632f933b07...|[[Thursday, 9AM–5...|        34.0366942|       -118.2494208|    Nobel Textile Co|             7| NULL|[0x80c2c62c496083...|   Open ⋅ Closes 5PM|https://www.googl...|\n",
            "|{[Wheelchair acce...|Matrix Internatio...|       3.5|      [Fabric store]|                NULL|0x80c2cf163db6bc8...|[[Thursday, 8:30A...|        34.0155047|       -118.1818394|Matrix Internatio...|             6| NULL|[0x80c2cf042a5d95...|Open ⋅ Closes 5:30PM|https://www.googl...|\n",
            "|{[Wheelchair acce...|Vons Chicken, 127...|       4.5|        [Restaurant]|                NULL|0x80dd2b4c8555edb...|[[Thursday, 11AM–...|        33.9164023|-118.01085499999999|        Vons Chicken|            18| NULL|                NULL|Open ⋅ Closes 9:30PM|https://www.googl...|\n",
            "|{[Wheelchair acce...|Polished Nail Sal...|       4.0|[Nail salon, Waxi...|                NULL|0x87ec238afdd8837...|[[Thursday, 9AM–8...|41.614197999999995|        -93.8472695|Polished Nail Sal...|            86| NULL|[0x87ec2481df68e1...|   Open ⋅ Closes 8PM|https://www.googl...|\n",
            "|{null, null, null...|Sweet Rewards Glu...|       4.7|[Bakery, Health f...|                NULL|0x87ec235c54d25b3...|[[Thursday, 10AM–...|         41.616079|         -93.865487|Sweet Rewards Glu...|            21| NULL|[0x87ee9748692955...|  Permanently closed|https://www.googl...|\n",
            "|                NULL|                NULL|       5.0|[Greeting card sh...|                NULL|0x87ee85ac3cb23b4...|[[Thursday, 7AM–8...|         41.846035|        -93.7561175|           PeepNotes|             1| NULL|[0x87ee915d9604ea...|   Open ⋅ Closes 8PM|https://www.googl...|\n",
            "|{[Wheelchair acce...|Lush Family Denta...|       5.0|[Dentist, Cosmeti...|                NULL|0x87ec2394c2cd9d2...|[[Thursday, 7AM–4...|        41.5852916|        -93.8551126|  Lush Family Dental|           178| NULL|[0x87ec2482098b66...|   Open ⋅ Closes 4PM|https://www.googl...|\n",
            "|{[Wheelchair acce...|515 Auto Shades, ...|       5.0|[Auto glass shop,...|                NULL|0x87ee95d1e474531...|[[Thursday, 9AM–6...|         41.606082|        -93.4986302|     515 Auto Shades|            28| NULL|                NULL|   Open ⋅ Closes 6PM|https://www.googl...|\n",
            "|{[Wheelchair acce...|Lena’s Beauty Nai...|       4.2|      [Beauty salon]|                NULL|0x87ec2481df6626b...|[[Thursday, 9AM–7...|        41.6163101|         -93.858345|Lena’s Beauty Nai...|           128| NULL|[0x87ec20ce836cac...|   Open ⋅ Closes 7PM|https://www.googl...|\n",
            "|{[Wheelchair acce...|Black Tie Ski Ren...|       5.0|[Ski rental servi...|                NULL|0x80960c29f2e3bf2...|[[Thursday, 8AM–5...|37.638754399999996|-118.96605509999999|Black Tie Ski Ren...|            34| NULL|[0x80960dcd6ba767...|   Open ⋅ Closes 5PM|https://www.googl...|\n",
            "|{[Wheelchair acce...|NTK OUTDOOR, 2315...|       5.0|  [Corporate office]|                NULL|0x88d9beb4fe0532c...|[[Thursday, 9AM–6...|        25.7952041|        -80.3660381|         NTK OUTDOOR|            35| NULL|[0x88d9bfd49a624c...|   Open ⋅ Closes 6PM|https://www.googl...|\n",
            "|                NULL|Angel-A Massage, ...|       4.3|[Massage spa, Chi...|                NULL|0x809adef58ae560b...|[[Thursday, 9:30A...|        38.6626297|       -121.3086388|     Angel-A Massage|             6| NULL|[0x809adee9ac6f1b...|Open ⋅ Closes 9:30PM|https://www.googl...|\n",
            "|{[Wheelchair acce...|Dunn-Edwards Pain...|       4.7|[Paint store, Pai...|Chain selling int...|0x809b1ff6d3a60c4...|[[Thursday, 6:30A...|        38.7434619|       -121.2587612| Dunn-Edwards Paints|            26| NULL|[0x809b201630f908...|   Open ⋅ Closes 5PM|https://www.googl...|\n",
            "|                NULL|Elite Massage, 81...|       5.0| [Massage therapist]|                NULL|0x809ae0a7ce91433...|                NULL|        38.6649155|       -121.2601916|       Elite Massage|             1| NULL|[0x809ade27605def...|                NULL|https://www.googl...|\n",
            "|{[Wheelchair acce...|PODS Sacramento H...|       4.0|  [Corporate office]|                NULL|0x809ad95924805cf...|                NULL|         38.658994|       -121.4129579| PODS Sacramento Hub|             8| NULL|[0x809ad8fc85a035...|            Open now|https://www.googl...|\n",
            "|{[Wheelchair acce...|Happy Spa & Massa...|       2.7|[Massage therapis...|                NULL|0x809b217a6cbe4fa...|[[Thursday, 9:30A...|        38.7855482|       -121.2868859|Happy Spa & Massa...|             8| NULL|[0x809b20410d8df0...|  Open ⋅ Closes 10PM|https://www.googl...|\n",
            "+--------------------+--------------------+----------+--------------------+--------------------+--------------------+--------------------+------------------+-------------------+--------------------+--------------+-----+--------------------+--------------------+--------------------+\n",
            "only showing top 20 rows\n",
            "\n"
          ]
        }
      ]
    },
    {
      "cell_type": "markdown",
      "source": [
        "Comenzamos a analizar este DataFrame sobre los diferentes negocios en los Estados Unidos, entre los datos podemos encontrar diferentes categorías como farmacias, restaurantes, cafeterias, gimnasios,... etc. Para nuestro proyecto es importante enfocarnos en el sector gastronómico, sin embargo en este Análisis de datos preliminar abarcaré el estudio de la calidad de los datos en general. En primera instancia, no tenemos una columna que indique explícitamente el Estado en el que se encuentra el negocio, sin embargo a futuro podemos construir una función que nos proporcione ese dato a partir de las coordenadas.\n",
        "\n",
        "Comenzamos contando el número de registros de nuestro dataset para tener una dimensión del conjunto de datos que manejamos: 3025011. Ahora es importante conocer qué cantidad de datos faltan en cada columna para saber si es proporcionalmente admisible.\n",
        "\n"
      ],
      "metadata": {
        "id": "3fvdQNTX5zpt"
      }
    },
    {
      "cell_type": "code",
      "source": [
        "#Muestra el número de filas del DataFrame\n",
        "metadata_sitios.count()"
      ],
      "metadata": {
        "colab": {
          "base_uri": "https://localhost:8080/"
        },
        "id": "DPddBeqt8Ra1",
        "outputId": "92cf8e4a-8854-4e3f-df6f-73adbed8a466"
      },
      "execution_count": 8,
      "outputs": [
        {
          "output_type": "execute_result",
          "data": {
            "text/plain": [
              "3025011"
            ]
          },
          "metadata": {},
          "execution_count": 8
        }
      ]
    },
    {
      "cell_type": "code",
      "source": [
        "# Cuenta el número de nulos en cada columna\n",
        "\n",
        "def conteo_nulos(dataframe):\n",
        "  conteo_nulos_por_columna = dataframe.agg(*[sum(col(c).isNull().cast(\"int\")).alias(c) for c in dataframe.columns])\n",
        "\n",
        "  # Muestra el resultado\n",
        "  conteo_nulos_por_columna.show()"
      ],
      "metadata": {
        "id": "P1Bhm9EN7T5F"
      },
      "execution_count": 9,
      "outputs": []
    },
    {
      "cell_type": "code",
      "source": [
        "conteo_nulos(metadata_sitios)"
      ],
      "metadata": {
        "colab": {
          "base_uri": "https://localhost:8080/"
        },
        "id": "wTSLUHBUlFVW",
        "outputId": "bc11fe56-01d1-4811-b5f4-febaefbdd443"
      },
      "execution_count": 10,
      "outputs": [
        {
          "output_type": "stream",
          "name": "stdout",
          "text": [
            "+------+-------+----------+--------+-----------+-------+------+--------+---------+----+--------------+-------+----------------+------+---+\n",
            "|  MISC|address|avg_rating|category|description|gmap_id| hours|latitude|longitude|name|num_of_reviews|  price|relative_results| state|url|\n",
            "+------+-------+----------+--------+-----------+-------+------+--------+---------+----+--------------+-------+----------------+------+---+\n",
            "|690834|  80511|         0|   17419|    2770722|      0|787405|       0|        0|  37|             0|2749808|          295058|746455|  0|\n",
            "+------+-------+----------+--------+-----------+-------+------+--------+---------+----+--------------+-------+----------------+------+---+\n",
            "\n"
          ]
        }
      ]
    },
    {
      "cell_type": "markdown",
      "source": [
        "Como se puede observar los campos 'description' y 'price' tienen demasiados datos nulos en proporción al total de registros como para ser siquiera considerados. También otras columnas como 'state' y 'MISC' no son de relevancia para nuestro estudio, pero esto se analizará más adelante cuando tengamos que hacer el ETL y normalizar los Datasets.\n",
        "\n",
        "Ahora nos interesa conocer las categorías de negocio en específico que contienen nuestros datos."
      ],
      "metadata": {
        "id": "zDFWHMz5_7tH"
      }
    },
    {
      "cell_type": "code",
      "source": [
        "# Explota la columna 'category' y obtiene elementos únicos\n",
        "categorias_sin_duplicados = metadata_sitios.select(explode(\"category\").alias(\"categoria\")).distinct()\n",
        "\n",
        "# Colecta los resultados en una lista\n",
        "lista_categorias_sin_duplicados = [row.categoria for row in categorias_sin_duplicados.collect()]\n",
        "\n",
        "# Muestra la lista resultante\n",
        "print(\"Categorías sin duplicados:\", lista_categorias_sin_duplicados)\n",
        "\n",
        "# Muestra cuantas categorías hay en total\n",
        "\n",
        "print(\"El número de categorías es: \", len(lista_categorias_sin_duplicados))\n",
        "\n",
        "#Ahora voy a contar cuantas de esas categorías son de restaurantes\n",
        "\n",
        "contador=0\n",
        "\n",
        "for elemento in lista_categorias_sin_duplicados:\n",
        "\n",
        "  if 'restaurant' in elemento:\n",
        "\n",
        "    contador+=1\n",
        "\n",
        "print(f\"Los restaurantes abarcan el {round(contador*100/len(lista_categorias_sin_duplicados),2)}% de las categorías\")\n"
      ],
      "metadata": {
        "colab": {
          "base_uri": "https://localhost:8080/"
        },
        "id": "JetSxh3aCnzH",
        "outputId": "c008d019-4b94-4cdc-8f18-f0e092143503"
      },
      "execution_count": 14,
      "outputs": [
        {
          "output_type": "stream",
          "name": "stdout",
          "text": [
            "Categorías sin duplicados: ['Art gallery', 'Dry wall contractor', 'Sports massage therapist', 'Tile store', 'Basketball club', 'Leather coats store', 'Public relations firm', 'Central American restaurant', 'Taxicab Stand', 'Wedding dress rental service', 'Data entry service', 'Debt collecting', 'Law book store', 'Gardening products and services', 'Deck builder', 'Professional organizer', 'Textile mill', 'Racquetball club', 'RV dealer', 'Water works equipment supplier', 'Mental health', 'Curtain supplier and maker', 'Timeshare agency', 'Dog cafe', 'Pony ride service', 'Fruits wholesaler', 'Gasket manufacturer', 'Archaeological site', 'Mobile home park', 'Emergency room', 'Landscape lighting designer', 'Plastic surgeon', 'Gay bar', 'Data recovery service', 'Wedding bakery', 'Market', 'Salvage dealer', 'Services', 'Mercedes-Benz dealer', 'Mens tailor', 'Orthodox church', 'Computer accessories store', 'Educational testing service', 'Haunted house', 'Haute couture fashion house', 'Olive oil manufacturer', 'National health foundation', 'Apartment rental agency', 'Cardiologist', 'Pet boarding service', 'Surgical center', 'Rehabilitation center', 'Tack shop', 'Airline ticket agency', 'Environmental organization', 'Curtain store', 'Golf driving range', 'Dessert restaurant', 'Astrologer', 'Wine wholesaler and importer', 'Tower communication service', 'Low income housing program', 'Archive', 'Equestrian club', 'Pinball machine supplier', 'Farmstay', 'Marine surveyor', 'Water skiing instructor', 'Hearing aid repair service', 'Rock shop', 'Salvage yard', 'Design agency', 'Endocrinologist', 'Frozen food store', 'Electronics manufacturer', 'Sports club', 'Language school', 'Electronics accessories wholesaler', 'Office refurbishment service', 'Sports equipment rental service', 'Military recruiting office', 'Cosmetics and perfumes supplier', 'Used musical instrument store', 'Playgroup', 'Property administrator', 'Staffing agency', 'PVC industry', 'Korean restaurant', 'Machining manufacturer', 'Hot tub store', 'Handyman', 'Vocational school', 'Cafeteria', 'Business banking service', 'Motorcycle dealer', 'Gas installation service', 'Athletic field', 'Water', 'Brunch restaurant', 'Organic restaurant', 'Luggage repair service', 'Aquarium shop', 'Media house', 'Fabrication engineer', 'Recreation', 'Beach entertainment shop', 'Fortress', 'Freestyle wrestling', 'Glass etching service', 'Mehndi designer', 'Boot repair shop', 'Consumer advice center', 'Emergency call booth', 'Instrumentation engineer', 'Fabric store', 'Waxing hair removal service', 'Financial audit', 'Church of the Nazarene', 'Photo lab', 'Fence contractor', 'Cremation service', 'Millwork shop', 'Nursery school', 'Harbor', 'Disability services & support organisation', 'Piano tuning service', 'Scaffolding rental service', 'Gourmet grocery store', 'Aluminum supplier', 'Alcohol retail monopoly', 'Armed forces association', 'Elementary school', 'Shredding service', 'Labor union', 'Logistics service', 'Motel', 'Law firm', 'Telecommunications contractor', 'Hospital department', 'Allergist', 'Department store', 'Parasailing ride service', 'Yarn store', 'Hospital equipment and supplies', 'Furniture repair shop', 'Food bank', 'Forklift rental service', 'Education', 'Moving supply store', 'Self-storage facility', 'Golf shop', 'Library', 'Board of education', 'Goldsmith', 'Inn', 'Aerospace company', 'Violin shop', 'Divorce service', 'Clock repair service', 'Animal protection organization', \"Children's museum\", 'Kitchen', 'Trucking company', 'Wellness center', 'Contractor', 'Outdoor sports store', 'Golf instructor', 'Guitar store', 'Business school', 'Road construction machine repair service', 'Residential area', 'Russian restaurant', 'Massage therapist', 'Arboretum', 'Stationery store', 'Pizza restaurant', 'Musical instrument store', 'Golf cart dealer', 'Piano store', 'Trucking', 'Railroad company', 'Cuban restaurant', 'Resume service', 'Festival hall', 'Ice skating instructor', 'Parking', 'Drafting equipment supplier', 'Handicraft museum', 'Bookmaker', 'Payroll service', 'Bank', 'Movie rental kiosk', 'Auto body shop', 'Police department', 'Research and product development', 'Otolaryngology clinic', 'BBQ area', 'Industrial chemicals wholesaler', 'Soba noodle shop', 'Residents association', 'Wheelchair repair service', 'Image consultant', 'Electronics store', 'Car accessories store', 'Discount store', 'Door shop', 'Heating oil supplier', 'Plasterer', 'Hematologist', 'Auto window tinting service', 'Boxing ring', 'Rapids', 'Key duplication service', 'Wedding venue', 'Marketing agency', 'Computer security service', 'Airport shuttle service', 'Funeral director', 'Aquarium', 'Bag shop', 'Livestock auction house', 'Boat tour agency', 'Yacht club', 'Apartments', 'Social security office', 'Video conferencing service', 'Dance restaurant', 'Lagoon', 'Drone shop', 'Bakery', 'Home improvement store', 'Indoor cycling', 'Log cabins', 'Flower designer', 'Basketball court', 'Retirement community', 'Drama school', 'Housing complex', 'Resort hotel', 'Glass manufacturer', 'Athletic track', 'Bottle & can redemption center', 'Greek restaurant', 'Beach clothing store', 'Bookbinder', 'Land Rover dealer', 'Orthoptist', 'Chemistry lab', 'Tyre manufacturer', 'Landscaper', 'Bar', 'Outdoor furniture store', 'Sand & gravel supplier', 'Condominium complex', 'Orthopedic surgeon', 'Law school', 'Estate liquidator', 'Oil store', 'Metal services', 'Tool manufacturer', 'Sunroom contractor', 'Food manufacturer', 'Fraternal organization', 'District Justice', 'Video duplication service', 'Vending machine supplier', 'Local medical services', 'Diabetes center', 'Paralegal services provider', 'General store', 'Fire protection consultant', 'Career guidance service', 'Train depot', 'Stove builder', 'Domestic airport', 'Golf', 'Perinatal center', 'Hypermarket', 'Bicycle repair shop', 'Auto body parts supplier', 'Facial spa', 'Music instructor', 'Liquidator', 'Specialized clinic', 'Bridal shop', 'Bowling alley', 'Food', 'Lymph drainage therapist', 'Doll store', 'Tropical fish store', 'Parish', 'Income tax help association', 'Parkour spot', 'Photo booth', 'Marriage celebrant', 'Insurance broker', 'Football Field', 'Event venue', 'State government office', 'Mobile disco', 'Medical spa', 'Laser hair removal service', 'Beer distributor', 'Temp agency', 'Employment search service', 'Cemetery', 'Turf supplier', 'Public works department', 'Lapidary', 'Batting cage center', 'Geotechnical engineer', 'Amateur theater', 'Oriental medicine store', 'Sporting goods store', 'Fax service', 'Pet store', 'Bed shop', 'Ice cream shop', 'Catholic church', 'Scrap metal dealer', 'Tractor dealer', 'Vegetarian restaurant', 'Marine supply store', 'Public female bathroom', 'Beauty products wholesaler', 'Swimwear store', 'Piano instructor', 'Flavours fragrances and aroma supplier', 'Rock climbing gym', 'Dance club', 'Childrens book store', 'Dairy store', 'Training centre', 'Training school', 'Marriage or relationship counselor', 'Nutritionist', 'Food service', 'Shoe store', 'Coin dealer', 'Game store', 'Gluten-free restaurant', 'Corporate campus', 'Catering food and drink supplier', 'Handicapped transportation service', 'Massage school', 'Subaru dealer', 'Photography class', 'Chamber of handicrafts', 'Skydiving center', 'Immigration detention centre', 'Endoscopist', 'Truck rental agency', 'Mailbox rental service', 'Thrift store', 'Dominican restaurant', 'Diesel engine repair service', 'Siding contractor', 'Commercial cleaning service', 'Entertainment', 'University department', 'Airplane', 'Auction house', 'Mexican goods store', 'Bouncy castle hire', 'Construction machine dealer', 'German restaurant', 'Glazier', 'Propeller shop', 'Tapas bar', 'Holiday accommodation service', 'Wax supplier', 'War memorial', 'Baseball goods store', 'Clock watch maker', 'Cake decorating equipment shop', 'Locksmith', 'Craft store', 'Sculpture', 'Wesleyan church', 'ATV repair shop', 'License bureau', 'Running store', 'Theater company', 'Pond supply store', 'Bonsai plant supplier', 'Childrens store', 'Hair replacement service', 'Tile manufacturer', 'Soup shop', 'Auto tag agency', 'Computer hardware manufacturer', 'Convention information bureau', 'Swimming', 'Office space rental agency', 'Abrasives supplier', 'Banquet hall', 'Tattoo removal service', 'Soil testing service', 'Public university', 'Movie rental', 'Forestry office', 'Modular home dealer', 'Pottery manufacturer', 'Builder', 'Hay supplier', 'Cricket ground', 'Massage spa', 'Convention center', 'Bed & breakfast', 'Auto machine shop', 'Awning supplier', 'Bearing supplier', 'Legal services', 'Creole restaurant', 'Movie studio', 'Drug testing service', 'Real estate school', 'Kosher restaurant', 'Musician', 'Stamp shop', 'Vascular surgeon', 'Wholesaler household appliances', 'Plastic fabrication company', 'Theater production', 'Contemporary Louisiana restaurant', 'Genealogist', 'Ski repair service', 'Liquor wholesaler', 'Japanese curry restaurant', 'Pueblan restaurant', 'Bedroom furniture store', 'Truck accessories store', 'Paint stripping company', 'Community center', 'Meditation center', 'Endodontist', \"Women's health clinic\", 'Medical diagnostic imaging center', 'Government office', 'Home audio store', 'Jewelry engraver', 'Racing car parts store', 'Senior high school', 'Art', 'Cold noodle restaurant', 'Bingo hall', 'Car alarm supplier', 'Irish restaurant', 'Mobile network operator', 'Friends church', 'Information bureau', 'Precision engineer', 'Pottery', 'Solar photovoltaic power plant', 'Continental restaurant', 'Bus stop', 'Welder', 'Volunteer organization', 'Boat cover supplier', 'ATV rental service', 'GPS supplier', 'Pond', 'Attorney referral service', 'Apostolic church', 'Wellness hotel', 'Glass cutting service', 'Craniosacral therapy', 'Scientific equipment supplier', 'Confectionery', 'Metropolitan train company', 'Video', 'Crop grower', 'TB clinic', 'Motorcycle insurance agency', 'Hair salon', 'Consignment shop', 'Farm', 'Bedding store', 'Animal control service', 'Garage builder', 'Investment service', 'Mosque', 'Dry wall supply store', 'Lighting contractor', 'Carriage ride service', 'Water pump supplier', 'Helicopter charter', 'Room agency', 'Blast cleaning service', \"Women's organization\", 'Drama theater', 'Dam', 'Gas shop', 'Confectionery wholesaler', 'Child psychiatrist', 'Pantry', 'Neurosurgeon', 'Copy shop', \"Sheriff's department\", 'Seed supplier', 'Battery store', 'Oil refinery', 'Protestant church', 'Church supply store', 'Gospel church', 'Chapel', 'Insurance', 'CNG fittment center', 'Motocross', 'Infiniti dealer', 'Horsestable studfarm', 'Orchid farm', 'Reiki therapist', 'Criminal justice attorney', 'Swimming pool supply store', 'Auto tune up service', 'Donut shop', 'Housing authority', 'Public bathroom', 'Silversmith', 'Movie theater', 'Steel erector', 'Skate sharpening service', 'Indoor playground', 'Quarry', 'Sauna', 'University hospital', 'Archery club', 'Chinese language instructor', 'Port', 'Mountaineering class', 'Exhibition and trade centre', 'Spa', 'Tire shop', 'ATM', 'Tourist attraction', 'Ophthalmologist', 'Dental radiology', 'Herb shop', 'Pub', 'Dive shop', 'Antique furniture restoration service', 'Security', 'Pan-Asian restaurant', 'Homeopathic pharmacy', 'Land surveying office', 'Jaguar dealer', 'Rehearsal studio', 'Table tennis supply store', 'Sexologist', 'MINI dealer', 'Mattress store', 'Conference center', 'Speech pathologist', 'Container terminal', 'Beauty supply store', 'Plastic wholesaler', 'County government office', 'Playground', 'Night club', 'City courthouse', 'Skin care clinic', 'Airline', 'Physical therapist', 'Biotechnology company', 'Soccer practice', 'Congregation', 'Petroleum products company', 'Cutlery store', 'Road construction company', 'Model design company', 'Countertop contractor', 'Housing utility company', 'Jewellery manufacturer', 'Rugby field', 'Swedish restaurant', 'Used store fixture supplier', 'Church', 'Auto insurance agency', 'Art center', 'Recycling center', 'School supply store', 'Upholstery cleaning service', 'Executive suite rental agency', 'African restaurant', 'Industrial building', 'Carpet manufacturer', 'Aikido school', 'Electrical substation', 'Fire fighters academy', 'Energy', 'Diabetes equipment supplier', 'Port authority', 'Oyster supplier', 'Rescue squad', \"Renter's insurance agency\", 'Car repair and maintenance', 'Breakfast restaurant', 'Home automation company', 'Soul food restaurant', 'Dumpling restaurant', 'Police supply store', 'Metal supplier', 'Veterinary care', 'Foster care service', 'Medical school', 'Dried flower shop', 'Boarding house', 'Bead wholesaler', 'Gymnasium school', 'Cotton supplier', 'Equestrian facility', 'Waterproofing company', 'Commercial agent', 'Auto bodywork mechanic', 'Used furniture store', 'Magician', 'Salad shop', 'Kickboxing school', 'New American restaurant', 'Clothing supplier', 'Earth works company', 'Reef', 'Appliance parts supplier', 'Fruit parlor', 'Package locker', 'Tuning automobile', 'Plaza', 'Community school', 'Moroccan restaurant', 'Luggage wholesaler', 'DJ supply store', 'Veterans', 'Haitian restaurant', 'Propane supplier', 'Miniature golf course', \"Men's clothing store\", 'Parking lot', 'Religious school', 'Lodge', 'Carpenter', 'Health food store', 'Dental school', 'Event management company', 'Escrow service', 'Balloon ride tour agency', 'Car inspection station', 'E commerce agency', 'Swimming lake', 'Herbalist', 'Chimney services', 'Free parking lot', 'Anglican church', 'Veterans hospital', 'Junk store', 'Food seasoning manufacturer', 'Faculty of science', 'Beauty salon', 'Delivery service', 'Brewery', 'Weight loss service', 'Health insurance agency', 'Sandblasting service', 'Fishing pier', 'Sheet metal contractor', 'Employment center', 'Tune up supplier', 'Fingerprinting service', 'Ethiopian restaurant', 'Mobile home supply store', 'Construction machine rental service', 'Religious institution', 'Rice mill', 'Courier & shipping services', 'Convent', 'Record company', 'National park', 'Apartment building', 'Drainage service', 'Charter school', 'Lake', 'Performing arts theater', 'Dog day care center', 'Organic farm', 'MRI center', 'Cheesesteak restaurant', 'Swimming school', 'Organic shop', \"Public defender's office\", 'Dan Dan noodle restaurant', 'Pakistani restaurant', 'Travel services', 'Industrial engineers association', 'Coast guard station', 'Charcuterie', 'Ceramic manufacturer', 'Diesel engine dealer', 'Urgent care center', 'Periodontist', 'Book store', 'Electronics company', 'Equipment supplier', 'Surf school', 'Utility trailer dealer', 'Gravel pit', 'Industrial door supplier', 'Motorcycles', 'Medical billing service', 'Fish farm', 'Salsa classes', 'Hyperbaric medicine physician', 'Knitting instructor', 'Farming and cattle raising', 'Ski rental service', 'Telecommunications service provider', 'DVD store', 'Radio broadcaster', 'Well drilling contractor', 'Sauna store', 'Orchard', 'Video production service', 'Monogramming service', 'Açaí shop', 'Web hosting company', 'Hall', 'Environmental health service', 'English language school', 'Furnace store', 'Sports', 'Import export company', 'Health resort', 'Wind farm', 'Child center', 'Adventure sports center', 'Bariatric surgeon', 'Auto glass shop', 'Computer consultant', 'Blood testing service', 'Auto dent removal service', 'Air taxi', 'Gay night club', 'Office', 'Real estate', 'Video game rental kiosk', 'East African restaurant', 'Government economic program', 'Oil wholesaler', 'Cultural landmark', 'Music management and promotion', 'Compressed natural gas station', 'Driving test centre', 'Drug store', 'Ophthalmology clinic', 'Medical Center', 'Florist', 'Pet sitter', 'Vehicle shipping agent', 'Drilling contractor', 'Farm shop', 'Portable toilet supplier', 'Accounting', 'Adult DVD store', 'Moped dealer', 'Hot dog stand', 'Pick your own farm produce', 'Model train store', 'Battery wholesaler', 'Holiday home', 'Acupuncturist', 'Tanning salon', \"Farmers' market\", 'Laundry', 'Agrochemicals supplier', 'Mobile home rental agency', 'Laboratory', 'Battery manufacturer', 'Motorsports store', 'Business related', 'Telecommunications engineer', 'Hunting store', 'International trade consultant', 'Yakiniku restaurant', 'Holiday apartment rental', 'Electrical appliance wholesaler', 'Cabin rental agency', 'Ranch', 'Occupational medical physician', 'Variety store', 'Formal wear store', 'Food store', 'Kung fu school', 'Ceramics', 'Health counselor', 'Food and beverage consultant', 'Public sector bank', 'Hyundai dealer', 'BMX club', 'Seafood donburi restaurant', 'Transmission shop', 'Utility contractor', 'Skeet shooting range', 'Video game store', 'Firewood supplier', 'Acupuncture clinic', 'Wheelchair store', 'Diving center', 'Executive search firm', 'Used tire shop', 'Alcoholism treatment program', 'Mexican grocery store', 'Welding supply store', 'Reformed church', 'Delivery Chinese restaurant', 'Printing equipment supplier', 'Swimming basin', 'International airport', 'Database management company', 'Dude ranch', 'Learner driver training area', 'Radio tower', 'Rolled metal products supplier', 'Boating instructor', 'Heating contractor', 'Wholesale florist', 'Recreational vehicle rental agency', 'Audio visual equipment repair service', 'Self defense school', 'Assisted living facility', 'Ecological park', 'Occupational health service', 'Pottery classes', 'Graduate school', 'Educational institution', 'Indonesian restaurant', 'Tex-Mex restaurant', 'Credit reporting agency', 'HIV testing center', 'Bowling supply shop', 'Private golf course', 'Subway station', 'Military residence', 'Psychoneurological specialized clinic', 'Hospitality high school', 'Water cooler supplier', 'CD store', 'South American restaurant', 'Tax preparation service', 'Pawn shop', 'School', 'Obstetrician-gynecologist', 'Anesthesiologist', 'Snack bar', 'Pressure washing service', 'Burglar alarm store', 'Lawn equipment rental service', 'Pho restaurant', 'Brick manufacturer', 'Pasta shop', 'Nursing school', 'Fabric product manufacturer', 'Fur manufacturer', 'Disciples of Christ Church', 'Volvo dealer', 'Cathedral', 'Home insurance agency', 'Coffee shop', 'Pain control clinic', 'Watch store', 'Department of Transportation', 'Leather goods store', 'Metal working shop', 'Used motorcycle dealer', 'Ski resort', 'Barber school', 'Physiotherapy equipment supplier', 'Cheese manufacturer', 'Glass & mirror shop', 'Government', 'Savings bank', 'Funeral home', 'Arborist and tree surgeon', 'Fertilizer supplier', 'Supermarket', 'Asphalt contractor', 'Book publisher', 'Company', 'Pumps', 'Drivers license training school', 'Cooking school', 'Youth care', 'Martial arts', 'Table tennis facility', 'Eating disorder treatment center', 'Computer support and services', 'Dessert shop', 'Veterinary pharmacy', 'Fresh food market', 'Sheltered housing', 'Screen printing shop', 'Body shaping class', 'Homeopath', 'Arena', 'Off roading area', 'Design institute', 'Entertainment and recreation', 'Clothes market', 'Salvadoran restaurant', 'Office of Vital Records', 'Department of Public Safety', 'Interior decoration', 'Laser cutting service', 'Ashram', 'Theater supply store', 'Personal repair service', 'Dirt supplier', 'Environmental consultant', 'Cement supplier', 'Consultant', 'Audiologist', 'Group accommodation', 'Amusement park ride', 'Pathologist', 'Porsche dealer', \"Driver's license office\", 'Korean barbecue restaurant', 'Roller coaster', 'Tea market place', 'Lawn mower store', 'Womens personal trainer', 'Summer camp', 'Linens store', 'Jewelry buyer', 'Energy equipment and solutions', 'Swimming facility', 'Valet parking service', 'Motor scooter repair shop', 'Gurudwara', 'City department of transportation', 'Pet friendly accommodation', 'Pet care', 'Fiberglass repair service', 'Medical examiner', 'Shoe shining service', 'Castle', 'Leather goods wholesaler', 'Health food restaurant', 'Electronic parts supplier', 'Waste management service', 'Produce wholesaler', 'Real estate agents', 'Gift shop', 'Bus charter', 'Gastroenterologist', 'Sushi restaurant', 'Homeless service', 'Athletic club', 'Pastry shop', 'Lawn bowls club', 'Cattle farm', 'Family planning counselor', '3D printing service', 'Gemologist', 'Drinking water fountain', 'Bubble tea store', 'Commercial photographer', 'Auto spring shop', 'Fertility clinic', 'Youth clothing store', 'Surplus store', 'Beauty products vending machine', 'Art cafe', 'Wine cellar', 'Pet cemetery', 'Cliff', 'Optical products manufacturer', 'Off track betting shop', 'Airport parking lot', 'Toy store', 'Restaurant or cafe', 'Fruit and vegetable store', 'Used clothing store', 'Pest control service', 'Shelving store', 'Custom tailor', 'Wallpaper store', 'Canoe & kayak tour agency', 'Envelope supplier', 'Cooking class', 'Camping cabin', 'Canoeing area', 'Nursery', 'Shoe factory', 'Shopfitter', 'Fitness center', 'Machine shop', 'Bottled water supplier', 'Bookkeeping service', 'Hiking area', 'Animal rescue service', 'Recording studio', 'Cultural center', 'Used game store', 'Video game rental service', 'Car security system installer', 'Laminating equipment supplier', 'Warehouse club', 'Milk delivery service', 'Windmill', 'Customs office', 'Legal aid office', 'Independent school', 'Travel agency', 'Primary school', 'Foot bath', 'Ski shop', 'Phone repair service', 'Billiards supply store', 'Public mailbox', 'Abortion clinic', 'Heritage building', 'Brewing supply store', 'Christmas market', 'Piano bar', 'Law library', 'Korean church', 'Travel', 'Steel framework contractor', 'Airsoft supply store', 'Snowboard rental service', 'Vitamin & supplements store', 'Bicycle Shop', 'Water testing service', 'Park & ride', 'Elevator service', 'Observatory', 'Architectural and engineering model maker', 'Pentecostal church', 'Synagogue', 'Hose supplier', 'Animal shelter', 'Box lunch supplier', 'Beer garden', 'Scale supplier', 'Cycling park', 'Chemical exporter', 'Tennis instructor', 'Aviation', 'Press advisory', 'Chophouse restaurant', 'Used truck dealer', 'Electrician', 'Jeweler', 'Electric vehicle charging station', 'Hearing aid store', 'Lingerie store', 'Tree farm', 'Sports card store', 'Guest house', 'Thread supplier', 'Farm bureau', 'Water park', 'Costume jewelry shop', 'Memorial park', 'Southern restaurant (US)', 'Dive club', 'Drilling equipment supplier', 'Water jet cutting service', 'Tram stop', 'Canadian restaurant', 'Physical fitness program', 'Agricultural production', 'Business networking company', 'Radiologist', 'Fire protection service', 'Jamaican restaurant', 'Alternative fuel station', 'Auto broker', 'Municipal administration office', 'Circus', 'Animal park', 'Dental insurance agency', 'Religious book store', 'Dry ice supplier', 'Raw food restaurant', 'Nightlife', 'Appliance repair service', 'Gold dealer', 'Art studio', 'Antique furniture store', 'Peruvian restaurant', 'Motor scooter dealer', 'News service', 'African goods store', 'Paper distributor', 'Puerto Rican restaurant', 'Asphalt mixing plant', 'Wildlife park', 'Rubber products supplier', 'Loss adjuster', \"Tax collector's office\", 'DJ service', 'Country club', 'Organic food store', 'Health', 'Pond fish supplier', 'Sod supplier', 'Tax attorney', 'Masonry supply store', 'Western restaurant', 'Window treatment store', 'Rug store', 'Vacation home rental agency', 'Day spa', 'Sports medicine physician', 'Animal hospital', 'Addiction treatment center', 'Frozen dessert supplier', 'Public golf course', 'Arts organization', 'Wildlife rescue service', 'Reptile store', 'Wine storage facility', 'Laotian restaurant', 'Traditional American restaurant', 'Lincoln dealer', 'Drum store', 'Virtual office rental', 'Home goods store', 'Used auto parts store', 'Gun club', 'Adult day care center', 'Orthopedic clinic', 'Sightseeing tour agency', 'Mirror shop', 'Specialized hospital', 'Public call office booth', 'Minibus taxi service', 'Door warehouse', 'Disabled sports center', 'Hong Kong style fast food restaurant', 'Insurance agency', 'Perfume store', 'RV park', 'Association or organization', 'Youth social services organization', 'RV storage facility', 'Laser tag center', 'Mill', 'Aero dance class', 'Work clothes store', 'Oil & natural gas company', 'Art school', 'Public services', 'Beach', 'Youth hostel', 'Office accessories wholesaler', 'Hostel', 'General contractor', 'Repair service', 'Disc golf course', 'Dairy farm', 'Urologist', 'Chauffeur service', 'Car wash', 'Cleaning service', 'Halfway house', 'Birth control center', 'Betting agency', 'Coffee vending machine', 'Christian book store', 'Brewpub', 'Threads and yarns wholesaler', 'Direct mail advertising', 'State office of education', 'Aerial sports center', 'Vista', 'Diaper service', 'Printing', 'Samba school', 'Bar restaurant furniture store', 'Home builder', 'Parking garage', 'Baby store', 'Internet cafe', 'Shipping company', 'Granite supplier', 'Gated community', 'Group home', 'Retail space rental agency', 'Containers supplier', 'Culture', 'Amusement park', 'Roofing contractor', 'Digital printer', 'Horse rental service', 'Professional services', 'Learning center', 'Dental implants provider', 'Student dormitory', 'Engine rebuilding service', 'Dental implants periodontist', 'Used bicycle shop', 'Record store', 'Foot massage parlor', 'Espresso bar', 'Bus tour agency', 'Concrete factory', 'Property investment', 'Public housing', 'Fixed-base operator', 'Jazz club', 'Surgical supply store', 'Building lots sales agency', 'Flour mill', 'Buses', 'Bike wash', 'Insurance company', 'Senior citizen center', 'Publisher', 'Fishing charter', 'Woods', 'Auto radiator repair service', 'Aluminum welder', 'Fastener supplier', 'Mediation service', 'Fireplace manufacturer', 'Spa and health club', 'Police academy', 'Building restoration service', 'Interior designer', 'Party equipment rental service', 'Latin American restaurant', 'Garage door supplier', 'Political party office', 'Unemployment office', 'Flag store', 'Boarding school', 'Saw sharpening service', 'Cave', 'Insulation materials store', 'Electronics', 'Real estate auctioneer', 'Music publisher', 'Estate appraiser', 'Pneumatic tools supplier', 'Logging contractor', 'Cider bar', 'Seal shop', 'Detective', 'Oxygen cocktail spot', 'Wok restaurant', 'Soccer field', 'Screen printer', 'T-shirt store', 'Department of motor vehicles', 'Protective clothing supplier', 'Gutter cleaning service', 'Indian restaurant', 'Screw supplier', 'Special education school', 'Christmas store', 'Child health care centre', 'Hand surgeon', 'Nephrologist', 'Event ticket seller', 'Stone carving', 'Ventilating equipment manufacturer', 'Plant and machinery hire', 'Yeshiva', 'Cell phone store', 'Carpet cleaning service', 'Hobby store', 'Plastic surgery clinic', 'Diamond buyer', 'Musical instrument rental service', 'Lighting store', 'Middle school', 'Car leasing service', 'Homeless shelter', 'Military base', 'Hockey rink', 'Leather goods supplier', 'Botanical garden', 'Floor sanding and polishing service', 'Small appliance repair service', 'Popcorn store', 'Sanitation service', 'Blacksmith', 'Kerosene supplier', 'Outboard motor store', 'Chess and card club', 'Software training institute', 'Railway services', 'Roommate referral service', 'Clothing', 'Moving and storage service', 'Real estate developer', 'Kennel', 'Christian church', 'Seafood market', 'Bail bonds service', 'Fuel pump', 'Event planner', 'Honda dealer', 'Gambling house', 'Retaining wall supplier', 'Polygraph service', 'Parking lot for motorcycles', 'Scale model club', 'Army & navy surplus shop', 'Coffee machine supplier', 'Soccer store', 'Jewish restaurant', 'Computer wholesaler', 'Fortune telling services', 'Handicrafts wholesaler', 'Lasik surgeon', 'Peninsula', 'Plant nursery', 'Internist', 'Comic book store', 'Clothes and fabric manufacturer', 'Japanese language instructor', 'Display stand manufacturer', 'Ceramics wholesaler', 'Food machinery supplier', 'Conveyor belt sushi restaurant', 'Internal medicine ward', 'Concrete contractor', 'Commercial printer', 'Physical examination center', 'Food and drink', 'Sportswear store', 'Noodle shop', 'Private college', 'Home help', 'Homestay', 'Yoga instructor', 'Electric motor store', 'Pharmaceutical company', 'Natural stone wholesaler', 'Transport interchange', 'Aircraft manufacturer', 'Maternity hospital', 'Business to business service', 'Television station', 'Occupational therapist', 'Limousine service', 'Community health centre', 'Health and beauty', 'Metal workshop', 'Spring', 'Dinner theater', 'Coaching center', 'Invitation printing service', 'Sailing school', 'Vegetarian cafe and deli', 'Sanitary inspection', 'Ski club', 'Food and beverage exporter', 'Jain temple', 'Sunglasses store', 'Horse boarding stable', 'Cell phone accessory store', 'Historical landmark', 'Debris removal service', 'Rafting', 'Patio enclosure supplier', 'Building consultant', 'Mortuary', 'Cruise line company', 'Regional airport', 'Notable street', 'Car sharing location', 'Electronics engineer', 'Saddlery', 'Squash court', 'Buffet restaurant', 'Liquor store', 'Nature preserve', 'Youth organization', 'Trading card store', 'Rental', 'City tax office', 'Swimming instructor', 'Dental laboratory', 'Research foundation', 'Geyser', 'Judo school', 'Villa', 'Juvenile court', 'Naval base', 'Beach volleyball court', 'Workshop', 'Kia dealer', 'Aviation training institute', 'Bus depot', 'Feng shui consultant', 'Photographer', 'Exercise equipment store', 'Foundation', 'American restaurant', 'Crane service', 'Channel', 'Department of Social Services', 'Vehicle inspection', 'Lounge', 'Rice restaurant', 'Part time daycare', 'Hat shop', 'Escape room center', 'Display home centre', 'Shrine', 'Van rental agency', 'Tattoo shop', 'Income protection insurance', 'Plastic products supplier', 'Crushed stone supplier', 'Balloon artist', 'Fire protection system supplier', 'Catering', 'Water treatment plant', 'Business broker', 'Adventure sports', 'Metal heat treating service', 'Shipyard', 'House sitter', 'Mexican torta restaurant', 'Hub cap supplier', 'Helicopter tour agency', 'Garden center', 'Jewelry repair service', 'Chamber of Commerce', 'Dance school', 'T-shirt company', 'Junk dealer', 'Stage lighting equipment supplier', 'Electrical repair shop', 'Patent attorney', 'Observation deck', 'Fair', 'Trust bank', 'Fast food restaurant', 'Research institute', 'Hairdresser', 'Religious organization', 'Promotional products supplier', 'Public library', 'Reflexologist', 'Aircraft supply store', 'Pet moving service', 'Washer & dryer store', 'Small claims assistance service', 'Heritage museum', 'Piano maker', 'Advertising', 'Campground', \"Women's clothing store\", 'Screen repair service', 'Polythene and plastic sheeting supplier', 'Janitorial equipment supplier', 'Hair removal service', 'Animal feed store', 'Oral and maxillofacial surgeon', 'Construction material wholesaler', 'Distributary', 'Incense supplier', 'Handbags shop', 'Distillery', 'Measuring instruments supplier', 'Juvenile detention center', 'Farm equipment repair service', 'Music box store', \"Workers' club\", 'Mobile money agent', 'Security service', 'Furniture manufacturer', 'Chevrolet dealer', 'Environmental program', 'Tent rental service', 'Jeans shop', 'City Hall', 'Function room facility', 'Seminary', 'Establishment', 'Tapas restaurant', 'Pumpkin patch', 'Machinery parts manufacturer', 'Chrysler dealer', 'Forestry service', 'Village hall', 'Food manufacturing supply', 'Karaoke equipment rental service', 'Haberdashery', 'Garden machinery supplier', 'Model portfolio studio', 'Industrial equipment supplier', 'Barber supply store', 'Newspaper publisher', 'Painting studio', 'Container supplier', 'Luggage storage facility', 'Department of education', 'Cantonese restaurant', 'Falafel restaurant', 'Alternative medicine', 'River port', 'Hotel supply store', 'Horse transport supplier', 'New Age church', \"Men's health physician\", 'Landscape designer', 'Woodworking supply store', 'Courier service', 'Oil change service', 'Home health care service', 'Refrigerator repair service', 'Architect', 'Taxi service', 'Life coach', 'Custom home builder', 'Certified public accountant', 'Cancer treatment center', 'Administrative attorney', 'Christmas tree farm', 'Filipino restaurant', 'United Church of Christ', 'Glass industry', 'Playground equipment supplier', 'Sewage disposal service', 'Lighting manufacturer', 'Sailmaker', 'Aircraft maintenance company', 'Hockey supply store', 'Country park', 'Power plant equipment supplier', 'Infectious disease physician', 'Rail museum', 'Dance pavillion', 'Recreation center', 'Washer & dryer repair service', 'Serviced apartment', 'Office furniture store', 'Aircraft rental service', 'Bus ticket agency', 'Circular distribution service', 'Stadium', 'BMW dealer', 'Exhibit', 'Skin care products vending machine', 'Orthodox synagogue', 'Singaporean restaurant', 'Investment company', 'Rectory', 'Makerspace', 'Buddhist supplies store', 'Beach volleyball club', 'Truss manufacturer', 'Pets', 'Cannery', 'Swimming pool contractor', 'Notary public', 'Motorcycle parts store', 'Investment bank', 'Public educational institution', 'Italian grocery store', 'Scaffolder', 'First aid station', 'GMC dealer', 'Softball club', 'Industrial supermarket', 'Disco club', 'Sugar shack', 'Chemical engineer', 'Moravian church', 'Bathroom remodeler', 'City park', 'Psychic', 'Remodeler', 'Skateboard park', 'Engraver', 'Water skiing service', 'Economic development agency', 'Currency exchange service', 'Boat trailer dealer', 'Asian grocery store', 'Gasfitter', 'Payphone', 'Lawn care service', 'Lutheran church', 'Fishing store', 'Bridge', 'Upholstery shop', 'RV repair shop', 'School for the deaf', 'Audi dealer', 'Hair extensions supplier', 'SCUBA instructor', 'Boat club', 'Camping farm', 'Hip hop dance class', 'Live music bar', 'Air force base', 'Polo club', 'Municipal health department', 'Real estate surveyor', 'Modeling school', 'Condominium rental agency', 'Insulation contractor', 'Evangelical church', 'Railroad contractor', 'Boat rental service', 'Bus and coach company', 'Prosthodontist', 'Weightlifting area', 'Eastern Orthodox Church', 'Beauty product supplier', 'Poultry farm', 'Screen printing supply store', 'Office supply wholesaler', 'Adult foster care service', 'Lawyers association', 'Bicycle wholesale', 'Tea manufacturer', 'Battle site', 'Emergency locksmith service', 'Coworking space', 'Commercial refrigerator supplier', 'Caterer', 'Store', 'Mulch supplier', 'Motorcycle shop', 'Internet marketing service', 'Vacuum cleaner repair shop', 'Media company', 'Solar energy contractor', 'Flea market', 'Vista point', 'Holding company', 'Knit shop', 'City Department of Public Safety', 'BPO company', 'Gun shop', 'Mobility equipment supplier', 'Commercial real estate inspector', 'Internet service provider', 'Mobile phone repair shop', 'Urology clinic', 'Play school', 'Air compressor repair service', 'Winemaking supply store', 'Fountain', 'Handicraft', 'Tunnel', 'Environmental protection organization', 'State Department of Tourism', 'Barber shop', 'Wholesaler', 'Air filter supplier', 'Mission', 'Podiatrist', 'Event technology service', 'Bistro', 'Hindu temple', 'Historical place museum', 'Civic center', 'Quaker church', 'Oriental goods store', 'Glass block supplier', 'Argentinian restaurant', 'Fencing salon', 'Construction equipment supplier', 'Modeling agency', 'Public parking space', 'Greenhouse', 'Wildlife refuge', 'Gyro restaurant', 'Reproductive health clinic', 'Wood frame supplier', 'Calligraphy lesson', 'Chess club', 'Miniatures store', 'Electric utility company', 'Shooting range', 'Home theater store', 'Recruiter', 'Fencing school', 'Pet trainer', 'Animation studio', 'Labor relations attorney', 'Planetarium', 'Furnace parts supplier', 'Poster store', 'Telephone answering service', 'Mitsubishi dealer', 'Leasing service', 'Prosthetics', 'Travellers lodge', 'Musician and composer', 'Tea wholesaler', 'Meat processor', 'Shipping service', 'Jewelry designer', 'Flower market', 'Dance company', 'Amusement center', 'Musical instrument repair shop', 'Reservoir', 'Car rental agency', 'Farm equipment supplier', 'Western apparel store', 'Chinaware store', 'Messianic synagogue', 'Maserati dealer', 'Agricultural product wholesaler', \"Women's shelter\", 'Wholesale food store', 'Livery company', 'Car manufacturer', 'Elevator manufacturer', 'Cat breeder', 'Paint manufacturer', 'Construction', 'Retreat center', 'Volleyball court', 'Soft drinks shop', 'Tattoo and piercing shop', 'Agricultural service', 'Natural feature', 'Martial arts club', 'Tax assessor', 'Fireworks supplier', 'Malaysian restaurant', 'Floor refinishing service', 'Generator shop', 'Pet supply store', 'Soup kitchen', 'Occupational safety and health', 'Courthouse', 'Television repair service', 'Chinese takeaway', 'Food broker', 'Glass engraver', 'Suzuki dealer', 'Dairy farm equipment supplier', 'Aromatherapy class', 'Boiler manufacturer', 'North Eastern Indian restaurant', 'Holiday park', 'Heritage preservation', 'Takoyaki restaurant', 'Care services', 'Knife manufacturing', 'Massage parlor', 'Embassy', 'Indian sweets shop', 'Salsa bar', 'Science academy', 'Catholic cathedral', 'Sauna club', 'Hindu priest', 'Economic consultant', 'Marine', 'Cultural association', 'Tea exporter', 'Interior fitting contractor', 'Aboriginal and Torres Strait Islander organisation', 'Cosmetics wholesaler', 'Childrens party buffet', 'Desert', 'Dry fruit store', 'Steel drum supplier', 'Romanian restaurant', 'Cane furniture store', 'Sailing club', 'Housing', 'Wing chun school', 'Smart shop', 'Leagues club', 'Higher secondary school', 'Well', \"Girls' high school\", 'PVC windows supplier', 'Organic', 'Fitted furniture supplier', 'Cable car station', 'Handicraft school', 'Cider mill', 'Missing persons organization', 'Foreign languages program school', 'Desalination plant', 'Computers', 'Pedestrian zone', 'Coppersmith', 'Fashion', 'Livestock', 'Bakery equipment', 'Stringed instrument maker', 'Organic drug store', 'Glass', 'Therapists', 'Typing service', 'Senior citizens welfare institute', 'Iron ware dealer', 'Fish and seafood restaurant', 'Basketball', 'Bocce ball court', 'Foam rubber producer', 'Cotton exporter', 'Cambodian restaurant', 'Public medical center', 'Ice', 'Mountain cable car', 'Wool store', 'Birth certificate service', 'Erotic massage', 'Slope', 'Marine protected area', 'Fondue restaurant', 'Vegetable wholesale market', 'School lunch center', 'Pool billard club', 'License plate frames supplier', 'Mailing machine supplier', 'Chinese supermarket', 'Non vegetarian restaurant', 'Priest', 'Mid-Atlantic restaurant (US)', 'Customs consultant', 'Chess instructor', 'Vehicle exporter', 'Labor court', 'Spices wholesalers', 'Apprenticeship center', 'Agricultural', 'Inlet', 'Coalfield', 'Souvenir manufacturer', 'Textile merchant', 'Basket supplier', 'Tax', 'Registry office', 'Leisure centre', 'Berry restaurant', 'Isuzu dealer', 'Vocational school one', 'Unfinished furniture store', 'Skittle club', 'Lighthouse', 'Gay sauna', 'Mechanical plant', 'Water tank cleaning service', 'Capoeira school', 'Toy manufacturer', 'Private sector bank', 'Transit depot', 'Childminder', 'Beds', 'Production', 'Tea and coffee merchant', 'Tonkatsu restaurant', 'Justice department', 'Music college', 'Deaf service', 'Spa town', 'Suburban train line', 'Polymer supplier', 'Theatrical costume supplier', 'Organ donation and tissue bank', 'Armenian restaurant', 'Brazilian pastelaria', 'Terrain', 'Building equipment hire service', 'Line marking service', 'Cosmetic surgeon', 'BMW motorcycle dealer', 'Nudist park', 'Gold mining company', 'Ruin', 'Clock tower', 'Police', 'Indoor arena', 'Patisserie', 'Nursing association', 'Citizen information bureau', 'Junior college', 'Military hospital', 'Hockey field', 'Municipal hall', 'Institute of technology', 'Pediatric gastroenterologist', 'Hygiene articles wholesaler', 'Wind turbine builder', 'Fiat dealer', 'Estuary', 'Feng shui shop', 'Government school', 'District council', 'Hot bedstone spa', 'Geography and history faculty', 'Yemenite restaurant', 'Tempura donburi restaurant', 'Modern izakaya restaurants', 'Crater', 'Equipment exporter', 'Thai massage', 'Eritrean restaurant', 'Labour club', 'Katsudon restaurant', 'Environment office', 'Singing telegram service', 'Pediatric clinic', 'Clothes and fabric wholesaler', 'Stand bar', 'Industrial framework supplier', 'Punjabi restaurant', 'Patients support association', 'Anago restaurant', 'Airport terminal', 'Furniture piece', 'Trading firm', 'Pony club', 'Ice hockey club', 'Self check-in kiosk', 'Military', 'Government hospital', 'Australian restaurant', 'Atoll', 'Plateau', 'Public male bathroom', 'Internet', 'Pile driver', 'Attraction', 'Polytechnic', 'Car care', 'Shanghainese restaurant', 'Media', 'Hepatologist', 'Municipal Department Communication', 'Doors and windows', 'Media and information sciences faculty', 'Saab dealer', 'Dept of City Treasure', 'Cardiovascular and thoracic surgeon', 'Czech restaurant', 'Land mass', 'Burmese restaurant', 'Cured ham bar', 'Self service restaurant', 'Textile engineer', 'Greco-Roman wrestling', 'Rugby league club', 'Ministry of Education', 'Air traffic control tower', 'Books', 'Fashion design school', 'Stamp collectors club', 'Renovation contractor', 'Tenant ownership', 'Oil recycling and disposal', 'Padel court', 'Telecommunication school', 'Gas engineer', 'Model car play area', 'Legal affairs bureau', 'Vastu consultant', 'Dogsled ride service', 'Rolls Royce dealer', 'Typewriter supplier', 'Stall installation service', 'Used', 'Rock', 'Worm farm supplier', 'Hang gliding center', 'Beverage supplier', 'Biochemical supplier', 'Pennsylvania Dutch restaurant', 'Gondola lift station', 'Tibetan restaurant', 'Neurophysiologist', 'Adult entertainment', 'Bulgarian restaurant', 'McLaren dealer', 'Eatery', 'Train ticket agency', 'Tofu restaurant', 'State archive', 'Department of housing', 'Department of finance', 'Athletics', 'Meeting point', 'Doll restoration service', 'Textiles', 'Carnival club', 'Lighting', 'Cold cut store', 'Museum of zoology', 'Pediatric dermatologist', 'Military airport', 'Decoration', 'Modern British restaurant', 'Acupuncture school', 'Professional association', 'Hotel management school', 'Butane gas supplier', 'New England restaurant', 'Homekill service', 'Conservative club', 'Vacuum cleaner', \"Tenant's union\", 'Water services', 'Water companies', 'Nanotechnology engineer', 'Leather exporter', 'Architecture school', 'Curling hall', 'Toy library', 'Waldorf kindergarten', 'FMCG goods wholesaler', 'Childrens cafe', 'Russian grocery store', 'Shinto shrine', 'Bilingual school', 'Mineral water company', 'Animal watering hole', 'Ski', 'Evening school', 'Solid fuel company', 'Court of Appeal', 'Fishing and hunting stores', 'Grow shop', 'Archery hall', 'Federal Agency for Technical Relief', 'Museum of space history', 'Goldfish store', 'Pension office', 'Children hall', 'Staple food package', 'Syrian restaurant', 'Coal exporter', 'Pizza', 'Serbian restaurant', 'Tank', 'Lingerie wholesaler', 'Federal reserve bank', 'Business card design and printing service', 'Wood industry', 'Pediatric surgeon', 'Tennis', 'Canopy', 'Wellness', 'Pine furniture shop', 'Executor', 'Love hotel', 'Conveyancer', 'Memorial', 'Rice wholesaler', 'Family court', 'Machinery', 'Studio', 'Girl bar', 'Lido', 'Turkmen restaurant', 'Private mailbox', 'Research and development', 'Felt boots store', 'Sea', 'DS Automobiles dealer', 'Hobbies', 'Sheepskin coat store', 'Faculty of pharmacy', 'Paper hanger', 'Badminton complex', 'Government college', 'Gambling instructor', 'Floating market', 'Fujian restaurant', 'Full dress rental service', 'Mineral supplier', 'Markmens clubhouse', 'Paan shop', 'Sicilian restaurant', 'Cured ham store', 'Korean beef restaurant', 'Historic city center', 'Lava field', 'Wilderness center', 'Houseboat rental service', 'Bangle Shop', 'Tools', 'Food production', 'Parsi temple', 'Hospitality and tourism school', 'DVD and video services', 'Sports coaching', 'Disability services', 'Knitwear manufacturer', 'Boiler repair', 'Quantity surveyor', 'Shandong restaurant', 'Ground self defense force', 'Central bank', 'Smoking room', 'Pachinko parlor', 'Aeronautical engineer', 'Topography company', 'Anhui restaurant', 'Historical market square', 'Parapharmacy', 'Citizens advice bureau', 'Prawn fishing', 'Paper industry', 'Grassy area', 'Places of interest', 'Business association local', 'Nuclear engineer', 'Football association', 'Trade centre', 'State Department for Social Development', 'Mountaineering club', 'Nail art', 'Tuscan restaurant', 'Military board', 'General register office', 'Designer', 'Medical book store', 'Madrilian restaurant', 'Joiner', 'Baggage claim', 'Orphanage', 'Real estate related services', 'Macrobiotic restaurant', 'Relaxation', 'Judicial scrivener', 'United States Armed Forces Base', 'Project management company', 'Architectural element', 'Flamenco dance store', 'Obanzai restaurant', 'Industry', 'Seat dealer', 'Criminal court', 'Motorcycle club', 'Icelandic restaurant', 'Girls hostel', 'Champon noodle restaurant', 'High court', 'Transportation authority office', 'Game software', 'Yakisoba Restaurant', 'Bonesetting house', 'Freelance professionals', 'Water sport', 'Mineral water wholesale', 'Faculty of arts', 'Huissier', 'Security checkpoint', 'Municipal Department Finance', 'First aid kit', 'Food products', 'Cell tower', 'Carvery', 'Seitai', 'Valencian restaurant', 'Bodega', 'Kazakhstani restaurant', 'Provence restaurant', 'Parking Souterrain', 'Moving company', 'Designer clothing store', 'Meal delivery', 'Industrial technical engineers association', 'Angler fish restaurant', 'Paraguayan restaurant', 'User-operated machine', 'Takeout restaurant', 'Lawyer', 'Chettinad restaurant', 'Used store', 'Ticket gate', 'Tire', 'Transplant surgeon', 'Waterbed repair service', 'Customs boundary line', 'Shochu brewery', 'Sfiha restaurant', 'City or town hall', 'New Years tree market', 'Velodrome', 'Concierge desk', 'Automotive', 'Fast food pizza', 'Casual clothing store', 'Home and construction', 'Server room', 'Board of trade', 'Lamp', 'Translation company', 'Croquet club', 'Mutton barbecue restaurant', 'Rocky', 'Japanized western restaurant', 'Hakka restaurant', 'Steamboat restaurant', 'Mining engineer', 'Forest resort', 'Fuel station', 'Fugu restaurant', 'Defence company', 'Soondae restaurant', 'Scout home', 'Cement', 'Pipe manufacturer', 'Momo restaurant', 'Karma dealer', 'Lithuanian restaurant', 'Students parents association', 'Secondary school three', 'Raclette restaurant', 'Clothing manufacturer', 'Christian City Church', 'Cosplay cafe', 'Conscription office', 'Recycling collection company', 'School dentist', 'Land reform institute', 'Plastic', 'Atrium', 'Coin operated locker', 'Fire proofing contractor', 'Couscous restaurant', 'Aqueduct', 'Technical education academy', 'Inclined railway station', 'Beauty academy', 'Self service health station', 'Offal barbecue restaurant', 'New Zealand restaurant', 'Apparel company', 'Waste container', 'Estate planning attorney', 'Pulmonologist', 'Tobacco shop', 'Vacuum cleaner store', 'Aggregate supplier', 'Bicycle club', 'Agriculture cooperative', 'Physician assistant', 'Indian takeaway', 'Double glazing installer', 'Ice skating club', 'Nissan dealer', \"Magistrates' court\", 'Rare book store', 'Stereo rental store', 'Hydroelectric power plant', 'Hunting area', 'Meeting room', 'Customs broker', 'Boat ramp', 'Thai restaurant', 'Insulator supplier', 'Spice store', 'Maritime museum', 'Rodeo', 'Beverages', 'Alcohol manufacturer', \"Children's furniture store\", 'Hotel', 'Beautician', 'Furniture maker', 'Computer training school', 'Crab house', 'Human resource consulting', 'Otolaryngologist', 'Brazilian restaurant', 'Aromatherapy supply store', 'Belgian restaurant', 'Door supplier', 'Swimming pool', \"Children's clothing store\", 'Cooperative bank', 'Private university', 'RV supply store', 'Cajun restaurant', 'Building materials market', 'Sheet music store', 'South Asian restaurant', 'Chemical industry', 'Public transport', 'Cruise terminal', 'Diving contractor', 'Abundant Life church', 'Gas station', 'Dog breeder', 'Non-profit organization', 'Commercial real estate agency', 'Sculpture museum', 'Softball field', 'Digital printing service', 'Construction and maintenance office', 'Commercial refrigeration', 'Solid waste engineer', 'Historical society', 'District office', 'Glass blower', 'Metal industry suppliers', 'Surf lifesaving club', 'Furniture store', 'General practitioner', 'Mortgage lender', 'Gift basket store', 'Wedding store', 'Social services organization', 'Junkyard', 'Chinese noodle restaurant', \"Homeowners' association\", 'Electrolysis hair removal service', 'Pie shop', 'Jewelry equipment supplier', 'Mandarin restaurant', 'Agricultural association', 'Magic store', 'Sewage treatment plant', 'Metal processing company', 'Company registry', 'Barrel supplier', 'Pig farm', 'Notaries association', 'Boat builders', 'Website designer', 'Antique store', 'Lumber store', 'Stone supplier', 'Delivery Restaurant', 'Motorcycle repair shop', 'Powder coating service', 'Full Gospel church', 'Drum school', 'Metal detecting equipment supplier', 'Private hospital', 'Portuguese restaurant', 'Squash club', 'Hardware store', 'Boat repair shop', 'Cooperative', 'Brake shop', 'Small engine repair service', 'Alternator supplier', 'Personal injury attorney', 'Custom t-shirt store', 'Automobile storage facility', 'Chocolate shop', 'Preparatory school', 'Tennis store', 'Ford dealer', 'Towing equipment provider', 'Trade school', 'Pancake restaurant', 'Teppanyaki restaurant', 'Japanese steakhouse', 'Wholesale market', 'Persian restaurant', 'Opera company', 'Fried chicken takeaway', 'Real estate attorney', 'Dental hygienist', 'Indian grocery store', 'Karate school', 'Ice skating rink', 'Auto sunroof shop', 'Food delivery', 'Business administration service', 'Yacht broker', 'Registered general nurse', 'Convenience stores organization', 'Stationery wholesaler', 'Eastern European restaurant', 'Ukrainian restaurant', 'Country house', 'Municipal Department of Tourism', 'Real estate rental agency', 'Student housing center', 'Business management consultant', 'Wine bar', 'Pediatric dentist', 'Technical school', 'Trailer dealer', 'Baby swimming school', 'Insurance attorney', 'Interior architect office', 'Ballet theater', 'Dairy', 'School administrator', 'Furnace repair service', 'Mechanic', 'Wedding service', 'Pipe supplier', 'Rock climbing', 'Pallet supplier', 'Egg supplier', 'Fashion designer', 'French restaurant', 'Forklift dealer', 'Road cycling', 'Iron steel contractor', 'Lamp repair service', 'Jewelry exporter', 'Telecommunications', 'Passport agent', 'Metallurgy company', 'Handball court', 'Table tennis club', 'Film and photograph library', 'Pharmacy', 'Transportation service', 'Packaging supply store', 'Pizza delivery', 'Garbage collection service', 'Surgeon', 'Computer software store', 'Gas company', 'Wood floor refinishing service', 'Paintball center', 'Video camera repair service', 'Students support association', 'Fabric wholesaler', 'Wedding souvenir shop', 'Veterans center', 'Study at home school', 'Engineering consultant', 'Soccer club', 'Beer store', 'Clothing alteration service', 'Car stereo store', 'Accounting software company', 'Eyebrow bar', 'Nursing agency', 'Stained glass studio', 'Stair contractor', 'Repairs', 'Boiler supplier', 'Costume rental service', 'Public utility', 'Iron works', 'Alcoholic beverage wholesaler', 'Court executive officer', 'Exhibition planner', 'Artificial plant supplier', 'Cosmetics industry', 'Sand plant', 'Cottage village', 'Childrens home', 'Intellectual property registry', 'Auto parts store', 'Psychotherapist', 'Fashion accessories store', 'Donations center', 'Car dealer', 'Fire alarm supplier', \"Children's amusement center\", 'Land surveyor', 'Reform synagogue', 'Video conferencing equipment supplier', 'Paper store', 'Greek Orthodox church', 'Comedy club', 'Taiwanese restaurant', 'Immunologist', 'Singles organization', 'Fishing pond', 'Tofu shop', 'Christian college', 'Customs warehouse', 'Wrestling school', 'Childbirth class', 'Poultry store', 'Customs department', 'Co-ed school', 'Wheelchair rental service', 'Retirement home', \"Children's hospital\", 'Hospice', 'Advertising agency', 'Passport office', 'Bait shop', 'Wedding chapel', 'Vegan restaurant', 'Banner store', 'Tannery', 'Modular home builder', 'Halal restaurant', 'Parking lot for bicycles', 'Emergency training school', 'Gas and automotive', 'Basketball court contractor', 'Bus station', 'Bark supplier', 'Embroidery shop', 'Computer networking center', 'Air compressor supplier', \"Children's party service\", 'Guatemalan restaurant', 'Boxing club', 'Scooter rental service', 'Fireplace store', 'Leather wholesaler', 'Family day care service', 'Oil field equipment supplier', 'Gazebo', 'Hawaiian goods store', 'Social club', 'Karaoke bar', 'School center', 'Belt shop', 'Sticker manufacturer', 'Casino', 'Frozen food manufacturer', 'Registration office', 'Paper shredding machine supplier', 'Ferry terminal', 'Taekwondo competition area', 'Surgical oncologist', 'Badminton club', 'Home inspector', 'Blood donation center', 'Satellite communication service', 'House cleaning service', 'Window supplier', 'Juice shop', 'Paving materials supplier', 'Adult entertainment store', 'Fence supply store', 'Mailbox supplier', 'National museum', 'Chemistry faculty', 'Choir', 'Sake brewery', 'Office services', 'Cosmetic dentist', 'Cruise agency', 'Audio visual equipment supplier', 'Holistic medicine practitioner', 'Truck repair shop', 'Cabinet maker', 'Sign shop', 'Tailor', 'Food products supplier', 'Physiatrist', 'Garbage dump service', 'Coffee roasters', 'Motorcycle driving school', 'Chimney sweep', 'Body piercing shop', 'Technical service', 'Ghost town', 'Gazebo builder', 'Printing equipment and supplies', 'Cottage', 'Irish pub', 'Used CD store', 'Ram dealer', 'Musical instrument manufacturer', 'Head start center', 'Agricultural high school', 'Civil defense', 'Building materials supplier', 'Mailing service', 'Car battery store', 'Social worker', 'Hair transplantation clinic', 'Smog inspection station', 'Preschool', 'Dance hall', 'Boot store', 'Ham shop', 'Waterfall', 'Skateboard shop', 'Machine repair service', 'Real estate appraiser', 'Printer ink refill store', 'Culinary school', 'Gay & lesbian organization', 'Real estate rental', 'Bar PMU', 'Pizza Takeout', 'Plus size clothing store', 'Discount supermarket', 'Mammography service', 'Car factory', 'Soup restaurant', 'Hot dog restaurant', 'Hunting and fishing store', 'Duty free store', 'Transcription service', 'Chemical plant', 'Tool repair shop', 'Neon sign shop', 'Weather forecast service', 'Video game rental store', 'Fiberglass supplier', 'Medical lawyer', 'Instruction', 'Ballet school', 'Foursquare church', 'Antenna service', 'Agriculture', 'Chicken hatchery', 'Grocery store', 'Federal government office', 'Shoe repair shop', 'Artist', 'Wi-Fi spot', 'Veterans affairs department', 'Eyelash salon', 'Laser equipment supplier', 'Naturopathic practitioner', 'Food producer', 'Mobile caterer', 'Civil engineer', 'Machine workshop', 'Aquaculture farm', 'Little league field', 'Chinese medicine clinic', 'Paper bag supplier', 'Practitioner service location', 'Tool & die shop', 'Trailer rental service', 'Winery', 'Boot camp', 'Mover', 'Strait', 'Employment consultant', 'Electrical engineer', 'Diamond dealer', 'Ice supplier', 'Buddhist temple', 'Office equipment rental service', 'Telescope store', 'Marketing', 'Mausoleum builder', 'Detention center', 'Canoe & kayak store', 'Metal machinery supplier', 'Advertising service', 'Smart dealer', 'Swimming competition', 'Warehouse', 'Bagel shop', 'Art restoration service', 'Medical equipment supplier', 'Fur coat shop', 'Casket service', 'Cattery', 'Fruit and vegetable wholesaler', 'Midwife', 'Foam rubber supplier', 'Military cemetery', 'Grassland', 'Marines facility', 'Pilates studio', 'Taco restaurant', 'Solar energy equipment supplier', 'Chemical wholesaler', 'Monument maker', 'Memorial estate', 'Gas logs supplier', 'Non-governmental organization', 'Dodge dealer', 'Acrylic store', 'Land allotment', 'Bikram yoga studio', 'Road safety town', 'Anime club', 'School house', 'Family practice physician', 'Rustic furniture store', 'Youth center', 'Tax department', 'Educational consultant', 'Sports nutrition store', 'Private educational institution', 'Emergency care physician', 'Tool store', 'Agricultural service supply agency', 'Fish store', 'Medical transcription service', 'Chalet', 'Scandinavian restaurant', 'Table', 'Oriental medicine clinic', 'Chinese medicine store', 'Loan agency', 'Presbyterian church', 'Emergency care service', 'Martial arts school', 'Design', 'Non-denominational church', 'Tourism', 'Little league club', 'Eftpos equipment supplier', 'Urban planning department', 'Coffee wholesaler', 'Livestock dealer', 'State police', 'Dietitian', 'Bridge club', 'Hot spring', 'Music', 'Natural stone supplier', 'Money transfer service', 'Grill store', 'Sandwich shop', 'Wedding planner', 'Outdoor movie theater', 'Maternity store', 'Wood stove shop', 'House sitter agency', 'Irish goods store', 'State Department of Environment', 'Entertainer', 'Distribution service', 'Day care center', 'Caribbean restaurant', 'Tour agency', 'Souvenir store', 'Candle store', 'Vending machine', 'Lawn mower repair service', 'Carpet installer', 'Couture store', 'Aviation consultant', 'Saturn dealer', 'Chocolate factory', 'Truck stop', 'Silk plant shop', 'Plumbing', 'Baking supply store', 'Mfr', 'Lebanese restaurant', 'Tribal headquarters', 'Trade fair construction company', 'Microbiologist', 'Southern Italian restaurant', 'Social welfare center', 'Optometrist', 'Emergency dental service', 'Cabinet store', 'Visa consultant', 'Art handcraft', 'Sushi takeaway', 'Educational supply store', 'Weddings', 'Fine dining restaurant', 'Fish & chips restaurant', 'Machine knife supplier', 'Karate club', 'Bricklayer', 'Telephone exchange', 'Dog care', 'Acura dealer', 'Heart hospital', 'Mortgage broker', 'Local history museum', 'Translator', 'Federal credit union', 'Tea house', 'Transportation infrastructure', 'Racecourse', 'Farm household tour', 'State Department Agricultural Development', 'Aston Martin dealer', 'Social services', 'Beverage distributor', 'Employment agency', 'Towing service', 'Hot pot restaurant', 'Mobile home dealer', 'Cell phone charging station', 'Tennis club', 'Copier repair service', 'Electrical installation service', 'Homes', 'Oyster bar restaurant', 'Telecommunications equipment supplier', 'Train station', 'Mathematics school', 'Photography', 'Hospital', 'Printer repair service', 'Copper supplier', 'Home help service agency', 'Used office furniture store', 'Vocal instructor', 'Industrial gas supplier', 'Sweets and dessert buffet', 'Second hand store', 'Shawarma restaurant', 'Dress and tuxedo rental service', 'Water works', 'Tobacco exporter', 'Professional and hobby associations', 'Foundry', 'Psychosomatic medical practitioner', 'VCR repair service', 'Soapland', 'Air duct cleaning service', 'Closed circuit television', 'Coffee store', 'Fire protection equipment supplier', 'Shower door shop', 'Scenic spot', 'Assemblies of God church', 'Art dealer', 'Archery range', 'Metaphysical supply store', 'Poke bar', 'Police station', 'Class', 'Municipal Department of Sports', 'Vegetable wholesaler', 'Architecture firm', 'Freight forwarding service', 'Episcopal church', 'Safety equipment supplier', 'Interior Decorator', 'Spanish restaurant', 'Semi conductor supplier', 'Locks supplier', 'Southeast Asian restaurant', 'Auto parts manufacturer', 'Water sports equipment rental service', 'Cleaning products supplier', 'Baseball', 'Knife store', 'Colombian restaurant', 'Lighting wholesaler', 'Machine construction', 'High ropes course', 'Truck farmer', 'Toiletries store', 'Acrobatic diving pool', 'Water polo pool', 'Pharmaceutical products wholesaler', 'Restaurant', 'Life insurance agency', 'Public safety office', 'Transportation escort service', 'Heating equipment supplier', 'Baptist church', 'Dry cleaner', 'Dog trainer', 'Tile contractor', 'Paving contractor', 'Wholesale grocer', 'Wetland', 'History museum', 'Welding gas supplier', 'Curtain and upholstery cleaning service', 'Hair care', 'Roller skating rink', 'Graffiti removal service', 'Camera repair shop', 'Car rental', 'Gym', 'Concert hall', 'Music school', 'Family law attorney', 'Hamburger restaurant', 'Private investigator', 'Marble supplier', 'Sewing machine store', 'Bike sharing station', 'Industrial vacuum equipment supplier', 'Toyota dealer', 'Stereo repair service', 'Aircraft dealer', 'Creche', 'Pozole restaurant', 'Auto repair shop', 'Tai chi school', 'Office supply store', 'Asian restaurant', 'Pottery store', 'Flight school', 'Wood supplier', 'Fairground', 'Orthotics & prosthetics service', 'Topsoil supplier', 'Outlet store', 'Hypnotherapy service', 'Mapping service', 'Snowmobile dealer', 'Wig shop', 'Wood working class', 'District attorney', 'Superfund site', 'Fair trade organization', 'Dynamometer supplier', 'Ferris wheel', 'Paint store', 'Meditation instructor', 'Computer service', 'Justice of the peace', 'Taxidermist', 'Weigh station', 'Appliance store', 'Exporter', 'Steel distributor', 'Gardener', 'Classified ads newspaper publisher', 'Fishing camp', 'Bankruptcy service', 'Do-it-yourself shop', 'Music producer', 'Radiator repair service', 'Dating service', 'Cosmetic products manufacturer', 'College of agriculture', 'Insurance school', 'Cosmetics', 'Tax consultant', 'Financial institution', 'Financial consultant', 'Scrapbooking store', 'Lawn irrigation equipment supplier', 'Off-road race track', 'Coal supplier', 'Aluminum window', 'Farm school', 'Motoring club', 'Night market', 'Gravel plant', 'Corporate office', 'Film production company', 'Natural goods store', 'Futsal court', 'Photo restoration service', 'Community college', 'Swim club', 'Shelter', 'Kite shop', 'Shipping and mailing', 'Dog walker', 'Metal finisher', 'Hunan restaurant', 'Plating service', 'Kawasaki motorcycle dealer', 'Communications central', 'Faculty of psychology', 'Pet care service', 'Aboriginal art gallery', 'Technology museum', 'Yoga retreat center', 'Amusement ride supplier', 'Airbrushing service', 'Fountain contractor', 'Water treatment supplier', 'Public beach', 'Baseball field', 'Cookie shop', 'Metal stamping service', 'Vocational college', 'Fiber optic products supplier', 'Pinatas supplier', 'Norwegian restaurant', 'Rainwater tank supplier', 'Voter registration office', 'Sofa store', 'Real estate agency', 'Money order service', 'Material handling equipment supplier', 'Religious goods store', 'Grill', 'Turkish restaurant', 'Adult entertainment club', 'Dance store', 'Ridge', 'Boat accessories supplier', 'Ballroom', 'Iron and steel industry', 'Pier', 'Coffee stand', 'Gymnasium Cz', 'Eye care', 'Triumph motorcycle dealer', 'Musical club', 'Painting', 'Meat packer', 'Produce market', 'Vaporizer store', 'Military school', 'Prefabricated house companies', 'Doctor', 'River', 'Excavating contractor', 'Window cleaning service', 'Furnished apartment building', 'Volleyball club', 'Candy store', 'Tourist information center', 'Outerwear store', 'Animals', 'Air conditioning store', 'Rest stop', 'Serviced accommodation', 'Storage', 'Soccer', 'Whale watching tour agency', 'Beach pavillion', 'Crime victim service', 'Rubber stamp store', 'Golf course builder', 'Blinds shop', 'HVAC contractor', 'Denture care center', 'Divorce lawyer', 'Tea store', 'Outdoor swimming pool', 'Carpool', 'Leather cleaning service', 'Container service', 'Light rail station', 'Hunting preserve', 'International school', 'Cash and carry wholesaler', 'Nepalese restaurant', 'Medical clinic', 'Flooring store', 'Business center', 'Real estate consultant', 'Church of Christ', 'Sewing shop', 'Drive-in movie theater', 'Solar energy company', 'Call center', 'Power plant consultant', 'Baseball club', 'Toy and game manufacturer', 'Youth club', 'Beer hall', 'Reef rock submerged', 'Model shop', 'Chiropractor', 'Apartment complex', 'Air conditioning contractor', 'Watch repair service', 'Bar & grill', 'Water purification company', 'Shopping mall', 'Island', 'Paternity testing service', 'Reclamation centre', 'Camping store', 'Water utility company', 'Social security attorney', 'Sharpening service', 'Std clinic', 'Screen store', 'Restaurant supply store', 'Cupcake shop', 'Metal construction company', 'Guitar instructor', 'Bartending school', 'Teacher college', 'Skate shop', 'Korean grocery store', 'Public parking lot', 'High school', 'Passport photo processor', 'Novelty store', 'STD testing service', 'Walk-in clinic', 'Zoo', 'Refugee camp', 'Pool hall', 'Photocopiers supplier', 'Marble contractor', 'Automation company', 'Industrial design company', 'Grocery delivery service', 'Fruit wholesaler', 'Fishing lake', 'Insolvency service', 'Bicycle rack', 'Doula', 'Trailer supply store', 'Plumbing supply store', 'State Department of Transportation', 'Medical office', 'Local government office', 'Water filter supplier', 'Heliport', 'Ocean', 'Credit counseling service', 'Corporate entertainment service', 'Engineer', 'Pet funeral service', 'Transit station', 'Band', 'Plywood supplier', 'Gastropub', 'Mining company', 'Solar hot water system supplier', 'Roofing supply store', 'Seafood restaurant', 'Church of Jesus Christ of Latter-day Saints', 'Chocolate artisan', 'Takeout Restaurant', 'Public health department', 'Entertainment agency', 'Glassware store', 'Seafood wholesaler', 'Railing contractor', 'European restaurant', 'Stage', 'Aged care', 'Garden building supplier', 'Court reporter', 'Army museum', 'City Department of Environment', 'Watch manufacturer', 'Flooring contractor', 'Auto wrecker', 'Snow removal service', 'Cannabis store', 'Bathroom supply store', 'Orthodontist', 'Health and beauty shop', 'Agricultural organization', 'Canal', 'Blueprint service', 'Club', 'Monastery', 'Debt collection agency', 'Human resources', 'Self-catering accommodation', 'Electronics vending machine', 'Music conservatory', 'Judo club', 'Aerobics instructor', 'Stainless steel plant', 'Building materials store', 'Accountant', 'Movie rental store', 'Foreign exchange students organization', 'Trailer repair shop', 'Child care agency', 'Dollar store', 'Bankruptcy attorney', 'Trail head', 'Custom label printer', 'Neonatal physician', 'Certification agency', 'Ice cream equipment supplier', 'Free clinic', 'Mexican restaurant', 'Recycling container location', 'Teeth whitening service', 'Masonic center', 'Flower delivery', 'Aromatherapy service', 'Sports complex', 'Stable', 'Hydraulic equipment supplier', 'Wood and laminate flooring supplier', 'Southwestern restaurant (US)', 'Indoor lodging', 'Oxygen equipment supplier', 'Bird watching area', 'Industrial real estate agency', 'Nuclear power plant', 'Power station', 'Map store', 'Civil police', 'Railroad equipment supplier', 'Environmental engineer', 'Demolition contractor', 'Sports bar', 'Amphitheater', 'Surveyor', 'Crêperie', 'Chicken shop', 'Oncologist', 'Volkswagen dealer', 'Meat products', 'Barrister', 'Hockey club', 'Traditional restaurant', 'Meat dish restaurant', 'Heating', 'Greeting card shop', 'Telephone company', 'Equipment rental agency', 'Print shop', 'Museum', 'Sleep clinic', 'Shooting event area', 'Tour operator', 'Mechanical engineer', 'Bicycle rental service', 'Wood floor installation service', 'Landscape architect', 'Horse trainer', 'Car racing track', 'Structural engineer', 'Disability equipment supplier', 'Eclectic restaurant', 'Clothing wholesaler', 'Pump supplier', 'French language school', 'Pediatric ophthalmologist', 'Appliances', 'Hawaiian restaurant', 'Diner', 'Post office', 'Fuel supplier', 'Deli', 'Housing development', 'Charity', 'Cars', 'Music store', 'Pain management physician', 'Market researcher', 'Door manufacturer', 'Furniture wholesaler', 'Ceiling supplier', 'Foreign consulate', 'Optical wholesaler', 'Mobile hairdresser', 'Office supply', 'Kilt shop and hire', 'Architectural salvage store', 'Waterbed store', 'Park', 'Cosmetics store', 'Boutique', 'Attorney', 'Snowboard shop', 'Fusion restaurant', 'Sports activity location', 'Airport', 'Golf course', 'Community garden', 'Ferry service', 'Medical equipment manufacturer', 'Shabu-shabu restaurant', 'English language camp', 'Cocktail bar', 'Landscaping supply store', 'Computer store', 'Janitorial service', 'Indoor swimming pool', 'Medical group', 'Cake shop', 'Chicken wings restaurant', 'Mine', 'National forest', 'Promenade', 'Saw mill', 'Adoption agency', 'Carport and pergola builder', 'Conservation department', 'Stone cutter', 'Recycling', 'Boxing gym', 'Steelwork manufacturer', 'Dairy supplier', 'West African restaurant', 'University library', 'Public bath', 'Dart bar', 'Desktop publishing service', 'Lamination service', 'Safe & vault shop', 'Foot care', 'Furniture accessories', 'Grain elevator', 'Asian fusion restaurant', 'Steel fabricator', 'Border crossing station', 'Talent agency', 'Russian Orthodox church', 'State park', 'X-ray equipment supplier', 'Tag agency', 'Wine club', 'Aeroclub', 'Flowers', 'Woodworker', 'Bus company', 'Italian restaurant', 'Japanese restaurant', 'Cottage rental', 'Stores and shopping', 'Office equipment supplier', 'Dock builder', 'Newspaper distribution', 'Photo agency', 'Garden furniture shop', 'Hot water system supplier', 'Appliances customer service', 'Shipping equipment industry', 'Clergyman', 'Architects association', 'Make-up artist', 'Tutoring service', 'Marina', 'General practice attorney', 'Glass merchant', 'Train repairing center', 'Forensic consultant', 'Lamp shade supplier', 'Real estate fair', 'Manufacturer', 'Food court', 'Auto air conditioning service', 'Quilt shop', 'Civil law attorney', 'Laundry service', 'Seventh-day Adventist church', 'Employment attorney', \"Jehovah's Witness Kingdom Hall\", 'Aerial photographer', 'Feed manufacturer', 'Linoleum store', 'Kiosk', 'Video equipment repair service', 'Metal polishing service', 'Land planning authority', 'Industrial area', 'Hispanic church', 'Furniture accessories supplier', 'Seasonal goods store', 'Bead store', 'Ramen restaurant', 'Car finance and loan company', 'Tennis court', 'Truck parts supplier', 'Kosher grocery store', 'Shared-use commercial kitchen', 'Barn', 'Unity church', 'Student career counseling office', 'Tattoo artist', 'Toolroom', 'Photography school', 'Wicker store', 'Numerologist', 'Tool grinding service', 'Counselor', 'Photography studio', 'Sewing company', 'General hospital', 'Piano moving service', 'Recycling drop-off location', 'Football club', 'Raft trip outfitter', 'Vineyard church', 'Steak house', 'Alfa Romeo dealer', 'Used appliance store', 'Brasserie', 'Student union', 'Yamaha motorcycle dealer', 'State employment department', 'Stationery manufacturer', 'Disposable tableware supplier', 'Thai massage therapist', 'Wheel alignment service', 'Masonry contractor', 'Storage facility', 'Family service center', 'Motor vehicle dealer', 'Golf club', 'Fish processing', 'Oil and gas exploration service', 'Lottery shop', 'Driver and vehicle licensing agency', 'Amish furniture store', 'Venture capital company', 'Water ski shop', 'Cement manufacturer', 'Mennonite church', 'Muffler shop', 'Burrito restaurant', 'Kitchen supply store', 'Education center', 'Festival', 'Prison', 'Short term apartment rental agency', 'Butcher shop deli', 'Council', 'Carpet wholesaler', 'Livestock breeder', 'Mongolian barbecue restaurant', 'Service establishment', 'Window tinting service', 'Butcher shop', 'Place of worship', 'Wholesale plant nursery', 'Collectibles store', 'Ravine', 'Kitchen remodeler', 'Security system supplier', 'School bus service', 'Veterans organization', 'Wholesale jeweler', 'Emergency services', 'Cold storage facility', 'Food processing company', 'Electric vehicle charging station contractor', 'Laboratory equipment supplier', 'Mold maker', 'Dress store', 'Garbage dump', 'Oral surgeon', 'Furniture rental service', 'Kindergarten', 'Shed builder', 'Septic system service', 'Appliance rental service', 'Building firm', 'Performing arts group', 'Camera store', 'Pen store', 'Orchestra', 'Electrical equipment supplier', 'Vinyl sign shop', 'Doner kebab restaurant', 'Pharmaceutical lab', 'Camper shell supplier', 'Cinema equipment supplier', 'Marriage license bureau', 'Cricket club', 'Blues club', 'Water softening equipment supplier', 'Credit union', 'Physical therapy clinic', \"City clerk's office\", 'Graphic designer', 'Garden', 'Sports accessories wholesaler', 'Emergency veterinarian service', 'Motorcycle rental agency', 'Surf shop', 'Wheel store', 'Paintball store', 'Meeting planning service', 'Psychiatric hospital', 'Outdoor equestrian facility', 'BMX track', 'Skin care', 'Down home cooking restaurant', 'Ducati dealer', 'Waldorf school', 'Auto electrical service', 'Hair extension technician', 'Accounting firm', 'Metal fabricator', 'Probation office', 'Elder law attorney', 'Driving school', 'Truck dealer', 'Neurologist', 'Orthopedic shoe store', 'Emergency training', 'Ear piercing service', 'Muay Thai boxing gym', 'Building design company', 'Montessori school', 'Beauty school', 'Hydraulic repair service', 'Light bulb supplier', 'Gynecologist', 'Birth center', 'Board game club', 'Novelties wholesaler', 'Sculptor', 'Concrete metal framework supplier', 'Distance learning center', 'Glassware manufacturer', 'Taekwondo school', 'Auto accessories wholesaler', 'Pet groomer', 'Auto restoration service', 'Modern French restaurant', 'Tree service', 'Records storage facility', 'X-ray lab', 'Archaeological museum', 'Copying supply store', 'Home cinema installation', 'Small plates restaurant', 'Neapolitan restaurant', 'Ferrari dealer', 'Print services', 'Dental supply store', 'Electronics wholesaler', 'Sambo school', 'Boat dealer', 'Architectural designer', 'Tool rental service', 'Water mill', 'Trial attorney', 'Sports medicine clinic', 'Monument', 'Barbecue restaurant', 'Process server', 'Baby clothing store', 'Vintage clothing store', 'Piano repair service', 'Trucking school', 'Media consultant', 'Bird shop', 'Industrial consultant', 'Psychoanalyst', 'Nut store', 'Domestic abuse treatment center', 'Geological service', 'Barbecue area', 'Equipment importer', 'Electrical supply store', 'Lunch restaurant', 'Cigar shop', 'Private tutor', 'Building inspector', 'Tire repair shop', 'Suzuki motorcycle dealer', 'Orchid grower', 'Authentic Japanese restaurant', 'Scouting', 'Pool cleaning service', 'United Methodist church', 'College', 'Window installation service', 'Cafe', 'After school program', 'E-commerce service', 'Used book store', 'Corporate gift supplier', 'Microwave oven repair service', 'Dump truck dealer', 'Painting lessons', 'Fire department equipment supplier', 'Scale repair service', 'Medical supply store', 'Security guard service', 'Oilfield', 'Trophy shop', 'Health consultant', 'Self service car wash', 'Business park', 'Bay', 'Performing arts', 'Cheese shop', 'Palace', 'Information services', 'Roadside assistance', 'Athletic park', 'Public sauna', 'Tobacco supplier', 'Housing society', 'Building designer', 'Industrial engineer', 'Ammunition supplier', 'Cat boarding service', 'Electric motor repair shop', 'Open university', 'Manufactured home transporter', 'Height works', 'Plastic bag supplier', 'FMCG manufacturer', 'Dermatologist', 'Asbestos testing service', 'Costume store', 'Pediatric orthopedic surgeon', 'Polish restaurant', 'Clothing store', 'Glass repair service', 'Tuxedo shop', 'Mountain pass', 'Pregnancy care center', 'Tennis court construction company', 'Kitchen furniture store', 'Udon noodle restaurant', 'Paper mill', 'Cadillac dealer', 'Leather goods manufacturer', 'Agricultural machinery manufacturer', 'Deaf school', 'Modern Indian restaurant', 'BMX park', 'Condiments supplier', 'Air conditioning repair service', 'Lodging', 'Fire damage restoration service', 'Blood bank', 'Lottery retailer', 'Drafting service', 'Vietnamese restaurant', 'Historical place', 'Hot tub repair service', 'Equestrian store', 'Banking and finance', 'Children Policlinic', 'Fitness equipment wholesaler', 'Outdoor clothing and equipment shop', 'Airstrip', 'Cape Verdean restaurant', 'Yoga studio', 'Mediterranean restaurant', 'Methodist church', 'Immigration attorney', 'Permanent make-up clinic', 'Pond contractor', 'Needlework shop', 'Coffin supplier', 'Beauty', 'Conservative synagogue', 'Computer club', 'Molding supplier', 'Logistics', 'Electric utility manufacturer', 'Amusement machine supplier', 'Underwear store', 'Steelwork design company', 'Skylight contractor', 'Tractor repair shop', 'Dressmaker', 'Auto auction', 'Wedding photographer', 'Design engineer', 'Canoe & kayak rental service', 'Foreclosure service', 'Gastrointestinal surgeon', 'Physician referral service', 'Childrens theater', 'Bar stool supplier', 'Fishing area', 'House clearance service', 'Auto chemistry shop', 'Private equity firm', 'Civil engineering company', 'Swimming pool repair service', 'Family restaurant', 'Sewing machine repair service', 'Statuary', 'Photography service', 'Frozen yogurt shop', 'Camp', 'Sports memorabilia store', 'Radiator shop', 'Ecuadorian restaurant', 'State liquor store', 'City administration', 'Public wheelchair-accessible bathroom', 'Magazine store', 'Australian goods store', 'Taoist temple', 'Convenience store', 'Paintings store', 'Jewelry store', 'Painter', 'Auto upholsterer', 'Cable company', 'Meat wholesaler', 'Plastic injection molding service', 'Immigration & naturalization service', 'Ambulance service', 'Art supply store', 'Correctional services department', 'Rheumatologist', 'Steel construction company', 'Energy supplier', 'Chemical manufacturer', 'Agricultural cooperative', 'Horse breeder', 'Truck topper supplier', 'Finishing materials supplier', 'Dim sum restaurant', 'Smart Car dealer', 'Chinese tea house', 'Check cashing service', 'Veterinarian', 'Jujitsu school', 'District government office', 'Stock broker', 'Lighting consultant', 'Pumping equipment and service', 'Archery store', 'Internet shop', 'Body arts', 'Medical technology manufacturer', 'Rugby club', 'Snowmobile rental service', 'Roller skating club', 'Massage', 'Eye care center', 'Marketing consultant', 'Computer repair service', 'Shipping and mailing service', 'Auto painting', 'Herbal medicine store', 'Decal supplier', 'Newsstand', 'Family planning center', 'Engineering school', 'Sportwear manufacturer', 'Technical university', 'Audio visual equipment rental service', 'City government office', 'Auditorium', 'Pretzel store', 'Health spa', 'Child psychologist', 'Go-kart track', 'Dental clinic', 'Construction company', 'Importer', 'Personal trainer', 'Used car dealer', 'Cleaners', 'Dog park', 'Packaging company', 'Religious destination', 'Aquatic centre', 'Electronics repair shop', 'Ready mix concrete supplier', 'Lawn sprinkler system contractor', 'Newspaper advertising department', 'Unitarian Universalist Church', 'Mazda dealer', 'Martial arts supply store', 'Electrical wholesaler', 'Interior plant service', 'Wholesale bakery', 'Ford', 'Log home builder', 'Accounting school', 'Food processing equipment', 'Federal courthouse', 'Carpet store', 'Party planner', 'Title company', 'Mental health service', 'Tax preparation', 'Diagnostic center', 'Gymnastics center', 'Nursing home', 'Irrigation equipment supplier', 'Tool wholesaler', 'Transportation', 'Massage supply store', 'Travel clinic', 'Alliance church', 'Toll booth', 'Youth group', 'Roads ports and canals engineers association', 'Olive oil cooperative', 'Northern Italian restaurant', 'Plumber', 'Laundromat', 'Glass shop', 'Financial planner', 'Calvary Chapel church', 'Portrait studio', 'Video editing service', 'Adult education school', 'Live music venue', 'Stucco contractor', 'Psychologist', 'Marine engineer', 'Nurse practitioner', 'Spiritist center', 'Appraiser', 'Army facility', 'Green energy supplier', 'Finance broker', 'Badminton court', 'Hydraulic engineer', 'Genesis dealer', 'Ladder supplier', 'Nail salon', 'Firearms academy', 'Chinese restaurant', 'Rowing club', 'Pet adoption service', 'Native american goods store', 'SCUBA tour agency', 'Honey farm', 'Holiday apartment', 'Buick dealer', 'Resident registration office', 'Housing association', 'Tamale shop', 'Computer desk store', 'Machine maintenance', 'Multimedia and electronic book publisher', 'Air conditioning system supplier', 'Used computer store', 'Interior construction contractor', 'Boat storage facility', 'Proctologist', 'Video arcade', 'Countertop store', 'Store equipment supplier', 'Diabetologist', 'Sports school', 'Karaoke', 'Mining equipment', 'Horse trailer dealer', 'Childrens club', 'Spa garden', 'Public swimming pool', 'Audio visual consultant', 'Townhouse complex', 'Catholic school', 'Video store', 'Stylist', 'Art museum', 'Jeep dealer', 'Housing cooperative', 'Medical certificate service', 'Household chemicals supplier', 'Factory equipment supplier', 'Footwear wholesaler', 'Sugar factory', 'Asian household goods store', 'Pediatric cardiologist', 'Water damage restoration service', 'Picture frame shop', 'ATV dealer', 'Fertility physician', 'University', 'Car detailing service', 'Diesel fuel supplier', 'Vacuum cleaning system supplier', 'Fireworks store', 'Hookah store', 'Acoustical consultant', 'County court', 'Hunting club', 'Auto market', 'Gymnastics club', 'Californian restaurant', 'Horse riding', 'Driveshaft shop', 'Warehouse store', 'Crane dealer', 'Technology park', 'Ayurvedic clinic', 'Vegetation', 'Dentist', 'Photo shop', 'Horse riding school', 'Wine store', 'Mechanical contractor', 'Garment exporter', 'Fire station', 'Portable building manufacturer', 'Trailer manufacturer', 'Picnic ground', 'Mountain cabin', 'Biofeedback therapist', 'Office equipment repair service', 'Cabaret club', 'Fish and chips takeaway', 'Manor house', 'Property maintenance', 'Contact lenses supplier', 'Horseback riding service', 'Landmark', 'Middle Eastern restaurant', 'Auto parts market', 'Hydroponics equipment supplier', 'Crane rental agency', 'Fishing club', 'Environment renewable natural resources', 'Flooring', 'Extended stay hotel', 'Theme park', 'Scooter repair shop', 'Conservatory of music', 'School district office', 'Party store', 'Hookah bar', 'Vineyard', 'Race car dealer', 'Visitor center', 'Figurine shop', 'Futon store', 'Auditor', 'Refrigerator store', 'Dialysis center', 'Livestock producer', 'Fur service', 'Outdoor activity organiser', 'Indoor golf course', 'Highway patrol', 'Visa and passport office', 'Building', 'Textile exporter', 'Mountain peak', 'Mental health clinic', 'Osteopath', 'Wedding buffet', 'Nuevo Latino restaurant', 'Elevated', 'Bird control service', 'Notions store', 'Pre gymnasium school', 'Laundry room', 'Property management company', 'Alternative medicine practitioner', 'Family counselor', 'Wellness program', 'Dart supply store', 'Chicken restaurant', 'Business development service', 'Psychiatrist', 'Oriental rug store', 'Uniform store', 'Leather repair service', 'Toner cartridge supplier', 'Gift wrap store', 'Low emission zone', 'Hoagie restaurant', 'Spring supplier', 'Natural stone exporter', 'Wildlife and safari park', 'Security system installer', 'Optician', 'Pediatrician', 'Medical laboratory', 'Jewelry appraiser', 'Luggage store', 'Embroidery service', 'Concrete product supplier', 'Software company', 'Balloon store', 'Helium gas supplier', 'Bank or ATM', 'Horse riding field', 'Interior door', 'Gas cylinders supplier', 'Ballroom dance instructor', 'Honduran restaurant', 'Telemarketing service', 'Lexus dealer', 'Faculty of sports', 'Packaging machinery', 'Coin operated laundry equipment supplier', 'Water skiing club', 'Biking trail', 'Soy sauce maker', 'Pool academy', 'Chinese food', 'Flamenco school', 'Izakaya restaurant', 'Research engineer', 'Literacy program', 'Supreme court', 'Flamenco', 'Israeli restaurant', 'Venezuelan restaurant', 'Bentley dealer', 'Drawing lessons', 'Modern art museum', 'Regional council', 'Traffic police station', 'Olive oil bottling company', 'Windsurfing store', 'Clothing wholesale market place', 'Folk high school', 'Training', 'Electronics hire shop', 'Churreria', 'Kebab shop', 'Public webcam', 'Embossing service', 'Coffee', 'Sailing event area', 'Afghani restaurant', 'Non smoking holiday home', 'Natural history museum', 'Canoe and kayak club', 'Sport tour agency', 'Bicycles', 'Room', 'Fishing', \"Bahá'í house of worship\", 'Parochial school', 'Toy museum', 'Biryani restaurant', 'Mercantile development', 'Metalware dealer', 'Legally defined lodging', 'Furniture', 'Municipal corporation', 'Railroad ties supplier', 'State Department Housing and Urban Development', 'British restaurant', 'Shrimp farm', 'Childrens farm', 'Bowling club', 'Elevator', 'Chinese medicine', 'Indian Muslim restaurant', 'Egyptian restaurant', 'Anodizer', 'Stitching class', 'Recreational vehicle', 'Sundae restaurant', 'Lock Store', 'Crisis center', 'Country food restaurant', 'Household goods wholesaler', 'Bangladeshi restaurant', 'Mountain range', 'State Department Civil Defense', 'Capsule hotel', 'Pan-Latin restaurant', 'Volcano', 'Plastic bags wholesaler', 'Psychopedagogy clinic', 'Incineration plant', 'Residential college', 'War museum', 'Public prosecutors office', 'Kimono store', 'Handicraft fair', 'Tesla showroom', 'Geological research company', 'Fish spa', 'Ethnic restaurant', 'Home hairdresser', 'Seafood', 'Fund management company', 'Management school', 'French steakhouse restaurant', 'Oriental medical clinic', 'City employment department', 'Welding', 'Sperm bank', 'Georgian restaurant', 'Modern European restaurant', 'Travel lounge', 'Plastic resin manufacturer', 'Town square', 'Pacific Northwest restaurant (US)', 'Silk store', 'Greengrocer', 'Cotton mill', 'Coin cashing machine', 'Patent office', 'Cat trainer', 'Judicial auction', 'Dance conservatory', 'Escalator', 'Glassware wholesaler', 'Assembly room', 'Harley-Davidson dealer', 'Outlet mall', 'Music instruction', 'Refrigerated transport service', 'Civil engineering construction company', 'Train yard', 'Chinese language school', 'Japanese grocery store', \"Boys' high school\", 'Helpline', 'District court', 'Ski school', 'Sukiyaki and Shabu Shabu restaurant', 'Plast window store', 'Blind school', 'Nicaraguan restaurant', 'Emergency management ministry', 'Tower', 'Japanese food', 'Transit stop', 'Wholesale drugstore', 'Basilica', 'Military town', 'Sweets', 'Chocolate cafe', 'Mobile communications service', 'Studying center', 'Wine', 'Fruit and vegetable processing', 'Federal police', 'Haute French restaurant', 'Hair', 'Higher education', 'Bugatti dealer', 'Regional government office', 'Cattle market', 'Town', 'Geologist', 'Childrens library', 'State Department Science Technology', 'Military barracks', 'Hardware training institute', 'Shipbuilding and repair company', 'Sichuan restaurant', 'Farming', 'Yucatan restaurant', 'Mining consultant', 'Armenian church', 'Seaport', 'Science museum', 'Greyhound stadium', 'Education and culture', 'Uzbeki restaurant', 'Rock climbing instructor', 'Po’ boys restaurant', 'Civil examinations academy', 'Electrical', 'Polynesian restaurant', 'Dental', 'National reserve', 'Call shop', 'Cricket shop', 'Basque restaurant', 'Bazar', 'Sheepskin and wool products supplier', 'Surgical products wholesaler', 'Paper exporter', 'Online share trading center', 'Lamborghini dealer', 'Statue', 'Water purifier supplier', 'Geriatrician', 'North African restaurant', 'Ticketing area', 'Energy efficiency company', 'Swordsmanship', 'Car parts wholesaler', 'Hungarian restaurant', 'Foreign trade consultant', 'Abbey', 'Japanese sweets restaurant', 'Slaughterhouse', 'Beach cleaning service', 'Steel industry', 'Metalware producer', 'Books wholesaler', 'Medical specialist', 'Volleyball instructor', 'Rowing area', 'Border guard', 'Drinking water dispenser', 'Electronic engineer', 'Womens protection service', 'Nudist club', 'Pet food and animal feeds', 'Aerated drinks supplier', 'Mail room', 'English language instructor', 'Chamber of agriculture', 'Ethnographic museum', 'Back office', 'Gypsum product supplier', 'Rice shop', 'Kinesiologist', 'Vehicle examination office', 'Gas', 'Agricultural engineer', 'City district office', 'Dancing', 'Office administration service', 'Flower wholesale', 'Budget Japanese inn', 'Opera house', 'Signwriter and manufacturer', 'Hockey', 'Traditional Kostume store', 'South African restaurant', 'Japanese delicatessen', 'Seafood farm', 'Chilean restaurant', 'Area', 'Ship building', 'Lost property office', 'Tiki bar', 'Seafood store', 'Outdoor bath', 'Seasonal lake', 'Curling club', 'Market operator', 'Cooling plant', 'Dried seafood store', 'Hygiene station', 'Aluminum frames supplier', 'Sri Lankan restaurant', 'Institute', 'City pillar shrine', 'Weaving mill', 'Tempura restaurant', 'Steamed bun shop', 'Seminar room', 'Fishing and hunting', 'Train ticket office', 'Party', 'Coat wholesaler', 'Video karaoke', 'Dune', 'Dyeworks', 'Typewriter repair service', 'Seaplane base', 'Deaf church', 'Reenactment site', 'Airbrushing supply store', 'Electronics exporter', 'Open air museum', 'Pontiac dealer', 'Comic cafe', 'Outdoor activities', 'Archery event', 'Information desk', 'Padel club', 'Rugby', 'Pacific Rim restaurant', 'Lingerie manufacturer', 'Training consultant', 'Thermal energy company', 'Biochemistry lab', 'Japanese regional restaurant', 'Port operating company', 'German language school', 'Electronics device', 'Assembly hall', 'Petrochemical engineer', 'Guardia Di Finanza Police', 'Danish restaurant', 'Alternative medicine clinic', 'Rehabilitation', 'Rock music club', 'Scout hall', 'Horseshoe smith', 'Pilgrimage place', 'Fire extinguisher', 'Marine self defense force', 'Training provider', 'Public transportation system', 'Traditional costume club', 'Bungee jumping center', 'Tatami store', 'Alumni association', 'Roman restaurant', 'Kitchens', 'Dept of State Treasure', 'Kaiseki restaurant', 'Toll road rest stop', 'Pagoda', 'National library', 'Dutch restaurant', 'Glacier', 'English restaurant', 'Television', 'Thermal baths', 'Public amenity house', 'Chinese bakery', 'Municipal Department Social Defense', 'Aikido club', 'Non-public area', 'Monorail station', 'Croatian restaurant', 'Bar tabac', 'Dye store', 'Conservatory supply & installation', 'Traffic officer', 'Biotechnology engineer', 'Pediatric rheumatologist', 'Election commission', 'Indian sizzler restaurant', 'Weir', 'Army', 'River confluence', 'Sports association', 'Domestic services', 'Swiss restaurant', 'Kyoto style Japanese restaurant', 'Lyceum', 'University lab room', 'Hammam', 'Ice cream and drink shop', 'Community service', 'Austrian restaurant', 'Drinking water', 'Asian', 'Faculty of law', 'Venereologist', 'Evening dress rental service', 'Womens college', 'Office building', 'Skating instructor', 'Gate', 'Watering hole', 'Puppet theater', 'Cured ham warehouse', 'Traditional market', 'Japanese confectionery shop', 'Architecture', 'Rice cake shop', 'Western food', 'Medicine exporter', 'Building society', 'Taxis', 'Walkway', 'Turnery', 'BPO placement agency', 'Sanctuary', 'Grammar school', 'Pediatric endocrinologist', 'Qing fang market place', 'Mahjong house', 'Philharmonic hall', 'Isthmus', 'Oaxacan restaurant', 'Water navigation', 'Hot spring hotel', 'Piano', 'Social security financial department', 'Shop supermarket furniture store', 'Native American restaurant', 'Conservatory construction contractor', 'Bullring', 'Foreman builders association', 'Uruguayan restaurant', 'IMAX theater', 'Electronics industry', 'Gambling area', 'Porridge restaurant', 'Tortilla shop', 'Municipal Department Civil Defense', 'Nursing room', 'Digital media', 'Nuclear power company', 'Levee', 'Army barracks', \"Engineers' merchant\", 'Stock exchange building', 'Hawker stall', 'Furrier', 'Assistante maternelle', 'Video equipment and services', 'Printed music publisher', 'Costa Rican restaurant', 'Employment services', 'Seasonal river', 'Marquee hire service', 'Home furnishings', 'Security bureau', 'Mobile phone', 'Pediatric neurologist', 'Customs counter', 'Pediatric urologist', 'Horse carriage station', 'Natural beauty spot', 'Security systems', 'Pediatric pulmonologist', 'Host club', 'Spices exporter', 'Japanese inn', 'Tunisian restaurant', 'Yakitori restaurant', 'Indian food', 'Auto part and accessory manufacturer', 'Course center', 'LPG conversion', 'Salons', 'Japanese cheap sweets shop', 'Archipelago', 'Food and beverage distributors', 'Real estate photographer', 'Kushiyaki restaurant', 'Korean rib restaurant', 'Iron and steel store', 'Farmers cooperative', 'Military archive', 'Design services', 'European institution', 'Town office', 'Trolleybus stop', 'Chartered accountant', 'Security-checked area', 'Service counter', 'Gym With Swimming Pool', 'Trailer', 'Filtration plant', 'Ocean rock exposed', 'Jiangsu restaurant', 'Floridian restaurant', 'Welsh restaurant', 'South Indian restaurant', 'Match box manufacturer', 'Airport security checkpoint', 'Studio apartment', 'Sukiyaki restaurant', 'Aeromodel shop', 'Municipal Social Development', 'Bicycle store', 'Pizza takeaway', 'Catalonian restaurant', 'Syokudo and Teishoku restaurant', 'Scottish restaurant', 'Toys', 'Department for Regional Development', 'Satay restaurant', 'Delegated driver service', 'Summer toboggan run', 'Trucks', 'Smoking area', 'American football field', 'Playroom', 'Television tower', 'American grocery store', 'Arts and crafts', 'Municipal Department Housing and Urban Development', 'Rice cracker shop', 'Lobby', 'Training courses', 'Oldsmobile dealer', 'Independent or preparatory school', 'Windows', 'Labour department', 'Chesapeake restaurant', 'Musical institutions', 'Cranes', 'Stadium seating area', 'Municipal Department of Culture', 'Vehicle rental', 'Ecologists association', 'E-commerce', 'Chemicals', 'Beekeeping', 'Sundanese restaurant', 'Tavern', 'Staircase', 'Working womens hostel', 'Stone', 'State Department Agriculture Food Supply', 'Traditional teahouse', 'Perfume exporter', 'Wallpaper installer', 'Fishing port', 'Frituur', 'Tongue restaurant', 'Kerala restaurant', 'Favela', 'Unagi restaurant', 'Transit platform group', 'Ticket holder area', 'County office', 'County governors office', 'Motorcycle training centre', 'Wax museum', 'Chartered surveyor', 'Goan restaurant', 'Agent', 'State owned farm', 'Ritual services', 'Indoor snowcenter', 'Political organization', 'Book printer', 'Volleyball', 'Cigarette vending machine', 'Asturian restaurant', 'Fault']\n",
            "El número de categorías es:  4471\n",
            "Los restaurantes abarcan el 6.55% de las categorías\n"
          ]
        }
      ]
    },
    {
      "cell_type": "markdown",
      "source": [
        "Es de interés conocer cuantos de los registros tienen la cadena 'restaurant' en alguna de sus categorías, esto es lo mismo que responder a la pregunta: ¿Cuántos de estos negocios son restaurantes?."
      ],
      "metadata": {
        "id": "Yu0m4tKp7r2b"
      }
    },
    {
      "cell_type": "code",
      "source": [
        "df_aux = metadata_sitios.withColumn(\"category\", col(\"category\").cast(\"string\"))\n",
        "\n",
        "# Filtra y cuenta las filas que contienen 'restaurant' en la columna 'category'\n",
        "contador_restaurant = df_aux.filter(col(\"category\").contains('restaurant')).count()\n",
        "\n",
        "\n",
        "# Imprime el resultado\n",
        "print(\"El número de restaurantes es:\", contador_restaurant)"
      ],
      "metadata": {
        "colab": {
          "base_uri": "https://localhost:8080/"
        },
        "id": "qdFD3A9x75yP",
        "outputId": "19e9720f-d9d8-468c-ad23-1664a72834b8"
      },
      "execution_count": 15,
      "outputs": [
        {
          "output_type": "stream",
          "name": "stdout",
          "text": [
            "El número de restaurantes es: 152198\n"
          ]
        }
      ]
    },
    {
      "cell_type": "markdown",
      "source": [
        "Esto quiere decir que aproximadamente el 5% de los registros del Dataset \"metadata_sitios\" corresponde a restaurantes, conocer esto es de bastante utilidad para dimensionar el tamaño de los archivos que vamos a normalizar y cargar en nuestra base de datos."
      ],
      "metadata": {
        "id": "e91dM75M-wEL"
      }
    },
    {
      "cell_type": "code",
      "source": [
        "df_aux = metadata_sitios.withColumn(\"category\", col(\"category\").cast(\"string\"))\n",
        "\n",
        "# Filtra y cuenta las filas que contienen 'Vegetarian restaurant' en la columna 'category'\n",
        "contador_vegetarian = df_aux.filter(col(\"category\").contains('Vegetarian restaurant')).count()\n",
        "\n",
        "\n",
        "# Imprime el resultado\n",
        "print(\"El número de restaurantes vegetarianos es:\", contador_vegetarian)\n",
        "print(f\"Representa el: {round(contador_vegetarian*100/contador_restaurant,2)}% de los restaurantes\")"
      ],
      "metadata": {
        "colab": {
          "base_uri": "https://localhost:8080/"
        },
        "id": "AhggnhXWLh3R",
        "outputId": "755361b7-b68d-4b29-b58f-44fe144cb792"
      },
      "execution_count": 46,
      "outputs": [
        {
          "output_type": "stream",
          "name": "stdout",
          "text": [
            "El número de restaurantes vegetarianos es: 2775\n",
            "Representa el: 1.82% de los restaurantes\n"
          ]
        }
      ]
    },
    {
      "cell_type": "markdown",
      "source": [
        "Proseguiremos a explorar los demás DataFrames, analizando los datos nulos de manera similar.\n",
        "\n",
        "\n"
      ],
      "metadata": {
        "id": "WIkPL7UuDlOl"
      }
    },
    {
      "cell_type": "code",
      "source": [
        "#Se leen los reviews de Nevada\n",
        "\n",
        "reviews_Nevada=[]\n",
        "\n",
        "\n",
        "bandera=True\n",
        "\n",
        "i=1\n",
        "\n",
        "while bandera:\n",
        "\n",
        "    try:\n",
        "\n",
        "\n",
        "\n",
        "\n",
        "        archivo = spark.read.json(f\"/content/drive/My Drive/Google Maps/reviews-estados/review-Nevada/{i}.json\")\n",
        "\n",
        "\n",
        "\n",
        "        reviews_Nevada.append(archivo)\n",
        "\n",
        "        i+=1\n",
        "\n",
        "\n",
        "    except:\n",
        "\n",
        "        bandera=False\n",
        "\n",
        "\n",
        "df_final = reviews_Nevada[0]\n",
        "\n",
        "for dataframe in reviews_Nevada[1:]:\n",
        "\n",
        "  df_final = df_final.unionByName(dataframe)\n",
        "\n",
        "\n",
        "reviews_Nevada=df_final\n",
        "\n"
      ],
      "metadata": {
        "id": "61ZwaPgQoYg4"
      },
      "execution_count": 16,
      "outputs": []
    },
    {
      "cell_type": "code",
      "source": [
        "reviews_Nevada.show()"
      ],
      "metadata": {
        "colab": {
          "base_uri": "https://localhost:8080/"
        },
        "id": "9cldmd-Q4DIn",
        "outputId": "86633bf6-cbef-42ca-e99c-3acbab9390b0"
      },
      "execution_count": 17,
      "outputs": [
        {
          "output_type": "stream",
          "name": "stdout",
          "text": [
            "+--------------------+--------------------+--------------------+------+----+--------------------+-------------+--------------------+\n",
            "|             gmap_id|                name|                pics|rating|resp|                text|         time|             user_id|\n",
            "+--------------------+--------------------+--------------------+------+----+--------------------+-------------+--------------------+\n",
            "|0x80c8c5cdced316b...|              CDL CO|[{[https://lh5.go...|     5|NULL|No frills smaller...|1622740504476|10284317018302631...|\n",
            "|0x80c8c5cdced316b...|           So_ Blind|                NULL|     1|NULL|Save yourself the...|1573159413820|11495439213790774...|\n",
            "|0x80c8c5cdced316b...|         Greg Hansen|                NULL|     3|NULL|I passed two Star...|1515251163362|11652343333008911...|\n",
            "|0x80c8c5cdced316b...|        Brett Powell|                NULL|     3|NULL|It does the job a...|1506206762095|10330405379128112...|\n",
            "|0x80c8c5cdced316b...|              M Aris|                NULL|     3|NULL|                NULL|1468298771892|11416241634445097...|\n",
            "|0x80c8c5cdced316b...|     Javier Banuelos|                NULL|     4|NULL|                NULL|1462084483429|11500631278945376...|\n",
            "|0x80c8c5cdced316b...|        Terri Hughes|                NULL|     3|NULL|                NULL|1530435882286|10034210122160881...|\n",
            "|0x80c8c5cdced316b...|         juiceten711|                NULL|     5|NULL|                NULL|1550539981604|11235304382658867...|\n",
            "|0x80c8ea3f06df971...|        Rori Gilliam|                NULL|     5|NULL|Very helpful staf...|1622512145482|10898847487525723...|\n",
            "|0x80c8ea3f06df971...|         Glenn Mundo|                NULL|     5|NULL|Let's see, I came...|1509485965434|10718240153465348...|\n",
            "|0x80c8ea3f06df971...|          Josh Reyes|                NULL|     1|NULL|Sign out side say...|1586984695399|11816296728108765...|\n",
            "|0x80c8ea3f06df971...|     Pamela Santiago|                NULL|     5|NULL|My go to place fo...|1564002127407|10362742203862992...|\n",
            "|0x80c8ea3f06df971...|   Joe Benavidez III|                NULL|     5|NULL|Owner is very nic...|1527204947439|10485960130512796...|\n",
            "|0x80c8e9c312d2a0b...|   Stephanie Zamudio|                NULL|     4|NULL|Thank you for you...|1625241079058|11064630734851963...|\n",
            "|0x80c8e9c312d2a0b...|        Chris Godwin|                NULL|     1|NULL|Dont use the phar...|1613587940153|11111425089370418...|\n",
            "|0x80c8e9c312d2a0b...|Lance Johns is Dr...|                NULL|     1|NULL|This store advert...|1625641924568|11344495910436495...|\n",
            "|0x80c8e9c312d2a0b...|         Jane Griffo|                NULL|     5|NULL|This is the best ...|1600664919889|11383364695645442...|\n",
            "|0x80c8e9c312d2a0b...|           Walid Ali|                NULL|     1|NULL|The worst CVS loc...|1612300782301|11382392665660792...|\n",
            "|0x80c8e9c312d2a0b...|      Shaun Williams|                NULL|     5|NULL|Great store! This...|1558217675059|10532374066281278...|\n",
            "|0x80c8e9c312d2a0b...|                FC B|                NULL|     5|NULL|Make sure you all...|1584296812548|10558603312398820...|\n",
            "+--------------------+--------------------+--------------------+------+----+--------------------+-------------+--------------------+\n",
            "only showing top 20 rows\n",
            "\n"
          ]
        }
      ]
    },
    {
      "cell_type": "code",
      "source": [
        "#Muestra el número de filas del DataFrame\n",
        "reviews_Nevada.count()"
      ],
      "metadata": {
        "colab": {
          "base_uri": "https://localhost:8080/"
        },
        "id": "W370T5t6komZ",
        "outputId": "59519224-e571-4ec1-f95d-ed2a356e9c28"
      },
      "execution_count": 18,
      "outputs": [
        {
          "output_type": "execute_result",
          "data": {
            "text/plain": [
              "1800000"
            ]
          },
          "metadata": {},
          "execution_count": 18
        }
      ]
    },
    {
      "cell_type": "code",
      "source": [
        "conteo_nulos(reviews_Nevada)"
      ],
      "metadata": {
        "colab": {
          "base_uri": "https://localhost:8080/"
        },
        "id": "_aTLLBPnktLy",
        "outputId": "d3ea6808-9508-4e93-bd89-6b4dc050c410"
      },
      "execution_count": 19,
      "outputs": [
        {
          "output_type": "stream",
          "name": "stdout",
          "text": [
            "+-------+----+-------+------+-------+------+----+-------+\n",
            "|gmap_id|name|   pics|rating|   resp|  text|time|user_id|\n",
            "+-------+----+-------+------+-------+------+----+-------+\n",
            "|      0|   0|1732682|     0|1575071|735147|   0|      0|\n",
            "+-------+----+-------+------+-------+------+----+-------+\n",
            "\n"
          ]
        }
      ]
    },
    {
      "cell_type": "markdown",
      "source": [
        "En este caso las columnas 'pics' y 'resp' tienen muchos datos nulos como para ser consideradas, de manera similar ocurre con los otros dos Estados. También nos damos cuenta que la columna 'gmap_id' jugará un papel clave para identificar cada negocio en el Dataset de metadata_sitios"
      ],
      "metadata": {
        "id": "YpDA6wkEl_oX"
      }
    },
    {
      "cell_type": "code",
      "source": [
        "#Se leen los reviews de Florida\n",
        "\n",
        "reviews_Florida=[]\n",
        "\n",
        "\n",
        "bandera=True\n",
        "\n",
        "i=1\n",
        "\n",
        "while bandera:\n",
        "\n",
        "    try:\n",
        "\n",
        "\n",
        "\n",
        "\n",
        "        archivo = spark.read.json(f\"/content/drive/My Drive/Google Maps/reviews-estados/review-Florida/{i}.json\")\n",
        "\n",
        "\n",
        "\n",
        "        reviews_Florida.append(archivo)\n",
        "\n",
        "        i+=1\n",
        "\n",
        "\n",
        "    except:\n",
        "\n",
        "        bandera=False\n",
        "\n",
        "\n",
        "df_final = reviews_Florida[0]\n",
        "\n",
        "for dataframe in reviews_Florida[1:]:\n",
        "\n",
        "  df_final = df_final.unionByName(dataframe)\n",
        "\n",
        "\n",
        "reviews_Florida=df_final"
      ],
      "metadata": {
        "id": "p8DZvx8P25KC"
      },
      "execution_count": 20,
      "outputs": []
    },
    {
      "cell_type": "code",
      "source": [
        "reviews_Florida.show()"
      ],
      "metadata": {
        "colab": {
          "base_uri": "https://localhost:8080/"
        },
        "id": "LGWi2SbFm3Sg",
        "outputId": "56897a95-a15d-4fbe-fd89-11af63e6bad9"
      },
      "execution_count": 21,
      "outputs": [
        {
          "output_type": "stream",
          "name": "stdout",
          "text": [
            "+--------------------+--------------------+----+------+--------------------+--------------------+-------------+--------------------+\n",
            "|             gmap_id|                name|pics|rating|                resp|                text|         time|             user_id|\n",
            "+--------------------+--------------------+----+------+--------------------+--------------------+-------------+--------------------+\n",
            "|0x8893863ea87bd5d...|     Julie A. Gerber|NULL|     1|{Thank you for th...|Update: Their “re...|1628003250740|10147185615514872...|\n",
            "|0x8893863ea87bd5d...|    Martin Sheffield|NULL|     5|{Thank you for re...|He's a knowledgea...|1595031217005|11547723478903832...|\n",
            "|0x8893863ea87bd5d...|        Brian Truett|NULL|     5|                NULL|Best doctor I've ...|1522924253567|10180501024489283...|\n",
            "|0x8893863ea87bd5d...|            Tina Sun|NULL|     1|                NULL|I was told he is ...|1467907819586|10634442288149374...|\n",
            "|0x8893863ea87bd5d...|        James Haynes|NULL|     5|                NULL|Takes the time to...|1480683415081|10087511306956177...|\n",
            "|0x8893863ea87bd5d...|         Rosa Lazaro|NULL|     5|                NULL|    Very good doctor|1540086464316|10343883932831185...|\n",
            "|0x8893863ea87bd5d...|       Tiffiany Dunn|NULL|     5|                NULL|                NULL|1540271430060|11339825818658817...|\n",
            "|0x88c33f1c8e1f99a...|Mekyel'la Beauty Bar|NULL|     5|                NULL|The Husband and W...|1618798560242|11427815177306835...|\n",
            "|0x88c33f1c8e1f99a...|Janice Powers Joh...|NULL|     5|                NULL|Professional help...|1624477902312|11558616650561611...|\n",
            "|0x88c33f1c8e1f99a...|          SaSa Armor|NULL|     1|                NULL|You are better of...|1486150597552|11024429585266890...|\n",
            "|0x88c33f1c8e1f99a...|       Jayde Machado|NULL|     5|                NULL|I’ve always had a...|1514596802183|10793465584347823...|\n",
            "|0x88c33f1c8e1f99a...|        Agnes Gustek|NULL|     1|                NULL|We've sent extrem...|1411578418729|11090990108410634...|\n",
            "|0x88c33f1c8e1f99a...|        Erik Goddard|NULL|     1|                NULL|Their website say...|1427751652041|11323490747865560...|\n",
            "|0x88c33f1c8e1f99a...|      timothy fettig|NULL|     5|                NULL|                NULL|1535731705137|10474616265185097...|\n",
            "|0x88c33c2935058dd...|          Ana Molina|NULL|     5|                NULL|One of the best, ...|1578327536487|10788606090371312...|\n",
            "|0x88c33c2935058dd...|     Cynthia newsome|NULL|     5|{Thank you for th...|The Best Kay is o...|1608155264537|11827643126924585...|\n",
            "|0x88c33c2935058dd...|               David|NULL|     5|                NULL|One of the best p...|1539178349744|11340057354599091...|\n",
            "|0x88c33c2935058dd...|      Bella Marrowin|NULL|     5|{Thank you so muc...|Good\\nExelent ser...|1542812007923|11208594439187101...|\n",
            "|0x88c33c2935058dd...|     Juanita Aguilar|NULL|     5|{Thank you Juanit...|I've raised 5 chi...|1524574991535|11013539234651977...|\n",
            "|0x88c33c2935058dd...|Ana Cristina Padilha|NULL|     5|                NULL| They are the best!!|1448994410571|11716746368049959...|\n",
            "+--------------------+--------------------+----+------+--------------------+--------------------+-------------+--------------------+\n",
            "only showing top 20 rows\n",
            "\n"
          ]
        }
      ]
    },
    {
      "cell_type": "code",
      "source": [
        "reviews_Florida.count()"
      ],
      "metadata": {
        "colab": {
          "base_uri": "https://localhost:8080/"
        },
        "id": "3RZQhdiKmYGz",
        "outputId": "898807bc-102c-4e4b-e5e2-3ca5a21abb43"
      },
      "execution_count": 22,
      "outputs": [
        {
          "output_type": "execute_result",
          "data": {
            "text/plain": [
              "2850000"
            ]
          },
          "metadata": {},
          "execution_count": 22
        }
      ]
    },
    {
      "cell_type": "code",
      "source": [
        "conteo_nulos(reviews_Florida)"
      ],
      "metadata": {
        "colab": {
          "base_uri": "https://localhost:8080/"
        },
        "id": "jiFdM8hfmboo",
        "outputId": "cfabdfd6-ca6d-4aec-fcc5-7ab050465ec8"
      },
      "execution_count": 23,
      "outputs": [
        {
          "output_type": "stream",
          "name": "stdout",
          "text": [
            "+-------+----+-------+------+-------+-------+----+-------+\n",
            "|gmap_id|name|   pics|rating|   resp|   text|time|user_id|\n",
            "+-------+----+-------+------+-------+-------+----+-------+\n",
            "|      0|   0|2745810|     0|2394601|1079510|   0|      0|\n",
            "+-------+----+-------+------+-------+-------+----+-------+\n",
            "\n"
          ]
        }
      ]
    },
    {
      "cell_type": "code",
      "source": [
        "#Se leen los reviews de Virginia\n",
        "\n",
        "reviews_Virginia=[]\n",
        "\n",
        "\n",
        "bandera=True\n",
        "\n",
        "i=1\n",
        "\n",
        "while bandera:\n",
        "\n",
        "    try:\n",
        "\n",
        "\n",
        "\n",
        "\n",
        "        archivo = spark.read.json(f\"/content/drive/My Drive/Google Maps/reviews-estados/review-Virginia/{i}.json\")\n",
        "\n",
        "\n",
        "\n",
        "        reviews_Virginia.append(archivo)\n",
        "\n",
        "        i+=1\n",
        "\n",
        "\n",
        "    except:\n",
        "\n",
        "        bandera=False\n",
        "\n",
        "\n",
        "df_final = reviews_Virginia[0]\n",
        "\n",
        "for dataframe in reviews_Virginia[1:]:\n",
        "\n",
        "  df_final = df_final.unionByName(dataframe)\n",
        "\n",
        "\n",
        "reviews_Virginia=df_final"
      ],
      "metadata": {
        "id": "fYJDPZEH3J2f"
      },
      "execution_count": 24,
      "outputs": []
    },
    {
      "cell_type": "code",
      "source": [
        "reviews_Virginia.show()"
      ],
      "metadata": {
        "colab": {
          "base_uri": "https://localhost:8080/"
        },
        "id": "xt1zhzmCm8qq",
        "outputId": "2fae8983-283c-4d5c-9eac-997f4fae952f"
      },
      "execution_count": 25,
      "outputs": [
        {
          "output_type": "stream",
          "name": "stdout",
          "text": [
            "+--------------------+----------------+----+------+--------------------+--------------------+-------------+--------------------+\n",
            "|             gmap_id|            name|pics|rating|                resp|                text|         time|             user_id|\n",
            "+--------------------+----------------+----+------+--------------------+--------------------+-------------+--------------------+\n",
            "|0x89b1af6550d3359...|      Jessie Lee|NULL|     5|                NULL|I loved Rita!! Sh...|1581455645898|11160360506098004...|\n",
            "|0x89b1af6550d3359...|  Brittany Janis|NULL|     2|{Thank you for yo...|Expensive to do t...|1612044004790|10627868194435459...|\n",
            "|0x89b1af6550d3359...|    Brandy Monge|NULL|     5|                NULL|She was very help...|1580144842073|10756289959510173...|\n",
            "|0x89b1af6550d3359...|     Lisa Adkins|NULL|     4|                NULL|       Tracey Spadey|1612916442287|10007413172911083...|\n",
            "|0x89b1af6550d3359...|     Bill Bercaw|NULL|     2|                NULL|I waited 1.5 hour...|1549752949680|10150554808263017...|\n",
            "|0x89b1af6550d3359...| Jereffa Fleming|NULL|     5|                NULL|Courteous, knowle...|1547684650465|10909220808160959...|\n",
            "|0x89b1af6550d3359...|      Ava Myrick|NULL|     5|                NULL|       Great service|1582142335152|10809718532065911...|\n",
            "|0x89b1af6550d3359...|        Your Mom|NULL|     5|                NULL|great customer se...|1549925722463|10190284504368776...|\n",
            "|0x89b1af6550d3359...|     Cici Sweets|NULL|     5|                NULL|Ms. Veronica was ...|1554253182610|11026151258299612...|\n",
            "|0x89b1af6550d3359...|         Just Me|NULL|     5|                NULL|Friendly and good...|1552004470190|10898740568033722...|\n",
            "|0x89b1af6550d3359...|   Neal Grenfell|NULL|     1|{Neal - thank you...|Unprofessional pe...|1553549331939|10423929838087358...|\n",
            "|0x89b1af6550d3359...|Clarence Jackson|NULL|     4|                NULL|Personally of pre...|1555451663642|11363153856672978...|\n",
            "|0x89b1af6550d3359...| Jonathan Easter|NULL|     5|                NULL|                NULL|1610761459734|10430305139366962...|\n",
            "|0x89b1aee74ab5259...|    Jeff Johnson|NULL|     5|                NULL|This location is ...|1627581540885|11630403361889086...|\n",
            "|0x89b1aee74ab5259...| David Valentine|NULL|     5|                NULL|I have three vehi...|1553705190024|11171629095095157...|\n",
            "|0x89b1aee74ab5259...|          Deah H|NULL|     5|                NULL|Drager has an out...|1549291807824|11003935065138984...|\n",
            "|0x89b1aee74ab5259...|         Just Me|NULL|     5|                NULL|Oh its awesome! Y...|1576617164830|10898740568033722...|\n",
            "|0x89b1aee74ab5259...|      Josh Spain|NULL|     5|                NULL|Cool guy and easy...|1554149401509|10607335826660068...|\n",
            "|0x89b1aee74ab5259...|Kenneth Williams|NULL|     4|                NULL|                NULL|1590522272190|10506232193382732...|\n",
            "|0x89ad63cae57720e...|  Robert Carwile|NULL|     1|                NULL|Pitiful is an und...|1607884282408|10171442639246992...|\n",
            "+--------------------+----------------+----+------+--------------------+--------------------+-------------+--------------------+\n",
            "only showing top 20 rows\n",
            "\n"
          ]
        }
      ]
    },
    {
      "cell_type": "code",
      "source": [
        "reviews_Virginia.count()"
      ],
      "metadata": {
        "colab": {
          "base_uri": "https://localhost:8080/"
        },
        "id": "3sqa9Uh_nOpM",
        "outputId": "20b4f5e5-0e8d-44b9-a69f-f4f67472b13f"
      },
      "execution_count": 26,
      "outputs": [
        {
          "output_type": "execute_result",
          "data": {
            "text/plain": [
              "1662059"
            ]
          },
          "metadata": {},
          "execution_count": 26
        }
      ]
    },
    {
      "cell_type": "code",
      "source": [
        "conteo_nulos(reviews_Virginia)"
      ],
      "metadata": {
        "colab": {
          "base_uri": "https://localhost:8080/"
        },
        "id": "HxMwGFaYnR7O",
        "outputId": "57893f87-a504-42a2-fad4-37b22aed136f"
      },
      "execution_count": 27,
      "outputs": [
        {
          "output_type": "stream",
          "name": "stdout",
          "text": [
            "+-------+----+-------+------+-------+------+----+-------+\n",
            "|gmap_id|name|   pics|rating|   resp|  text|time|user_id|\n",
            "+-------+----+-------+------+-------+------+----+-------+\n",
            "|      0|   0|1616020|     0|1437240|712868|   0|      0|\n",
            "+-------+----+-------+------+-------+------+----+-------+\n",
            "\n"
          ]
        }
      ]
    },
    {
      "cell_type": "markdown",
      "source": [
        "Hasta acá se han estudiado los Datasets que pertenecen a las reseñas de google, ahora se estudiarán los Datasets referentes a Yelp."
      ],
      "metadata": {
        "id": "gT8lF4VWnerP"
      }
    },
    {
      "cell_type": "code",
      "source": [
        "#Se lee el archivo business de yelp\n",
        "\n",
        "with open(\"/content/drive/My Drive/Yelp/business.pkl\", 'rb') as archivo:\n",
        "\n",
        "        business_yelp = pickle.load(archivo)\n"
      ],
      "metadata": {
        "id": "tbwLNLDZoeXB"
      },
      "execution_count": 28,
      "outputs": []
    },
    {
      "cell_type": "code",
      "source": [
        "business_yelp.head(5)"
      ],
      "metadata": {
        "colab": {
          "base_uri": "https://localhost:8080/",
          "height": 446
        },
        "id": "BQSxhMJ403u1",
        "outputId": "7210e2f0-295d-4ee4-d21f-0cfc9965bc6d"
      },
      "execution_count": 29,
      "outputs": [
        {
          "output_type": "execute_result",
          "data": {
            "text/plain": [
              "              business_id                      name  \\\n",
              "0  Pns2l4eNsfO8kk83dixA6A  Abby Rappoport, LAC, CMQ   \n",
              "1  mpf3x-BjTdTEA3yCZrAYPw             The UPS Store   \n",
              "2  tUFrWirKiKi_TAnsVWINQQ                    Target   \n",
              "3  MTSW4McQd7CbVtyjqoe9mw        St Honore Pastries   \n",
              "4  mWMc6_wTdE0EUBKIGXDVfA  Perkiomen Valley Brewery   \n",
              "\n",
              "                           address           city state postal_code  \\\n",
              "0           1616 Chapala St, Ste 2  Santa Barbara   NaN       93101   \n",
              "1  87 Grasso Plaza Shopping Center         Affton   NaN       63123   \n",
              "2             5255 E Broadway Blvd         Tucson   NaN       85711   \n",
              "3                      935 Race St   Philadelphia    CA       19107   \n",
              "4                    101 Walnut St     Green Lane    MO       18054   \n",
              "\n",
              "    latitude   longitude stars review_count  ... state postal_code latitude  \\\n",
              "0  34.426679 -119.711197   5.0            7  ...   NaN         NaN      NaN   \n",
              "1  38.551126  -90.335695   3.0           15  ...   NaN         NaN      NaN   \n",
              "2  32.223236 -110.880452   3.5           22  ...   NaN         NaN      NaN   \n",
              "3  39.955505  -75.155564   4.0           80  ...   NaN         NaN      NaN   \n",
              "4  40.338183  -75.471659   4.5           13  ...   NaN         NaN      NaN   \n",
              "\n",
              "  longitude stars review_count is_open attributes categories hours  \n",
              "0       NaN   NaN          NaN     NaN        NaN        NaN   NaN  \n",
              "1       NaN   NaN          NaN     NaN        NaN        NaN   NaN  \n",
              "2       NaN   NaN          NaN     NaN        NaN        NaN   NaN  \n",
              "3       NaN   NaN          NaN     NaN        NaN        NaN   NaN  \n",
              "4       NaN   NaN          NaN     NaN        NaN        NaN   NaN  \n",
              "\n",
              "[5 rows x 28 columns]"
            ],
            "text/html": [
              "\n",
              "  <div id=\"df-18a9d18e-84bd-402e-a287-e0a27ed0ad55\" class=\"colab-df-container\">\n",
              "    <div>\n",
              "<style scoped>\n",
              "    .dataframe tbody tr th:only-of-type {\n",
              "        vertical-align: middle;\n",
              "    }\n",
              "\n",
              "    .dataframe tbody tr th {\n",
              "        vertical-align: top;\n",
              "    }\n",
              "\n",
              "    .dataframe thead th {\n",
              "        text-align: right;\n",
              "    }\n",
              "</style>\n",
              "<table border=\"1\" class=\"dataframe\">\n",
              "  <thead>\n",
              "    <tr style=\"text-align: right;\">\n",
              "      <th></th>\n",
              "      <th>business_id</th>\n",
              "      <th>name</th>\n",
              "      <th>address</th>\n",
              "      <th>city</th>\n",
              "      <th>state</th>\n",
              "      <th>postal_code</th>\n",
              "      <th>latitude</th>\n",
              "      <th>longitude</th>\n",
              "      <th>stars</th>\n",
              "      <th>review_count</th>\n",
              "      <th>...</th>\n",
              "      <th>state</th>\n",
              "      <th>postal_code</th>\n",
              "      <th>latitude</th>\n",
              "      <th>longitude</th>\n",
              "      <th>stars</th>\n",
              "      <th>review_count</th>\n",
              "      <th>is_open</th>\n",
              "      <th>attributes</th>\n",
              "      <th>categories</th>\n",
              "      <th>hours</th>\n",
              "    </tr>\n",
              "  </thead>\n",
              "  <tbody>\n",
              "    <tr>\n",
              "      <th>0</th>\n",
              "      <td>Pns2l4eNsfO8kk83dixA6A</td>\n",
              "      <td>Abby Rappoport, LAC, CMQ</td>\n",
              "      <td>1616 Chapala St, Ste 2</td>\n",
              "      <td>Santa Barbara</td>\n",
              "      <td>NaN</td>\n",
              "      <td>93101</td>\n",
              "      <td>34.426679</td>\n",
              "      <td>-119.711197</td>\n",
              "      <td>5.0</td>\n",
              "      <td>7</td>\n",
              "      <td>...</td>\n",
              "      <td>NaN</td>\n",
              "      <td>NaN</td>\n",
              "      <td>NaN</td>\n",
              "      <td>NaN</td>\n",
              "      <td>NaN</td>\n",
              "      <td>NaN</td>\n",
              "      <td>NaN</td>\n",
              "      <td>NaN</td>\n",
              "      <td>NaN</td>\n",
              "      <td>NaN</td>\n",
              "    </tr>\n",
              "    <tr>\n",
              "      <th>1</th>\n",
              "      <td>mpf3x-BjTdTEA3yCZrAYPw</td>\n",
              "      <td>The UPS Store</td>\n",
              "      <td>87 Grasso Plaza Shopping Center</td>\n",
              "      <td>Affton</td>\n",
              "      <td>NaN</td>\n",
              "      <td>63123</td>\n",
              "      <td>38.551126</td>\n",
              "      <td>-90.335695</td>\n",
              "      <td>3.0</td>\n",
              "      <td>15</td>\n",
              "      <td>...</td>\n",
              "      <td>NaN</td>\n",
              "      <td>NaN</td>\n",
              "      <td>NaN</td>\n",
              "      <td>NaN</td>\n",
              "      <td>NaN</td>\n",
              "      <td>NaN</td>\n",
              "      <td>NaN</td>\n",
              "      <td>NaN</td>\n",
              "      <td>NaN</td>\n",
              "      <td>NaN</td>\n",
              "    </tr>\n",
              "    <tr>\n",
              "      <th>2</th>\n",
              "      <td>tUFrWirKiKi_TAnsVWINQQ</td>\n",
              "      <td>Target</td>\n",
              "      <td>5255 E Broadway Blvd</td>\n",
              "      <td>Tucson</td>\n",
              "      <td>NaN</td>\n",
              "      <td>85711</td>\n",
              "      <td>32.223236</td>\n",
              "      <td>-110.880452</td>\n",
              "      <td>3.5</td>\n",
              "      <td>22</td>\n",
              "      <td>...</td>\n",
              "      <td>NaN</td>\n",
              "      <td>NaN</td>\n",
              "      <td>NaN</td>\n",
              "      <td>NaN</td>\n",
              "      <td>NaN</td>\n",
              "      <td>NaN</td>\n",
              "      <td>NaN</td>\n",
              "      <td>NaN</td>\n",
              "      <td>NaN</td>\n",
              "      <td>NaN</td>\n",
              "    </tr>\n",
              "    <tr>\n",
              "      <th>3</th>\n",
              "      <td>MTSW4McQd7CbVtyjqoe9mw</td>\n",
              "      <td>St Honore Pastries</td>\n",
              "      <td>935 Race St</td>\n",
              "      <td>Philadelphia</td>\n",
              "      <td>CA</td>\n",
              "      <td>19107</td>\n",
              "      <td>39.955505</td>\n",
              "      <td>-75.155564</td>\n",
              "      <td>4.0</td>\n",
              "      <td>80</td>\n",
              "      <td>...</td>\n",
              "      <td>NaN</td>\n",
              "      <td>NaN</td>\n",
              "      <td>NaN</td>\n",
              "      <td>NaN</td>\n",
              "      <td>NaN</td>\n",
              "      <td>NaN</td>\n",
              "      <td>NaN</td>\n",
              "      <td>NaN</td>\n",
              "      <td>NaN</td>\n",
              "      <td>NaN</td>\n",
              "    </tr>\n",
              "    <tr>\n",
              "      <th>4</th>\n",
              "      <td>mWMc6_wTdE0EUBKIGXDVfA</td>\n",
              "      <td>Perkiomen Valley Brewery</td>\n",
              "      <td>101 Walnut St</td>\n",
              "      <td>Green Lane</td>\n",
              "      <td>MO</td>\n",
              "      <td>18054</td>\n",
              "      <td>40.338183</td>\n",
              "      <td>-75.471659</td>\n",
              "      <td>4.5</td>\n",
              "      <td>13</td>\n",
              "      <td>...</td>\n",
              "      <td>NaN</td>\n",
              "      <td>NaN</td>\n",
              "      <td>NaN</td>\n",
              "      <td>NaN</td>\n",
              "      <td>NaN</td>\n",
              "      <td>NaN</td>\n",
              "      <td>NaN</td>\n",
              "      <td>NaN</td>\n",
              "      <td>NaN</td>\n",
              "      <td>NaN</td>\n",
              "    </tr>\n",
              "  </tbody>\n",
              "</table>\n",
              "<p>5 rows × 28 columns</p>\n",
              "</div>\n",
              "    <div class=\"colab-df-buttons\">\n",
              "\n",
              "  <div class=\"colab-df-container\">\n",
              "    <button class=\"colab-df-convert\" onclick=\"convertToInteractive('df-18a9d18e-84bd-402e-a287-e0a27ed0ad55')\"\n",
              "            title=\"Convert this dataframe to an interactive table.\"\n",
              "            style=\"display:none;\">\n",
              "\n",
              "  <svg xmlns=\"http://www.w3.org/2000/svg\" height=\"24px\" viewBox=\"0 -960 960 960\">\n",
              "    <path d=\"M120-120v-720h720v720H120Zm60-500h600v-160H180v160Zm220 220h160v-160H400v160Zm0 220h160v-160H400v160ZM180-400h160v-160H180v160Zm440 0h160v-160H620v160ZM180-180h160v-160H180v160Zm440 0h160v-160H620v160Z\"/>\n",
              "  </svg>\n",
              "    </button>\n",
              "\n",
              "  <style>\n",
              "    .colab-df-container {\n",
              "      display:flex;\n",
              "      gap: 12px;\n",
              "    }\n",
              "\n",
              "    .colab-df-convert {\n",
              "      background-color: #E8F0FE;\n",
              "      border: none;\n",
              "      border-radius: 50%;\n",
              "      cursor: pointer;\n",
              "      display: none;\n",
              "      fill: #1967D2;\n",
              "      height: 32px;\n",
              "      padding: 0 0 0 0;\n",
              "      width: 32px;\n",
              "    }\n",
              "\n",
              "    .colab-df-convert:hover {\n",
              "      background-color: #E2EBFA;\n",
              "      box-shadow: 0px 1px 2px rgba(60, 64, 67, 0.3), 0px 1px 3px 1px rgba(60, 64, 67, 0.15);\n",
              "      fill: #174EA6;\n",
              "    }\n",
              "\n",
              "    .colab-df-buttons div {\n",
              "      margin-bottom: 4px;\n",
              "    }\n",
              "\n",
              "    [theme=dark] .colab-df-convert {\n",
              "      background-color: #3B4455;\n",
              "      fill: #D2E3FC;\n",
              "    }\n",
              "\n",
              "    [theme=dark] .colab-df-convert:hover {\n",
              "      background-color: #434B5C;\n",
              "      box-shadow: 0px 1px 3px 1px rgba(0, 0, 0, 0.15);\n",
              "      filter: drop-shadow(0px 1px 2px rgba(0, 0, 0, 0.3));\n",
              "      fill: #FFFFFF;\n",
              "    }\n",
              "  </style>\n",
              "\n",
              "    <script>\n",
              "      const buttonEl =\n",
              "        document.querySelector('#df-18a9d18e-84bd-402e-a287-e0a27ed0ad55 button.colab-df-convert');\n",
              "      buttonEl.style.display =\n",
              "        google.colab.kernel.accessAllowed ? 'block' : 'none';\n",
              "\n",
              "      async function convertToInteractive(key) {\n",
              "        const element = document.querySelector('#df-18a9d18e-84bd-402e-a287-e0a27ed0ad55');\n",
              "        const dataTable =\n",
              "          await google.colab.kernel.invokeFunction('convertToInteractive',\n",
              "                                                    [key], {});\n",
              "        if (!dataTable) return;\n",
              "\n",
              "        const docLinkHtml = 'Like what you see? Visit the ' +\n",
              "          '<a target=\"_blank\" href=https://colab.research.google.com/notebooks/data_table.ipynb>data table notebook</a>'\n",
              "          + ' to learn more about interactive tables.';\n",
              "        element.innerHTML = '';\n",
              "        dataTable['output_type'] = 'display_data';\n",
              "        await google.colab.output.renderOutput(dataTable, element);\n",
              "        const docLink = document.createElement('div');\n",
              "        docLink.innerHTML = docLinkHtml;\n",
              "        element.appendChild(docLink);\n",
              "      }\n",
              "    </script>\n",
              "  </div>\n",
              "\n",
              "\n",
              "<div id=\"df-249841e7-f99b-4a1b-9c66-9ccbcde6aa32\">\n",
              "  <button class=\"colab-df-quickchart\" onclick=\"quickchart('df-249841e7-f99b-4a1b-9c66-9ccbcde6aa32')\"\n",
              "            title=\"Suggest charts\"\n",
              "            style=\"display:none;\">\n",
              "\n",
              "<svg xmlns=\"http://www.w3.org/2000/svg\" height=\"24px\"viewBox=\"0 0 24 24\"\n",
              "     width=\"24px\">\n",
              "    <g>\n",
              "        <path d=\"M19 3H5c-1.1 0-2 .9-2 2v14c0 1.1.9 2 2 2h14c1.1 0 2-.9 2-2V5c0-1.1-.9-2-2-2zM9 17H7v-7h2v7zm4 0h-2V7h2v10zm4 0h-2v-4h2v4z\"/>\n",
              "    </g>\n",
              "</svg>\n",
              "  </button>\n",
              "\n",
              "<style>\n",
              "  .colab-df-quickchart {\n",
              "      --bg-color: #E8F0FE;\n",
              "      --fill-color: #1967D2;\n",
              "      --hover-bg-color: #E2EBFA;\n",
              "      --hover-fill-color: #174EA6;\n",
              "      --disabled-fill-color: #AAA;\n",
              "      --disabled-bg-color: #DDD;\n",
              "  }\n",
              "\n",
              "  [theme=dark] .colab-df-quickchart {\n",
              "      --bg-color: #3B4455;\n",
              "      --fill-color: #D2E3FC;\n",
              "      --hover-bg-color: #434B5C;\n",
              "      --hover-fill-color: #FFFFFF;\n",
              "      --disabled-bg-color: #3B4455;\n",
              "      --disabled-fill-color: #666;\n",
              "  }\n",
              "\n",
              "  .colab-df-quickchart {\n",
              "    background-color: var(--bg-color);\n",
              "    border: none;\n",
              "    border-radius: 50%;\n",
              "    cursor: pointer;\n",
              "    display: none;\n",
              "    fill: var(--fill-color);\n",
              "    height: 32px;\n",
              "    padding: 0;\n",
              "    width: 32px;\n",
              "  }\n",
              "\n",
              "  .colab-df-quickchart:hover {\n",
              "    background-color: var(--hover-bg-color);\n",
              "    box-shadow: 0 1px 2px rgba(60, 64, 67, 0.3), 0 1px 3px 1px rgba(60, 64, 67, 0.15);\n",
              "    fill: var(--button-hover-fill-color);\n",
              "  }\n",
              "\n",
              "  .colab-df-quickchart-complete:disabled,\n",
              "  .colab-df-quickchart-complete:disabled:hover {\n",
              "    background-color: var(--disabled-bg-color);\n",
              "    fill: var(--disabled-fill-color);\n",
              "    box-shadow: none;\n",
              "  }\n",
              "\n",
              "  .colab-df-spinner {\n",
              "    border: 2px solid var(--fill-color);\n",
              "    border-color: transparent;\n",
              "    border-bottom-color: var(--fill-color);\n",
              "    animation:\n",
              "      spin 1s steps(1) infinite;\n",
              "  }\n",
              "\n",
              "  @keyframes spin {\n",
              "    0% {\n",
              "      border-color: transparent;\n",
              "      border-bottom-color: var(--fill-color);\n",
              "      border-left-color: var(--fill-color);\n",
              "    }\n",
              "    20% {\n",
              "      border-color: transparent;\n",
              "      border-left-color: var(--fill-color);\n",
              "      border-top-color: var(--fill-color);\n",
              "    }\n",
              "    30% {\n",
              "      border-color: transparent;\n",
              "      border-left-color: var(--fill-color);\n",
              "      border-top-color: var(--fill-color);\n",
              "      border-right-color: var(--fill-color);\n",
              "    }\n",
              "    40% {\n",
              "      border-color: transparent;\n",
              "      border-right-color: var(--fill-color);\n",
              "      border-top-color: var(--fill-color);\n",
              "    }\n",
              "    60% {\n",
              "      border-color: transparent;\n",
              "      border-right-color: var(--fill-color);\n",
              "    }\n",
              "    80% {\n",
              "      border-color: transparent;\n",
              "      border-right-color: var(--fill-color);\n",
              "      border-bottom-color: var(--fill-color);\n",
              "    }\n",
              "    90% {\n",
              "      border-color: transparent;\n",
              "      border-bottom-color: var(--fill-color);\n",
              "    }\n",
              "  }\n",
              "</style>\n",
              "\n",
              "  <script>\n",
              "    async function quickchart(key) {\n",
              "      const quickchartButtonEl =\n",
              "        document.querySelector('#' + key + ' button');\n",
              "      quickchartButtonEl.disabled = true;  // To prevent multiple clicks.\n",
              "      quickchartButtonEl.classList.add('colab-df-spinner');\n",
              "      try {\n",
              "        const charts = await google.colab.kernel.invokeFunction(\n",
              "            'suggestCharts', [key], {});\n",
              "      } catch (error) {\n",
              "        console.error('Error during call to suggestCharts:', error);\n",
              "      }\n",
              "      quickchartButtonEl.classList.remove('colab-df-spinner');\n",
              "      quickchartButtonEl.classList.add('colab-df-quickchart-complete');\n",
              "    }\n",
              "    (() => {\n",
              "      let quickchartButtonEl =\n",
              "        document.querySelector('#df-249841e7-f99b-4a1b-9c66-9ccbcde6aa32 button');\n",
              "      quickchartButtonEl.style.display =\n",
              "        google.colab.kernel.accessAllowed ? 'block' : 'none';\n",
              "    })();\n",
              "  </script>\n",
              "</div>\n",
              "\n",
              "    </div>\n",
              "  </div>\n"
            ]
          },
          "metadata": {},
          "execution_count": 29
        }
      ]
    },
    {
      "cell_type": "code",
      "source": [
        "business_yelp.shape[0]"
      ],
      "metadata": {
        "colab": {
          "base_uri": "https://localhost:8080/"
        },
        "id": "rtDX-Yr8ydgJ",
        "outputId": "9b87cea0-95ad-4a8d-e79f-53f067feeebb"
      },
      "execution_count": 30,
      "outputs": [
        {
          "output_type": "execute_result",
          "data": {
            "text/plain": [
              "150346"
            ]
          },
          "metadata": {},
          "execution_count": 30
        }
      ]
    },
    {
      "cell_type": "code",
      "source": [
        "def contar_nulos(dataframe):\n",
        "\n",
        "    # Obtener la cantidad de valores nulos por columna\n",
        "  nulos_por_columna = dataframe.isnull().sum()\n",
        "\n",
        "  print(\"Cantidad de valores nulos por columna:\\n\", nulos_por_columna)"
      ],
      "metadata": {
        "id": "7Be03bF81EMD"
      },
      "execution_count": 31,
      "outputs": []
    },
    {
      "cell_type": "code",
      "source": [
        "contar_nulos(business_yelp)"
      ],
      "metadata": {
        "colab": {
          "base_uri": "https://localhost:8080/"
        },
        "id": "m9loa-1cyhRI",
        "outputId": "0179ce1f-475d-4ac6-fc52-9c03db6865b1"
      },
      "execution_count": null,
      "outputs": [
        {
          "output_type": "stream",
          "name": "stdout",
          "text": [
            "Cantidad de valores nulos por columna:\n",
            " business_id          0\n",
            "name                 0\n",
            "address              0\n",
            "city                 0\n",
            "state                3\n",
            "postal_code          0\n",
            "latitude             0\n",
            "longitude            0\n",
            "stars                0\n",
            "review_count         0\n",
            "is_open              0\n",
            "attributes       13744\n",
            "categories         103\n",
            "hours            23223\n",
            "business_id     150341\n",
            "name            150341\n",
            "address         150341\n",
            "city            150341\n",
            "state           150341\n",
            "postal_code     150341\n",
            "latitude        150341\n",
            "longitude       150341\n",
            "stars           150341\n",
            "review_count    150341\n",
            "is_open         150341\n",
            "attributes      150341\n",
            "categories      150341\n",
            "hours           150341\n",
            "dtype: int64\n"
          ]
        }
      ]
    },
    {
      "cell_type": "code",
      "source": [
        "#Elimina las columnas repetidas que tienen casi todos sus datos nulos\n",
        "business_yelp=business_yelp.iloc[:,0:14]"
      ],
      "metadata": {
        "id": "B6G5WEYCVOVO"
      },
      "execution_count": 32,
      "outputs": []
    },
    {
      "cell_type": "markdown",
      "source": [
        "Este Dataset 'business yelp' tiene muchas columnas repetidas, en su mayoría los datos de esas copias son nulos, para nuestro trabajo deben ser eliminadas. Es importante conocer el número de negocios que pertenecen a los Estados que son objeto de nuestro estudio."
      ],
      "metadata": {
        "id": "ArK1HQniPUSr"
      }
    },
    {
      "cell_type": "code",
      "source": [
        "business_yelp[(business_yelp['state']=='NV') | ((business_yelp['state']=='FL') | (business_yelp['state']=='VA'))].shape[0]"
      ],
      "metadata": {
        "colab": {
          "base_uri": "https://localhost:8080/"
        },
        "id": "4kPqzcvFTfWl",
        "outputId": "80f8f2ef-188e-4fd9-ebca-c344d0b66375"
      },
      "execution_count": 33,
      "outputs": [
        {
          "output_type": "execute_result",
          "data": {
            "text/plain": [
              "34044"
            ]
          },
          "metadata": {},
          "execution_count": 33
        }
      ]
    },
    {
      "cell_type": "code",
      "source": [
        "proporcion= round(34044*100/150346,2)\n",
        "\n",
        "print(f\"El porcentaje de datos que corresponde a alguno de los tres Estados es: {proporcion}%\")"
      ],
      "metadata": {
        "colab": {
          "base_uri": "https://localhost:8080/"
        },
        "id": "FX2IGpPWWrjq",
        "outputId": "0d03ae0c-9624-4e4b-baaa-7a7d30c7fcad"
      },
      "execution_count": 34,
      "outputs": [
        {
          "output_type": "stream",
          "name": "stdout",
          "text": [
            "El porcentaje de datos que corresponde a alguno de los tres Estados es: 22.64%\n"
          ]
        }
      ]
    },
    {
      "cell_type": "code",
      "source": [
        "contador= 0\n",
        "for elemento in business_yelp['categories']:\n",
        "\n",
        "  try:\n",
        "\n",
        "    if 'Restaurants' in elemento:\n",
        "\n",
        "      contador+=1\n",
        "\n",
        "  except:\n",
        "\n",
        "    continue\n",
        "\n",
        "print(\"La cantidad total de restaurantes es: \", contador)\n",
        "print(f\"Representan un {round(contador*100/150346,2)}% de los negocios\")"
      ],
      "metadata": {
        "colab": {
          "base_uri": "https://localhost:8080/"
        },
        "id": "LsuKYPwcGfQI",
        "outputId": "649467e8-793d-4943-93a4-cdf9df28f594"
      },
      "execution_count": 38,
      "outputs": [
        {
          "output_type": "stream",
          "name": "stdout",
          "text": [
            "La cantidad total de restaurantes es:  52268\n",
            "Representan un 34.77% de los negocios\n"
          ]
        }
      ]
    },
    {
      "cell_type": "code",
      "source": [
        "#Se lee el archivo checkin de yelp\n",
        "\n",
        "checkin_yelp=[]\n",
        "\n",
        "with open(\"/content/drive/My Drive/Yelp/checkin.json\",\"r\", encoding= 'utf-8') as filejson:\n",
        "\n",
        "\n",
        "                # Procesa cada línea del archivo como un objeto JSON\n",
        "                for linea in filejson:\n",
        "\n",
        "                        # Intenta cargar la línea como un objeto JSON\n",
        "                        objeto = json.loads(linea)\n",
        "\n",
        "                        checkin_yelp.append(objeto)\n",
        "\n",
        "checkin_yelp=pd.DataFrame(checkin_yelp)\n"
      ],
      "metadata": {
        "id": "OPXG4buW4kt5"
      },
      "execution_count": null,
      "outputs": []
    },
    {
      "cell_type": "code",
      "source": [
        "checkin_yelp.head(5)"
      ],
      "metadata": {
        "colab": {
          "base_uri": "https://localhost:8080/",
          "height": 206
        },
        "id": "2-cXGO4k13-o",
        "outputId": "b23f7397-527f-4281-8dba-48b6f3fbb3ec"
      },
      "execution_count": null,
      "outputs": [
        {
          "output_type": "execute_result",
          "data": {
            "text/plain": [
              "              business_id                                               date\n",
              "0  ---kPU91CF4Lq2-WlRu9Lw  2020-03-13 21:10:56, 2020-06-02 22:18:06, 2020...\n",
              "1  --0iUa4sNDFiZFrAdIWhZQ  2010-09-13 21:43:09, 2011-05-04 23:08:15, 2011...\n",
              "2  --30_8IhuyMHbSOcNWd6DQ           2013-06-14 23:29:17, 2014-08-13 23:20:22\n",
              "3  --7PUidqRWpRSpXebiyxTg  2011-02-15 17:12:00, 2011-07-28 02:46:10, 2012...\n",
              "4  --7jw19RH9JKXgFohspgQw  2014-04-21 20:42:11, 2014-04-28 21:04:46, 2014..."
            ],
            "text/html": [
              "\n",
              "  <div id=\"df-8bbae08e-047e-448c-9c91-90cb9858f9b5\" class=\"colab-df-container\">\n",
              "    <div>\n",
              "<style scoped>\n",
              "    .dataframe tbody tr th:only-of-type {\n",
              "        vertical-align: middle;\n",
              "    }\n",
              "\n",
              "    .dataframe tbody tr th {\n",
              "        vertical-align: top;\n",
              "    }\n",
              "\n",
              "    .dataframe thead th {\n",
              "        text-align: right;\n",
              "    }\n",
              "</style>\n",
              "<table border=\"1\" class=\"dataframe\">\n",
              "  <thead>\n",
              "    <tr style=\"text-align: right;\">\n",
              "      <th></th>\n",
              "      <th>business_id</th>\n",
              "      <th>date</th>\n",
              "    </tr>\n",
              "  </thead>\n",
              "  <tbody>\n",
              "    <tr>\n",
              "      <th>0</th>\n",
              "      <td>---kPU91CF4Lq2-WlRu9Lw</td>\n",
              "      <td>2020-03-13 21:10:56, 2020-06-02 22:18:06, 2020...</td>\n",
              "    </tr>\n",
              "    <tr>\n",
              "      <th>1</th>\n",
              "      <td>--0iUa4sNDFiZFrAdIWhZQ</td>\n",
              "      <td>2010-09-13 21:43:09, 2011-05-04 23:08:15, 2011...</td>\n",
              "    </tr>\n",
              "    <tr>\n",
              "      <th>2</th>\n",
              "      <td>--30_8IhuyMHbSOcNWd6DQ</td>\n",
              "      <td>2013-06-14 23:29:17, 2014-08-13 23:20:22</td>\n",
              "    </tr>\n",
              "    <tr>\n",
              "      <th>3</th>\n",
              "      <td>--7PUidqRWpRSpXebiyxTg</td>\n",
              "      <td>2011-02-15 17:12:00, 2011-07-28 02:46:10, 2012...</td>\n",
              "    </tr>\n",
              "    <tr>\n",
              "      <th>4</th>\n",
              "      <td>--7jw19RH9JKXgFohspgQw</td>\n",
              "      <td>2014-04-21 20:42:11, 2014-04-28 21:04:46, 2014...</td>\n",
              "    </tr>\n",
              "  </tbody>\n",
              "</table>\n",
              "</div>\n",
              "    <div class=\"colab-df-buttons\">\n",
              "\n",
              "  <div class=\"colab-df-container\">\n",
              "    <button class=\"colab-df-convert\" onclick=\"convertToInteractive('df-8bbae08e-047e-448c-9c91-90cb9858f9b5')\"\n",
              "            title=\"Convert this dataframe to an interactive table.\"\n",
              "            style=\"display:none;\">\n",
              "\n",
              "  <svg xmlns=\"http://www.w3.org/2000/svg\" height=\"24px\" viewBox=\"0 -960 960 960\">\n",
              "    <path d=\"M120-120v-720h720v720H120Zm60-500h600v-160H180v160Zm220 220h160v-160H400v160Zm0 220h160v-160H400v160ZM180-400h160v-160H180v160Zm440 0h160v-160H620v160ZM180-180h160v-160H180v160Zm440 0h160v-160H620v160Z\"/>\n",
              "  </svg>\n",
              "    </button>\n",
              "\n",
              "  <style>\n",
              "    .colab-df-container {\n",
              "      display:flex;\n",
              "      gap: 12px;\n",
              "    }\n",
              "\n",
              "    .colab-df-convert {\n",
              "      background-color: #E8F0FE;\n",
              "      border: none;\n",
              "      border-radius: 50%;\n",
              "      cursor: pointer;\n",
              "      display: none;\n",
              "      fill: #1967D2;\n",
              "      height: 32px;\n",
              "      padding: 0 0 0 0;\n",
              "      width: 32px;\n",
              "    }\n",
              "\n",
              "    .colab-df-convert:hover {\n",
              "      background-color: #E2EBFA;\n",
              "      box-shadow: 0px 1px 2px rgba(60, 64, 67, 0.3), 0px 1px 3px 1px rgba(60, 64, 67, 0.15);\n",
              "      fill: #174EA6;\n",
              "    }\n",
              "\n",
              "    .colab-df-buttons div {\n",
              "      margin-bottom: 4px;\n",
              "    }\n",
              "\n",
              "    [theme=dark] .colab-df-convert {\n",
              "      background-color: #3B4455;\n",
              "      fill: #D2E3FC;\n",
              "    }\n",
              "\n",
              "    [theme=dark] .colab-df-convert:hover {\n",
              "      background-color: #434B5C;\n",
              "      box-shadow: 0px 1px 3px 1px rgba(0, 0, 0, 0.15);\n",
              "      filter: drop-shadow(0px 1px 2px rgba(0, 0, 0, 0.3));\n",
              "      fill: #FFFFFF;\n",
              "    }\n",
              "  </style>\n",
              "\n",
              "    <script>\n",
              "      const buttonEl =\n",
              "        document.querySelector('#df-8bbae08e-047e-448c-9c91-90cb9858f9b5 button.colab-df-convert');\n",
              "      buttonEl.style.display =\n",
              "        google.colab.kernel.accessAllowed ? 'block' : 'none';\n",
              "\n",
              "      async function convertToInteractive(key) {\n",
              "        const element = document.querySelector('#df-8bbae08e-047e-448c-9c91-90cb9858f9b5');\n",
              "        const dataTable =\n",
              "          await google.colab.kernel.invokeFunction('convertToInteractive',\n",
              "                                                    [key], {});\n",
              "        if (!dataTable) return;\n",
              "\n",
              "        const docLinkHtml = 'Like what you see? Visit the ' +\n",
              "          '<a target=\"_blank\" href=https://colab.research.google.com/notebooks/data_table.ipynb>data table notebook</a>'\n",
              "          + ' to learn more about interactive tables.';\n",
              "        element.innerHTML = '';\n",
              "        dataTable['output_type'] = 'display_data';\n",
              "        await google.colab.output.renderOutput(dataTable, element);\n",
              "        const docLink = document.createElement('div');\n",
              "        docLink.innerHTML = docLinkHtml;\n",
              "        element.appendChild(docLink);\n",
              "      }\n",
              "    </script>\n",
              "  </div>\n",
              "\n",
              "\n",
              "<div id=\"df-c01c68cf-c7f7-4fee-aa16-2484fd31d127\">\n",
              "  <button class=\"colab-df-quickchart\" onclick=\"quickchart('df-c01c68cf-c7f7-4fee-aa16-2484fd31d127')\"\n",
              "            title=\"Suggest charts\"\n",
              "            style=\"display:none;\">\n",
              "\n",
              "<svg xmlns=\"http://www.w3.org/2000/svg\" height=\"24px\"viewBox=\"0 0 24 24\"\n",
              "     width=\"24px\">\n",
              "    <g>\n",
              "        <path d=\"M19 3H5c-1.1 0-2 .9-2 2v14c0 1.1.9 2 2 2h14c1.1 0 2-.9 2-2V5c0-1.1-.9-2-2-2zM9 17H7v-7h2v7zm4 0h-2V7h2v10zm4 0h-2v-4h2v4z\"/>\n",
              "    </g>\n",
              "</svg>\n",
              "  </button>\n",
              "\n",
              "<style>\n",
              "  .colab-df-quickchart {\n",
              "      --bg-color: #E8F0FE;\n",
              "      --fill-color: #1967D2;\n",
              "      --hover-bg-color: #E2EBFA;\n",
              "      --hover-fill-color: #174EA6;\n",
              "      --disabled-fill-color: #AAA;\n",
              "      --disabled-bg-color: #DDD;\n",
              "  }\n",
              "\n",
              "  [theme=dark] .colab-df-quickchart {\n",
              "      --bg-color: #3B4455;\n",
              "      --fill-color: #D2E3FC;\n",
              "      --hover-bg-color: #434B5C;\n",
              "      --hover-fill-color: #FFFFFF;\n",
              "      --disabled-bg-color: #3B4455;\n",
              "      --disabled-fill-color: #666;\n",
              "  }\n",
              "\n",
              "  .colab-df-quickchart {\n",
              "    background-color: var(--bg-color);\n",
              "    border: none;\n",
              "    border-radius: 50%;\n",
              "    cursor: pointer;\n",
              "    display: none;\n",
              "    fill: var(--fill-color);\n",
              "    height: 32px;\n",
              "    padding: 0;\n",
              "    width: 32px;\n",
              "  }\n",
              "\n",
              "  .colab-df-quickchart:hover {\n",
              "    background-color: var(--hover-bg-color);\n",
              "    box-shadow: 0 1px 2px rgba(60, 64, 67, 0.3), 0 1px 3px 1px rgba(60, 64, 67, 0.15);\n",
              "    fill: var(--button-hover-fill-color);\n",
              "  }\n",
              "\n",
              "  .colab-df-quickchart-complete:disabled,\n",
              "  .colab-df-quickchart-complete:disabled:hover {\n",
              "    background-color: var(--disabled-bg-color);\n",
              "    fill: var(--disabled-fill-color);\n",
              "    box-shadow: none;\n",
              "  }\n",
              "\n",
              "  .colab-df-spinner {\n",
              "    border: 2px solid var(--fill-color);\n",
              "    border-color: transparent;\n",
              "    border-bottom-color: var(--fill-color);\n",
              "    animation:\n",
              "      spin 1s steps(1) infinite;\n",
              "  }\n",
              "\n",
              "  @keyframes spin {\n",
              "    0% {\n",
              "      border-color: transparent;\n",
              "      border-bottom-color: var(--fill-color);\n",
              "      border-left-color: var(--fill-color);\n",
              "    }\n",
              "    20% {\n",
              "      border-color: transparent;\n",
              "      border-left-color: var(--fill-color);\n",
              "      border-top-color: var(--fill-color);\n",
              "    }\n",
              "    30% {\n",
              "      border-color: transparent;\n",
              "      border-left-color: var(--fill-color);\n",
              "      border-top-color: var(--fill-color);\n",
              "      border-right-color: var(--fill-color);\n",
              "    }\n",
              "    40% {\n",
              "      border-color: transparent;\n",
              "      border-right-color: var(--fill-color);\n",
              "      border-top-color: var(--fill-color);\n",
              "    }\n",
              "    60% {\n",
              "      border-color: transparent;\n",
              "      border-right-color: var(--fill-color);\n",
              "    }\n",
              "    80% {\n",
              "      border-color: transparent;\n",
              "      border-right-color: var(--fill-color);\n",
              "      border-bottom-color: var(--fill-color);\n",
              "    }\n",
              "    90% {\n",
              "      border-color: transparent;\n",
              "      border-bottom-color: var(--fill-color);\n",
              "    }\n",
              "  }\n",
              "</style>\n",
              "\n",
              "  <script>\n",
              "    async function quickchart(key) {\n",
              "      const quickchartButtonEl =\n",
              "        document.querySelector('#' + key + ' button');\n",
              "      quickchartButtonEl.disabled = true;  // To prevent multiple clicks.\n",
              "      quickchartButtonEl.classList.add('colab-df-spinner');\n",
              "      try {\n",
              "        const charts = await google.colab.kernel.invokeFunction(\n",
              "            'suggestCharts', [key], {});\n",
              "      } catch (error) {\n",
              "        console.error('Error during call to suggestCharts:', error);\n",
              "      }\n",
              "      quickchartButtonEl.classList.remove('colab-df-spinner');\n",
              "      quickchartButtonEl.classList.add('colab-df-quickchart-complete');\n",
              "    }\n",
              "    (() => {\n",
              "      let quickchartButtonEl =\n",
              "        document.querySelector('#df-c01c68cf-c7f7-4fee-aa16-2484fd31d127 button');\n",
              "      quickchartButtonEl.style.display =\n",
              "        google.colab.kernel.accessAllowed ? 'block' : 'none';\n",
              "    })();\n",
              "  </script>\n",
              "</div>\n",
              "\n",
              "    </div>\n",
              "  </div>\n"
            ]
          },
          "metadata": {},
          "execution_count": 31
        }
      ]
    },
    {
      "cell_type": "code",
      "source": [
        "checkin_yelp.shape[0]"
      ],
      "metadata": {
        "colab": {
          "base_uri": "https://localhost:8080/"
        },
        "id": "yWZgrcmn4wq7",
        "outputId": "6ded4d90-5c58-4aaf-d57e-8becc4535508"
      },
      "execution_count": null,
      "outputs": [
        {
          "output_type": "execute_result",
          "data": {
            "text/plain": [
              "131930"
            ]
          },
          "metadata": {},
          "execution_count": 32
        }
      ]
    },
    {
      "cell_type": "code",
      "source": [
        "contar_nulos(checkin_yelp)"
      ],
      "metadata": {
        "colab": {
          "base_uri": "https://localhost:8080/"
        },
        "id": "jiDicFgP43Du",
        "outputId": "c7decd3c-c4d9-49f3-b4ea-dc820f53da54"
      },
      "execution_count": null,
      "outputs": [
        {
          "output_type": "stream",
          "name": "stdout",
          "text": [
            "Cantidad de valores nulos por columna:\n",
            " business_id    0\n",
            "date           0\n",
            "dtype: int64\n"
          ]
        }
      ]
    },
    {
      "cell_type": "code",
      "source": [
        "#Se lee el archivo review de yelp\n",
        "\n",
        "review_yelp = spark.read.json(\"/content/drive/My Drive/Yelp/review.json\")"
      ],
      "metadata": {
        "id": "yBgZYKP84iLl"
      },
      "execution_count": null,
      "outputs": []
    },
    {
      "cell_type": "code",
      "source": [
        "review_yelp.show()"
      ],
      "metadata": {
        "colab": {
          "base_uri": "https://localhost:8080/"
        },
        "id": "R_KuTjsExKVF",
        "outputId": "72263fcc-ebc4-4075-db17-f226cbbed0ad"
      },
      "execution_count": null,
      "outputs": [
        {
          "output_type": "stream",
          "name": "stdout",
          "text": [
            "+--------------------+----+-------------------+-----+--------------------+-----+--------------------+------+--------------------+\n",
            "|         business_id|cool|               date|funny|           review_id|stars|                text|useful|             user_id|\n",
            "+--------------------+----+-------------------+-----+--------------------+-----+--------------------+------+--------------------+\n",
            "|XQfwVwDr-v0ZS3_Cb...|   0|2018-07-07 22:09:11|    0|KU_O5udG6zpxOg-Vc...|  3.0|If you decide to ...|     0|mh_-eMZ6K5RLWhZyI...|\n",
            "|7ATYjTIgM3jUlt4UM...|   1|2012-01-03 15:28:18|    0|BiTunyQ73aT9WBnpR...|  5.0|I've taken a lot ...|     1|OyoGAe7OKpv6SyGZT...|\n",
            "|YjUWPpI6HXG530lwP...|   0|2014-02-05 20:30:30|    0|saUsX_uimxRlCVr67...|  3.0|Family diner. Had...|     0|8g_iMtfSiwikVnbP2...|\n",
            "|kxX2SOes4o-D3ZQBk...|   1|2015-01-04 00:01:03|    0|AqPFMleE6RsU23_au...|  5.0|Wow!  Yummy, diff...|     1|_7bHUi9Uuf5__HHc_...|\n",
            "|e4Vwtrqf-wpJfwesg...|   1|2017-01-14 20:54:15|    0|Sx8TMOWLNuJBWer-0...|  4.0|Cute interior and...|     1|bcjbaE6dDog4jkNY9...|\n",
            "|04UD14gamNjLY0IDY...|   1|2015-09-23 23:10:31|    2|JrIxlS1TzJ-iCu79u...|  1.0|I am a long term ...|     1|eUta8W_HdHMXPzLBB...|\n",
            "|gmjsEdUsKpj9Xxu6p...|   0|2015-01-03 23:21:18|    2|6AxgBCNX_PNTOxmbR...|  5.0|Loved this tour! ...|     0|r3zeYsv1XFBRA4dJp...|\n",
            "|LHSTtnW3YHCeUkRDG...|   0|2015-08-07 02:29:16|    0|_ZeMknuYdlQcUqng_...|  5.0|Amazingly amazing...|     2|yfFzsLmaWF2d4Sr0U...|\n",
            "|B5XSoSG3SfvQGtKEG...|   0|2016-03-30 22:46:33|    1|ZKvDG2sBvHVdF5oBN...|  3.0|This easter inste...|     1|wSTuiTk-sKNdcFypr...|\n",
            "|gebiRewfieSdtt17P...|   0|2016-07-25 07:31:06|    0|pUycOfUwM8vqX7KjR...|  3.0|Had a party of 6 ...|     0|59MxRhNVhU9MYndMk...|\n",
            "|uMvVYRgGNXf5boolA...|   0|2015-06-21 14:48:06|    0|rGQRf8UafX7OTlMNN...|  5.0|My experience wit...|     2|1WHRWwQmZOZDAhp2Q...|\n",
            "|EQ-TZ2eeD_E0BHuvo...|   0|2015-08-19 14:31:45|    0|l3Wk_mvAog6XANIuG...|  4.0|Locals recommende...|     0|ZbqSHbgCjzVAqaa7N...|\n",
            "|lj-E32x9_FA7GmUrB...|   0|2014-06-27 22:44:01|    0|XW_LfMv0fV21l9c6x...|  4.0|Love going here f...|     0|9OAtfnWag-ajVxRbU...|\n",
            "|RZtGWDLCAtuipwaZ-...|   0|2009-10-14 19:57:14|    0|8JFGBuHMoiNDyfcxu...|  4.0|Good food--loved ...|     0|smOvOajNG0lS4Pq7d...|\n",
            "|otQS34_MymijPTdNB...|   0|2011-10-27 17:12:05|    2|UBp0zWyH60Hmw6Fsa...|  4.0|The bun makes the...|     0|4Uh27DgGzsp6PqrH9...|\n",
            "|BVndHaLihEYbr76Z0...|   0|2014-10-11 16:22:06|    0|OAhBYw8IQ6wlfw1ow...|  5.0|Great place for b...|     0|1C2lxzUo1Hyye4RFI...|\n",
            "|YtSqYv1Q_pOltsVPS...|   0|2013-06-24 11:21:25|    0|oyaMhzBSwfGgemSGu...|  5.0|Tremendous servic...|     0|Dd1jQj7S-BFGqRbAp...|\n",
            "|rBdG_23USc7DletfZ...|   0|2014-08-10 19:41:43|    0|LnGZB0fjfgeVDVz5I...|  4.0|The hubby and I h...|     1|j2wlzrntrbKwyOcOi...|\n",
            "|CLEWowfkj-wKYJlQD...|   1|2016-03-07 00:02:18|    0|u2vzZaOqJ2feRshaa...|  5.0|I go to blow bar ...|     2|NDZvyYHTUWWu-kqgQ...|\n",
            "|eFvzHawVJofxSnD7T...|   0|2014-11-12 15:30:27|    0|Xs8Z8lmKkosqW5mw_...|  5.0|My absolute favor...|     0|IQsF3Rc6IgCzjVV9D...|\n",
            "+--------------------+----+-------------------+-----+--------------------+-----+--------------------+------+--------------------+\n",
            "only showing top 20 rows\n",
            "\n"
          ]
        }
      ]
    },
    {
      "cell_type": "code",
      "source": [
        "review_yelp.count()"
      ],
      "metadata": {
        "colab": {
          "base_uri": "https://localhost:8080/"
        },
        "id": "gz7b-XRkwbOL",
        "outputId": "5107a31a-f561-49ec-b772-cdc43afeac02"
      },
      "execution_count": null,
      "outputs": [
        {
          "output_type": "execute_result",
          "data": {
            "text/plain": [
              "6990280"
            ]
          },
          "metadata": {},
          "execution_count": 36
        }
      ]
    },
    {
      "cell_type": "code",
      "source": [
        "conteo_nulos(review_yelp)"
      ],
      "metadata": {
        "colab": {
          "base_uri": "https://localhost:8080/"
        },
        "id": "kaizEV9EweRh",
        "outputId": "a1277484-02e0-41df-9213-be9dbaa0c69b"
      },
      "execution_count": null,
      "outputs": [
        {
          "output_type": "stream",
          "name": "stdout",
          "text": [
            "+-----------+----+----+-----+---------+-----+----+------+-------+\n",
            "|business_id|cool|date|funny|review_id|stars|text|useful|user_id|\n",
            "+-----------+----+----+-----+---------+-----+----+------+-------+\n",
            "|          0|   0|   0|    0|        0|    0|   0|     0|      0|\n",
            "+-----------+----+----+-----+---------+-----+----+------+-------+\n",
            "\n"
          ]
        }
      ]
    },
    {
      "cell_type": "markdown",
      "source": [
        "En este caso no hay valores nulos, lo que es bastante positivo para nuestro sistema de recomendación y para facilitar la limpieza de datos."
      ],
      "metadata": {
        "id": "pSyCqn74xQ1N"
      }
    },
    {
      "cell_type": "code",
      "source": [
        "#Se lee el archivo tip de yelp\n",
        "\n",
        "tip_yelp=[]\n",
        "\n",
        "with open(\"/content/drive/My Drive/Yelp/tip.json\",\"r\", encoding= 'utf-8') as filejson:\n",
        "\n",
        "\n",
        "                # Procesa cada línea del archivo como un objeto JSON\n",
        "                for linea in filejson:\n",
        "\n",
        "                        # Intenta cargar la línea como un objeto JSON\n",
        "                        objeto = json.loads(linea)\n",
        "\n",
        "                        tip_yelp.append(objeto)\n",
        "\n",
        "tip_yelp=pd.DataFrame(tip_yelp)\n"
      ],
      "metadata": {
        "id": "HjKmJdRW4a7D"
      },
      "execution_count": null,
      "outputs": []
    },
    {
      "cell_type": "code",
      "source": [
        "tip_yelp.head(5)"
      ],
      "metadata": {
        "colab": {
          "base_uri": "https://localhost:8080/",
          "height": 206
        },
        "id": "j9Rh04O85bze",
        "outputId": "1286ea37-4467-4250-dae2-96d2b5733633"
      },
      "execution_count": null,
      "outputs": [
        {
          "output_type": "execute_result",
          "data": {
            "text/plain": [
              "                  user_id             business_id  \\\n",
              "0  AGNUgVwnZUey3gcPCJ76iw  3uLgwr0qeCNMjKenHJwPGQ   \n",
              "1  NBN4MgHP9D3cw--SnauTkA  QoezRbYQncpRqyrLH6Iqjg   \n",
              "2  -copOvldyKh1qr-vzkDEvw  MYoRNLb5chwjQe3c_k37Gg   \n",
              "3  FjMQVZjSqY8syIO-53KFKw  hV-bABTK-glh5wj31ps_Jw   \n",
              "4  ld0AperBXk1h6UbqmM80zw  _uN0OudeJ3Zl_tf6nxg5ww   \n",
              "\n",
              "                                                text                 date  \\\n",
              "0                     Avengers time with the ladies.  2012-05-18 02:17:21   \n",
              "1  They have lots of good deserts and tasty cuban...  2013-02-05 18:35:10   \n",
              "2             It's open even when you think it isn't  2013-08-18 00:56:08   \n",
              "3                          Very decent fried chicken  2017-06-27 23:05:38   \n",
              "4             Appetizers.. platter special for lunch  2012-10-06 19:43:09   \n",
              "\n",
              "   compliment_count  \n",
              "0                 0  \n",
              "1                 0  \n",
              "2                 0  \n",
              "3                 0  \n",
              "4                 0  "
            ],
            "text/html": [
              "\n",
              "  <div id=\"df-daef80c6-7876-4efb-8df1-b6dd7391a05b\" class=\"colab-df-container\">\n",
              "    <div>\n",
              "<style scoped>\n",
              "    .dataframe tbody tr th:only-of-type {\n",
              "        vertical-align: middle;\n",
              "    }\n",
              "\n",
              "    .dataframe tbody tr th {\n",
              "        vertical-align: top;\n",
              "    }\n",
              "\n",
              "    .dataframe thead th {\n",
              "        text-align: right;\n",
              "    }\n",
              "</style>\n",
              "<table border=\"1\" class=\"dataframe\">\n",
              "  <thead>\n",
              "    <tr style=\"text-align: right;\">\n",
              "      <th></th>\n",
              "      <th>user_id</th>\n",
              "      <th>business_id</th>\n",
              "      <th>text</th>\n",
              "      <th>date</th>\n",
              "      <th>compliment_count</th>\n",
              "    </tr>\n",
              "  </thead>\n",
              "  <tbody>\n",
              "    <tr>\n",
              "      <th>0</th>\n",
              "      <td>AGNUgVwnZUey3gcPCJ76iw</td>\n",
              "      <td>3uLgwr0qeCNMjKenHJwPGQ</td>\n",
              "      <td>Avengers time with the ladies.</td>\n",
              "      <td>2012-05-18 02:17:21</td>\n",
              "      <td>0</td>\n",
              "    </tr>\n",
              "    <tr>\n",
              "      <th>1</th>\n",
              "      <td>NBN4MgHP9D3cw--SnauTkA</td>\n",
              "      <td>QoezRbYQncpRqyrLH6Iqjg</td>\n",
              "      <td>They have lots of good deserts and tasty cuban...</td>\n",
              "      <td>2013-02-05 18:35:10</td>\n",
              "      <td>0</td>\n",
              "    </tr>\n",
              "    <tr>\n",
              "      <th>2</th>\n",
              "      <td>-copOvldyKh1qr-vzkDEvw</td>\n",
              "      <td>MYoRNLb5chwjQe3c_k37Gg</td>\n",
              "      <td>It's open even when you think it isn't</td>\n",
              "      <td>2013-08-18 00:56:08</td>\n",
              "      <td>0</td>\n",
              "    </tr>\n",
              "    <tr>\n",
              "      <th>3</th>\n",
              "      <td>FjMQVZjSqY8syIO-53KFKw</td>\n",
              "      <td>hV-bABTK-glh5wj31ps_Jw</td>\n",
              "      <td>Very decent fried chicken</td>\n",
              "      <td>2017-06-27 23:05:38</td>\n",
              "      <td>0</td>\n",
              "    </tr>\n",
              "    <tr>\n",
              "      <th>4</th>\n",
              "      <td>ld0AperBXk1h6UbqmM80zw</td>\n",
              "      <td>_uN0OudeJ3Zl_tf6nxg5ww</td>\n",
              "      <td>Appetizers.. platter special for lunch</td>\n",
              "      <td>2012-10-06 19:43:09</td>\n",
              "      <td>0</td>\n",
              "    </tr>\n",
              "  </tbody>\n",
              "</table>\n",
              "</div>\n",
              "    <div class=\"colab-df-buttons\">\n",
              "\n",
              "  <div class=\"colab-df-container\">\n",
              "    <button class=\"colab-df-convert\" onclick=\"convertToInteractive('df-daef80c6-7876-4efb-8df1-b6dd7391a05b')\"\n",
              "            title=\"Convert this dataframe to an interactive table.\"\n",
              "            style=\"display:none;\">\n",
              "\n",
              "  <svg xmlns=\"http://www.w3.org/2000/svg\" height=\"24px\" viewBox=\"0 -960 960 960\">\n",
              "    <path d=\"M120-120v-720h720v720H120Zm60-500h600v-160H180v160Zm220 220h160v-160H400v160Zm0 220h160v-160H400v160ZM180-400h160v-160H180v160Zm440 0h160v-160H620v160ZM180-180h160v-160H180v160Zm440 0h160v-160H620v160Z\"/>\n",
              "  </svg>\n",
              "    </button>\n",
              "\n",
              "  <style>\n",
              "    .colab-df-container {\n",
              "      display:flex;\n",
              "      gap: 12px;\n",
              "    }\n",
              "\n",
              "    .colab-df-convert {\n",
              "      background-color: #E8F0FE;\n",
              "      border: none;\n",
              "      border-radius: 50%;\n",
              "      cursor: pointer;\n",
              "      display: none;\n",
              "      fill: #1967D2;\n",
              "      height: 32px;\n",
              "      padding: 0 0 0 0;\n",
              "      width: 32px;\n",
              "    }\n",
              "\n",
              "    .colab-df-convert:hover {\n",
              "      background-color: #E2EBFA;\n",
              "      box-shadow: 0px 1px 2px rgba(60, 64, 67, 0.3), 0px 1px 3px 1px rgba(60, 64, 67, 0.15);\n",
              "      fill: #174EA6;\n",
              "    }\n",
              "\n",
              "    .colab-df-buttons div {\n",
              "      margin-bottom: 4px;\n",
              "    }\n",
              "\n",
              "    [theme=dark] .colab-df-convert {\n",
              "      background-color: #3B4455;\n",
              "      fill: #D2E3FC;\n",
              "    }\n",
              "\n",
              "    [theme=dark] .colab-df-convert:hover {\n",
              "      background-color: #434B5C;\n",
              "      box-shadow: 0px 1px 3px 1px rgba(0, 0, 0, 0.15);\n",
              "      filter: drop-shadow(0px 1px 2px rgba(0, 0, 0, 0.3));\n",
              "      fill: #FFFFFF;\n",
              "    }\n",
              "  </style>\n",
              "\n",
              "    <script>\n",
              "      const buttonEl =\n",
              "        document.querySelector('#df-daef80c6-7876-4efb-8df1-b6dd7391a05b button.colab-df-convert');\n",
              "      buttonEl.style.display =\n",
              "        google.colab.kernel.accessAllowed ? 'block' : 'none';\n",
              "\n",
              "      async function convertToInteractive(key) {\n",
              "        const element = document.querySelector('#df-daef80c6-7876-4efb-8df1-b6dd7391a05b');\n",
              "        const dataTable =\n",
              "          await google.colab.kernel.invokeFunction('convertToInteractive',\n",
              "                                                    [key], {});\n",
              "        if (!dataTable) return;\n",
              "\n",
              "        const docLinkHtml = 'Like what you see? Visit the ' +\n",
              "          '<a target=\"_blank\" href=https://colab.research.google.com/notebooks/data_table.ipynb>data table notebook</a>'\n",
              "          + ' to learn more about interactive tables.';\n",
              "        element.innerHTML = '';\n",
              "        dataTable['output_type'] = 'display_data';\n",
              "        await google.colab.output.renderOutput(dataTable, element);\n",
              "        const docLink = document.createElement('div');\n",
              "        docLink.innerHTML = docLinkHtml;\n",
              "        element.appendChild(docLink);\n",
              "      }\n",
              "    </script>\n",
              "  </div>\n",
              "\n",
              "\n",
              "<div id=\"df-211d1d54-1aa1-48fd-96d4-ef18879c84bf\">\n",
              "  <button class=\"colab-df-quickchart\" onclick=\"quickchart('df-211d1d54-1aa1-48fd-96d4-ef18879c84bf')\"\n",
              "            title=\"Suggest charts\"\n",
              "            style=\"display:none;\">\n",
              "\n",
              "<svg xmlns=\"http://www.w3.org/2000/svg\" height=\"24px\"viewBox=\"0 0 24 24\"\n",
              "     width=\"24px\">\n",
              "    <g>\n",
              "        <path d=\"M19 3H5c-1.1 0-2 .9-2 2v14c0 1.1.9 2 2 2h14c1.1 0 2-.9 2-2V5c0-1.1-.9-2-2-2zM9 17H7v-7h2v7zm4 0h-2V7h2v10zm4 0h-2v-4h2v4z\"/>\n",
              "    </g>\n",
              "</svg>\n",
              "  </button>\n",
              "\n",
              "<style>\n",
              "  .colab-df-quickchart {\n",
              "      --bg-color: #E8F0FE;\n",
              "      --fill-color: #1967D2;\n",
              "      --hover-bg-color: #E2EBFA;\n",
              "      --hover-fill-color: #174EA6;\n",
              "      --disabled-fill-color: #AAA;\n",
              "      --disabled-bg-color: #DDD;\n",
              "  }\n",
              "\n",
              "  [theme=dark] .colab-df-quickchart {\n",
              "      --bg-color: #3B4455;\n",
              "      --fill-color: #D2E3FC;\n",
              "      --hover-bg-color: #434B5C;\n",
              "      --hover-fill-color: #FFFFFF;\n",
              "      --disabled-bg-color: #3B4455;\n",
              "      --disabled-fill-color: #666;\n",
              "  }\n",
              "\n",
              "  .colab-df-quickchart {\n",
              "    background-color: var(--bg-color);\n",
              "    border: none;\n",
              "    border-radius: 50%;\n",
              "    cursor: pointer;\n",
              "    display: none;\n",
              "    fill: var(--fill-color);\n",
              "    height: 32px;\n",
              "    padding: 0;\n",
              "    width: 32px;\n",
              "  }\n",
              "\n",
              "  .colab-df-quickchart:hover {\n",
              "    background-color: var(--hover-bg-color);\n",
              "    box-shadow: 0 1px 2px rgba(60, 64, 67, 0.3), 0 1px 3px 1px rgba(60, 64, 67, 0.15);\n",
              "    fill: var(--button-hover-fill-color);\n",
              "  }\n",
              "\n",
              "  .colab-df-quickchart-complete:disabled,\n",
              "  .colab-df-quickchart-complete:disabled:hover {\n",
              "    background-color: var(--disabled-bg-color);\n",
              "    fill: var(--disabled-fill-color);\n",
              "    box-shadow: none;\n",
              "  }\n",
              "\n",
              "  .colab-df-spinner {\n",
              "    border: 2px solid var(--fill-color);\n",
              "    border-color: transparent;\n",
              "    border-bottom-color: var(--fill-color);\n",
              "    animation:\n",
              "      spin 1s steps(1) infinite;\n",
              "  }\n",
              "\n",
              "  @keyframes spin {\n",
              "    0% {\n",
              "      border-color: transparent;\n",
              "      border-bottom-color: var(--fill-color);\n",
              "      border-left-color: var(--fill-color);\n",
              "    }\n",
              "    20% {\n",
              "      border-color: transparent;\n",
              "      border-left-color: var(--fill-color);\n",
              "      border-top-color: var(--fill-color);\n",
              "    }\n",
              "    30% {\n",
              "      border-color: transparent;\n",
              "      border-left-color: var(--fill-color);\n",
              "      border-top-color: var(--fill-color);\n",
              "      border-right-color: var(--fill-color);\n",
              "    }\n",
              "    40% {\n",
              "      border-color: transparent;\n",
              "      border-right-color: var(--fill-color);\n",
              "      border-top-color: var(--fill-color);\n",
              "    }\n",
              "    60% {\n",
              "      border-color: transparent;\n",
              "      border-right-color: var(--fill-color);\n",
              "    }\n",
              "    80% {\n",
              "      border-color: transparent;\n",
              "      border-right-color: var(--fill-color);\n",
              "      border-bottom-color: var(--fill-color);\n",
              "    }\n",
              "    90% {\n",
              "      border-color: transparent;\n",
              "      border-bottom-color: var(--fill-color);\n",
              "    }\n",
              "  }\n",
              "</style>\n",
              "\n",
              "  <script>\n",
              "    async function quickchart(key) {\n",
              "      const quickchartButtonEl =\n",
              "        document.querySelector('#' + key + ' button');\n",
              "      quickchartButtonEl.disabled = true;  // To prevent multiple clicks.\n",
              "      quickchartButtonEl.classList.add('colab-df-spinner');\n",
              "      try {\n",
              "        const charts = await google.colab.kernel.invokeFunction(\n",
              "            'suggestCharts', [key], {});\n",
              "      } catch (error) {\n",
              "        console.error('Error during call to suggestCharts:', error);\n",
              "      }\n",
              "      quickchartButtonEl.classList.remove('colab-df-spinner');\n",
              "      quickchartButtonEl.classList.add('colab-df-quickchart-complete');\n",
              "    }\n",
              "    (() => {\n",
              "      let quickchartButtonEl =\n",
              "        document.querySelector('#df-211d1d54-1aa1-48fd-96d4-ef18879c84bf button');\n",
              "      quickchartButtonEl.style.display =\n",
              "        google.colab.kernel.accessAllowed ? 'block' : 'none';\n",
              "    })();\n",
              "  </script>\n",
              "</div>\n",
              "\n",
              "    </div>\n",
              "  </div>\n"
            ]
          },
          "metadata": {},
          "execution_count": 39
        }
      ]
    },
    {
      "cell_type": "code",
      "source": [
        "tip_yelp.shape[0]"
      ],
      "metadata": {
        "colab": {
          "base_uri": "https://localhost:8080/"
        },
        "id": "CNJc1Wvv5Fu8",
        "outputId": "57bc63c3-023f-4432-af0a-c2caee187deb"
      },
      "execution_count": null,
      "outputs": [
        {
          "output_type": "execute_result",
          "data": {
            "text/plain": [
              "908915"
            ]
          },
          "metadata": {},
          "execution_count": 40
        }
      ]
    },
    {
      "cell_type": "code",
      "source": [
        "contar_nulos(tip_yelp)"
      ],
      "metadata": {
        "colab": {
          "base_uri": "https://localhost:8080/"
        },
        "id": "A6vTvfIw5SSF",
        "outputId": "9adff39a-88b4-4627-bf05-375ea6dfcd12"
      },
      "execution_count": null,
      "outputs": [
        {
          "output_type": "stream",
          "name": "stdout",
          "text": [
            "Cantidad de valores nulos por columna:\n",
            " user_id             0\n",
            "business_id         0\n",
            "text                0\n",
            "date                0\n",
            "compliment_count    0\n",
            "dtype: int64\n"
          ]
        }
      ]
    },
    {
      "cell_type": "code",
      "source": [
        "#Se lee el archivo user de yelp\n",
        "\n",
        "user_yelp= pd.read_parquet(\"/content/drive/My Drive/Yelp/user.parquet\")"
      ],
      "metadata": {
        "id": "1GXEH84p4so7"
      },
      "execution_count": null,
      "outputs": []
    },
    {
      "cell_type": "code",
      "source": [
        "user_yelp.head(5)"
      ],
      "metadata": {
        "colab": {
          "base_uri": "https://localhost:8080/",
          "height": 342
        },
        "id": "uKQ4d_hz5gPT",
        "outputId": "c2d0646a-64c8-4758-abd6-280b9061f096"
      },
      "execution_count": null,
      "outputs": [
        {
          "output_type": "execute_result",
          "data": {
            "text/plain": [
              "                  user_id    name  review_count        yelping_since  useful  \\\n",
              "0  qVc8ODYU5SZjKXVBgXdI7w  Walker           585  2007-01-25 16:47:26    7217   \n",
              "1  j14WgRoU_-2ZE1aw1dXrJg  Daniel          4333  2009-01-25 04:35:42   43091   \n",
              "2  2WnXYQFK0hXEoTxPtV2zvg   Steph           665  2008-07-25 10:41:00    2086   \n",
              "3  SZDeASXq7o05mMNLshsdIA    Gwen           224  2005-11-29 04:38:33     512   \n",
              "4  hA5lMy-EnncsH4JoR-hFGQ   Karen            79  2007-01-05 19:40:59      29   \n",
              "\n",
              "   funny   cool                                              elite  \\\n",
              "0   1259   5994                                               2007   \n",
              "1  13066  27281  2009,2010,2011,2012,2013,2014,2015,2016,2017,2...   \n",
              "2   1010   1003                           2009,2010,2011,2012,2013   \n",
              "3    330    299                                     2009,2010,2011   \n",
              "4     15      7                                                      \n",
              "\n",
              "                                             friends  fans  ...  \\\n",
              "0  NSCy54eWehBJyZdG2iE84w, pe42u7DcCH2QmI81NX-8qA...   267  ...   \n",
              "1  ueRPE0CX75ePGMqOFVj6IQ, 52oH4DrRvzzl8wh5UXyU0A...  3138  ...   \n",
              "2  LuO3Bn4f3rlhyHIaNfTlnA, j9B4XdHUhDfTKVecyWQgyA...    52  ...   \n",
              "3  enx1vVPnfdNUdPho6PH_wg, 4wOcvMLtU6a9Lslggq74Vg...    28  ...   \n",
              "4  PBK4q9KEEBHhFvSXCUirIw, 3FWPpM7KU1gXeOM_ZbYMbA...     1  ...   \n",
              "\n",
              "   compliment_more  compliment_profile  compliment_cute  compliment_list  \\\n",
              "0               65                  55               56               18   \n",
              "1              264                 184              157              251   \n",
              "2               13                  10               17                3   \n",
              "3                4                   1                6                2   \n",
              "4                1                   0                0                0   \n",
              "\n",
              "   compliment_note  compliment_plain  compliment_cool  compliment_funny  \\\n",
              "0              232               844              467               467   \n",
              "1             1847              7054             3131              3131   \n",
              "2               66                96              119               119   \n",
              "3               12                16               26                26   \n",
              "4                1                 1                0                 0   \n",
              "\n",
              "   compliment_writer  compliment_photos  \n",
              "0                239                180  \n",
              "1               1521               1946  \n",
              "2                 35                 18  \n",
              "3                 10                  9  \n",
              "4                  0                  0  \n",
              "\n",
              "[5 rows x 22 columns]"
            ],
            "text/html": [
              "\n",
              "  <div id=\"df-cca960e2-e29a-4463-9589-69a595661e07\" class=\"colab-df-container\">\n",
              "    <div>\n",
              "<style scoped>\n",
              "    .dataframe tbody tr th:only-of-type {\n",
              "        vertical-align: middle;\n",
              "    }\n",
              "\n",
              "    .dataframe tbody tr th {\n",
              "        vertical-align: top;\n",
              "    }\n",
              "\n",
              "    .dataframe thead th {\n",
              "        text-align: right;\n",
              "    }\n",
              "</style>\n",
              "<table border=\"1\" class=\"dataframe\">\n",
              "  <thead>\n",
              "    <tr style=\"text-align: right;\">\n",
              "      <th></th>\n",
              "      <th>user_id</th>\n",
              "      <th>name</th>\n",
              "      <th>review_count</th>\n",
              "      <th>yelping_since</th>\n",
              "      <th>useful</th>\n",
              "      <th>funny</th>\n",
              "      <th>cool</th>\n",
              "      <th>elite</th>\n",
              "      <th>friends</th>\n",
              "      <th>fans</th>\n",
              "      <th>...</th>\n",
              "      <th>compliment_more</th>\n",
              "      <th>compliment_profile</th>\n",
              "      <th>compliment_cute</th>\n",
              "      <th>compliment_list</th>\n",
              "      <th>compliment_note</th>\n",
              "      <th>compliment_plain</th>\n",
              "      <th>compliment_cool</th>\n",
              "      <th>compliment_funny</th>\n",
              "      <th>compliment_writer</th>\n",
              "      <th>compliment_photos</th>\n",
              "    </tr>\n",
              "  </thead>\n",
              "  <tbody>\n",
              "    <tr>\n",
              "      <th>0</th>\n",
              "      <td>qVc8ODYU5SZjKXVBgXdI7w</td>\n",
              "      <td>Walker</td>\n",
              "      <td>585</td>\n",
              "      <td>2007-01-25 16:47:26</td>\n",
              "      <td>7217</td>\n",
              "      <td>1259</td>\n",
              "      <td>5994</td>\n",
              "      <td>2007</td>\n",
              "      <td>NSCy54eWehBJyZdG2iE84w, pe42u7DcCH2QmI81NX-8qA...</td>\n",
              "      <td>267</td>\n",
              "      <td>...</td>\n",
              "      <td>65</td>\n",
              "      <td>55</td>\n",
              "      <td>56</td>\n",
              "      <td>18</td>\n",
              "      <td>232</td>\n",
              "      <td>844</td>\n",
              "      <td>467</td>\n",
              "      <td>467</td>\n",
              "      <td>239</td>\n",
              "      <td>180</td>\n",
              "    </tr>\n",
              "    <tr>\n",
              "      <th>1</th>\n",
              "      <td>j14WgRoU_-2ZE1aw1dXrJg</td>\n",
              "      <td>Daniel</td>\n",
              "      <td>4333</td>\n",
              "      <td>2009-01-25 04:35:42</td>\n",
              "      <td>43091</td>\n",
              "      <td>13066</td>\n",
              "      <td>27281</td>\n",
              "      <td>2009,2010,2011,2012,2013,2014,2015,2016,2017,2...</td>\n",
              "      <td>ueRPE0CX75ePGMqOFVj6IQ, 52oH4DrRvzzl8wh5UXyU0A...</td>\n",
              "      <td>3138</td>\n",
              "      <td>...</td>\n",
              "      <td>264</td>\n",
              "      <td>184</td>\n",
              "      <td>157</td>\n",
              "      <td>251</td>\n",
              "      <td>1847</td>\n",
              "      <td>7054</td>\n",
              "      <td>3131</td>\n",
              "      <td>3131</td>\n",
              "      <td>1521</td>\n",
              "      <td>1946</td>\n",
              "    </tr>\n",
              "    <tr>\n",
              "      <th>2</th>\n",
              "      <td>2WnXYQFK0hXEoTxPtV2zvg</td>\n",
              "      <td>Steph</td>\n",
              "      <td>665</td>\n",
              "      <td>2008-07-25 10:41:00</td>\n",
              "      <td>2086</td>\n",
              "      <td>1010</td>\n",
              "      <td>1003</td>\n",
              "      <td>2009,2010,2011,2012,2013</td>\n",
              "      <td>LuO3Bn4f3rlhyHIaNfTlnA, j9B4XdHUhDfTKVecyWQgyA...</td>\n",
              "      <td>52</td>\n",
              "      <td>...</td>\n",
              "      <td>13</td>\n",
              "      <td>10</td>\n",
              "      <td>17</td>\n",
              "      <td>3</td>\n",
              "      <td>66</td>\n",
              "      <td>96</td>\n",
              "      <td>119</td>\n",
              "      <td>119</td>\n",
              "      <td>35</td>\n",
              "      <td>18</td>\n",
              "    </tr>\n",
              "    <tr>\n",
              "      <th>3</th>\n",
              "      <td>SZDeASXq7o05mMNLshsdIA</td>\n",
              "      <td>Gwen</td>\n",
              "      <td>224</td>\n",
              "      <td>2005-11-29 04:38:33</td>\n",
              "      <td>512</td>\n",
              "      <td>330</td>\n",
              "      <td>299</td>\n",
              "      <td>2009,2010,2011</td>\n",
              "      <td>enx1vVPnfdNUdPho6PH_wg, 4wOcvMLtU6a9Lslggq74Vg...</td>\n",
              "      <td>28</td>\n",
              "      <td>...</td>\n",
              "      <td>4</td>\n",
              "      <td>1</td>\n",
              "      <td>6</td>\n",
              "      <td>2</td>\n",
              "      <td>12</td>\n",
              "      <td>16</td>\n",
              "      <td>26</td>\n",
              "      <td>26</td>\n",
              "      <td>10</td>\n",
              "      <td>9</td>\n",
              "    </tr>\n",
              "    <tr>\n",
              "      <th>4</th>\n",
              "      <td>hA5lMy-EnncsH4JoR-hFGQ</td>\n",
              "      <td>Karen</td>\n",
              "      <td>79</td>\n",
              "      <td>2007-01-05 19:40:59</td>\n",
              "      <td>29</td>\n",
              "      <td>15</td>\n",
              "      <td>7</td>\n",
              "      <td></td>\n",
              "      <td>PBK4q9KEEBHhFvSXCUirIw, 3FWPpM7KU1gXeOM_ZbYMbA...</td>\n",
              "      <td>1</td>\n",
              "      <td>...</td>\n",
              "      <td>1</td>\n",
              "      <td>0</td>\n",
              "      <td>0</td>\n",
              "      <td>0</td>\n",
              "      <td>1</td>\n",
              "      <td>1</td>\n",
              "      <td>0</td>\n",
              "      <td>0</td>\n",
              "      <td>0</td>\n",
              "      <td>0</td>\n",
              "    </tr>\n",
              "  </tbody>\n",
              "</table>\n",
              "<p>5 rows × 22 columns</p>\n",
              "</div>\n",
              "    <div class=\"colab-df-buttons\">\n",
              "\n",
              "  <div class=\"colab-df-container\">\n",
              "    <button class=\"colab-df-convert\" onclick=\"convertToInteractive('df-cca960e2-e29a-4463-9589-69a595661e07')\"\n",
              "            title=\"Convert this dataframe to an interactive table.\"\n",
              "            style=\"display:none;\">\n",
              "\n",
              "  <svg xmlns=\"http://www.w3.org/2000/svg\" height=\"24px\" viewBox=\"0 -960 960 960\">\n",
              "    <path d=\"M120-120v-720h720v720H120Zm60-500h600v-160H180v160Zm220 220h160v-160H400v160Zm0 220h160v-160H400v160ZM180-400h160v-160H180v160Zm440 0h160v-160H620v160ZM180-180h160v-160H180v160Zm440 0h160v-160H620v160Z\"/>\n",
              "  </svg>\n",
              "    </button>\n",
              "\n",
              "  <style>\n",
              "    .colab-df-container {\n",
              "      display:flex;\n",
              "      gap: 12px;\n",
              "    }\n",
              "\n",
              "    .colab-df-convert {\n",
              "      background-color: #E8F0FE;\n",
              "      border: none;\n",
              "      border-radius: 50%;\n",
              "      cursor: pointer;\n",
              "      display: none;\n",
              "      fill: #1967D2;\n",
              "      height: 32px;\n",
              "      padding: 0 0 0 0;\n",
              "      width: 32px;\n",
              "    }\n",
              "\n",
              "    .colab-df-convert:hover {\n",
              "      background-color: #E2EBFA;\n",
              "      box-shadow: 0px 1px 2px rgba(60, 64, 67, 0.3), 0px 1px 3px 1px rgba(60, 64, 67, 0.15);\n",
              "      fill: #174EA6;\n",
              "    }\n",
              "\n",
              "    .colab-df-buttons div {\n",
              "      margin-bottom: 4px;\n",
              "    }\n",
              "\n",
              "    [theme=dark] .colab-df-convert {\n",
              "      background-color: #3B4455;\n",
              "      fill: #D2E3FC;\n",
              "    }\n",
              "\n",
              "    [theme=dark] .colab-df-convert:hover {\n",
              "      background-color: #434B5C;\n",
              "      box-shadow: 0px 1px 3px 1px rgba(0, 0, 0, 0.15);\n",
              "      filter: drop-shadow(0px 1px 2px rgba(0, 0, 0, 0.3));\n",
              "      fill: #FFFFFF;\n",
              "    }\n",
              "  </style>\n",
              "\n",
              "    <script>\n",
              "      const buttonEl =\n",
              "        document.querySelector('#df-cca960e2-e29a-4463-9589-69a595661e07 button.colab-df-convert');\n",
              "      buttonEl.style.display =\n",
              "        google.colab.kernel.accessAllowed ? 'block' : 'none';\n",
              "\n",
              "      async function convertToInteractive(key) {\n",
              "        const element = document.querySelector('#df-cca960e2-e29a-4463-9589-69a595661e07');\n",
              "        const dataTable =\n",
              "          await google.colab.kernel.invokeFunction('convertToInteractive',\n",
              "                                                    [key], {});\n",
              "        if (!dataTable) return;\n",
              "\n",
              "        const docLinkHtml = 'Like what you see? Visit the ' +\n",
              "          '<a target=\"_blank\" href=https://colab.research.google.com/notebooks/data_table.ipynb>data table notebook</a>'\n",
              "          + ' to learn more about interactive tables.';\n",
              "        element.innerHTML = '';\n",
              "        dataTable['output_type'] = 'display_data';\n",
              "        await google.colab.output.renderOutput(dataTable, element);\n",
              "        const docLink = document.createElement('div');\n",
              "        docLink.innerHTML = docLinkHtml;\n",
              "        element.appendChild(docLink);\n",
              "      }\n",
              "    </script>\n",
              "  </div>\n",
              "\n",
              "\n",
              "<div id=\"df-5d8e8372-2f1d-40fa-8405-310624470a1f\">\n",
              "  <button class=\"colab-df-quickchart\" onclick=\"quickchart('df-5d8e8372-2f1d-40fa-8405-310624470a1f')\"\n",
              "            title=\"Suggest charts\"\n",
              "            style=\"display:none;\">\n",
              "\n",
              "<svg xmlns=\"http://www.w3.org/2000/svg\" height=\"24px\"viewBox=\"0 0 24 24\"\n",
              "     width=\"24px\">\n",
              "    <g>\n",
              "        <path d=\"M19 3H5c-1.1 0-2 .9-2 2v14c0 1.1.9 2 2 2h14c1.1 0 2-.9 2-2V5c0-1.1-.9-2-2-2zM9 17H7v-7h2v7zm4 0h-2V7h2v10zm4 0h-2v-4h2v4z\"/>\n",
              "    </g>\n",
              "</svg>\n",
              "  </button>\n",
              "\n",
              "<style>\n",
              "  .colab-df-quickchart {\n",
              "      --bg-color: #E8F0FE;\n",
              "      --fill-color: #1967D2;\n",
              "      --hover-bg-color: #E2EBFA;\n",
              "      --hover-fill-color: #174EA6;\n",
              "      --disabled-fill-color: #AAA;\n",
              "      --disabled-bg-color: #DDD;\n",
              "  }\n",
              "\n",
              "  [theme=dark] .colab-df-quickchart {\n",
              "      --bg-color: #3B4455;\n",
              "      --fill-color: #D2E3FC;\n",
              "      --hover-bg-color: #434B5C;\n",
              "      --hover-fill-color: #FFFFFF;\n",
              "      --disabled-bg-color: #3B4455;\n",
              "      --disabled-fill-color: #666;\n",
              "  }\n",
              "\n",
              "  .colab-df-quickchart {\n",
              "    background-color: var(--bg-color);\n",
              "    border: none;\n",
              "    border-radius: 50%;\n",
              "    cursor: pointer;\n",
              "    display: none;\n",
              "    fill: var(--fill-color);\n",
              "    height: 32px;\n",
              "    padding: 0;\n",
              "    width: 32px;\n",
              "  }\n",
              "\n",
              "  .colab-df-quickchart:hover {\n",
              "    background-color: var(--hover-bg-color);\n",
              "    box-shadow: 0 1px 2px rgba(60, 64, 67, 0.3), 0 1px 3px 1px rgba(60, 64, 67, 0.15);\n",
              "    fill: var(--button-hover-fill-color);\n",
              "  }\n",
              "\n",
              "  .colab-df-quickchart-complete:disabled,\n",
              "  .colab-df-quickchart-complete:disabled:hover {\n",
              "    background-color: var(--disabled-bg-color);\n",
              "    fill: var(--disabled-fill-color);\n",
              "    box-shadow: none;\n",
              "  }\n",
              "\n",
              "  .colab-df-spinner {\n",
              "    border: 2px solid var(--fill-color);\n",
              "    border-color: transparent;\n",
              "    border-bottom-color: var(--fill-color);\n",
              "    animation:\n",
              "      spin 1s steps(1) infinite;\n",
              "  }\n",
              "\n",
              "  @keyframes spin {\n",
              "    0% {\n",
              "      border-color: transparent;\n",
              "      border-bottom-color: var(--fill-color);\n",
              "      border-left-color: var(--fill-color);\n",
              "    }\n",
              "    20% {\n",
              "      border-color: transparent;\n",
              "      border-left-color: var(--fill-color);\n",
              "      border-top-color: var(--fill-color);\n",
              "    }\n",
              "    30% {\n",
              "      border-color: transparent;\n",
              "      border-left-color: var(--fill-color);\n",
              "      border-top-color: var(--fill-color);\n",
              "      border-right-color: var(--fill-color);\n",
              "    }\n",
              "    40% {\n",
              "      border-color: transparent;\n",
              "      border-right-color: var(--fill-color);\n",
              "      border-top-color: var(--fill-color);\n",
              "    }\n",
              "    60% {\n",
              "      border-color: transparent;\n",
              "      border-right-color: var(--fill-color);\n",
              "    }\n",
              "    80% {\n",
              "      border-color: transparent;\n",
              "      border-right-color: var(--fill-color);\n",
              "      border-bottom-color: var(--fill-color);\n",
              "    }\n",
              "    90% {\n",
              "      border-color: transparent;\n",
              "      border-bottom-color: var(--fill-color);\n",
              "    }\n",
              "  }\n",
              "</style>\n",
              "\n",
              "  <script>\n",
              "    async function quickchart(key) {\n",
              "      const quickchartButtonEl =\n",
              "        document.querySelector('#' + key + ' button');\n",
              "      quickchartButtonEl.disabled = true;  // To prevent multiple clicks.\n",
              "      quickchartButtonEl.classList.add('colab-df-spinner');\n",
              "      try {\n",
              "        const charts = await google.colab.kernel.invokeFunction(\n",
              "            'suggestCharts', [key], {});\n",
              "      } catch (error) {\n",
              "        console.error('Error during call to suggestCharts:', error);\n",
              "      }\n",
              "      quickchartButtonEl.classList.remove('colab-df-spinner');\n",
              "      quickchartButtonEl.classList.add('colab-df-quickchart-complete');\n",
              "    }\n",
              "    (() => {\n",
              "      let quickchartButtonEl =\n",
              "        document.querySelector('#df-5d8e8372-2f1d-40fa-8405-310624470a1f button');\n",
              "      quickchartButtonEl.style.display =\n",
              "        google.colab.kernel.accessAllowed ? 'block' : 'none';\n",
              "    })();\n",
              "  </script>\n",
              "</div>\n",
              "\n",
              "    </div>\n",
              "  </div>\n"
            ]
          },
          "metadata": {},
          "execution_count": 43
        }
      ]
    },
    {
      "cell_type": "code",
      "source": [
        "user_yelp.shape[0]"
      ],
      "metadata": {
        "colab": {
          "base_uri": "https://localhost:8080/"
        },
        "id": "2IlnGJlP5YCe",
        "outputId": "e54b66bf-4760-4e9c-9d72-673727507eca"
      },
      "execution_count": null,
      "outputs": [
        {
          "output_type": "execute_result",
          "data": {
            "text/plain": [
              "2105597"
            ]
          },
          "metadata": {},
          "execution_count": 44
        }
      ]
    },
    {
      "cell_type": "code",
      "source": [
        "contar_nulos(user_yelp)"
      ],
      "metadata": {
        "colab": {
          "base_uri": "https://localhost:8080/"
        },
        "id": "Da3AxcWq5txD",
        "outputId": "0a47cc33-f775-4817-a3b2-8d09018bbec8"
      },
      "execution_count": null,
      "outputs": [
        {
          "output_type": "stream",
          "name": "stdout",
          "text": [
            "Cantidad de valores nulos por columna:\n",
            " user_id               0\n",
            "name                  0\n",
            "review_count          0\n",
            "yelping_since         0\n",
            "useful                0\n",
            "funny                 0\n",
            "cool                  0\n",
            "elite                 0\n",
            "friends               0\n",
            "fans                  0\n",
            "average_stars         0\n",
            "compliment_hot        0\n",
            "compliment_more       0\n",
            "compliment_profile    0\n",
            "compliment_cute       0\n",
            "compliment_list       0\n",
            "compliment_note       0\n",
            "compliment_plain      0\n",
            "compliment_cool       0\n",
            "compliment_funny      0\n",
            "compliment_writer     0\n",
            "compliment_photos     0\n",
            "dtype: int64\n"
          ]
        }
      ]
    },
    {
      "cell_type": "markdown",
      "source": [
        "Como se pudo observar, los datos de Yelp no necesitan mayor tratamiento en cuanto a datos faltantes."
      ],
      "metadata": {
        "id": "9BAiLWLaQQYH"
      }
    }
  ]
}