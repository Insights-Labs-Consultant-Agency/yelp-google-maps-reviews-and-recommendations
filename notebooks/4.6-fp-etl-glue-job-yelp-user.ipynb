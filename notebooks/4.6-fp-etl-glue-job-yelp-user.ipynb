{
  "nbformat": 4,
  "nbformat_minor": 0,
  "metadata": {
    "colab": {
      "provenance": [],
      "mount_file_id": "1DaR8_2sP4w6HwG92WHLbhiPNbvHj1S82",
      "authorship_tag": "ABX9TyM9F4vdC9geFPb8oWmHMyQa",
      "include_colab_link": true
    },
    "kernelspec": {
      "name": "python3",
      "display_name": "Python 3"
    },
    "language_info": {
      "name": "python"
    }
  },
  "cells": [
    {
      "cell_type": "markdown",
      "metadata": {
        "id": "view-in-github",
        "colab_type": "text"
      },
      "source": [
        "<a href=\"https://colab.research.google.com/github/Insights-Labs-Consultant-Agency/yelp-google-maps-reviews-and-recommendations/blob/data-pipeline/4.6-fp-etl-glue-job-yelp-user.ipynb\" target=\"_parent\"><img src=\"https://colab.research.google.com/assets/colab-badge.svg\" alt=\"Open In Colab\"/></a>"
      ]
    },
    {
      "cell_type": "markdown",
      "source": [
        "# Extracción, transformación y carga (ETL)"
      ],
      "metadata": {
        "id": "hNl1vrW1wxib"
      }
    },
    {
      "cell_type": "markdown",
      "source": [
        "En este notebook, nuestro objetivo es realizar el proceso de extracción, transformación y carga (ETL) de los datos de Yelp y Google Maps utilizando la librería AWS Glue 3.0 que servirá como base para los scripts de los diferentes ETL Glue Jobs que se usaran en AWS Glue Workflow en el proceso de carga al DW. En esta etapa, se realizará un proceso de limpieza previa y posterior normalización para construir un DER."
      ],
      "metadata": {
        "id": "DDmg3udVw-1b"
      }
    },
    {
      "cell_type": "markdown",
      "source": [
        "## 0 Configuraciones Globales e Importaciones"
      ],
      "metadata": {
        "id": "4HXp2o_Aytpo"
      }
    },
    {
      "cell_type": "markdown",
      "source": [
        "En esta sección,instalamos e importamos todas las librerías y/o módulos necesarios para nuestro proceso ETL y establecemos configuraciones globales de ser requerido."
      ],
      "metadata": {
        "id": "rh6OIFORyz25"
      }
    },
    {
      "cell_type": "markdown",
      "source": [
        "### Instalación de librerías y/o Dependencias"
      ],
      "metadata": {
        "id": "0pZfLw2By_lm"
      }
    },
    {
      "cell_type": "code",
      "source": [
        "!apt-get install openjdk-8-jdk-headless -qq > /dev/null\n",
        "!wget -q https://aws-glue-etl-artifacts.s3.amazonaws.com/glue-common/apache-maven-3.6.0-bin.tar.gz\n",
        "!tar xvf apache-maven-3.6.0-bin.tar.gz -C /bin/ > /dev/null\n",
        "!wget -q https://aws-glue-etl-artifacts.s3.amazonaws.com/glue-3.0/spark-3.1.1-amzn-0-bin-3.2.1-amzn-3.tgz\n",
        "!tar xvf spark-3.1.1-amzn-0-bin-3.2.1-amzn-3.tgz -C /bin/ > /dev/null\n",
        "!pip install -q findspark"
      ],
      "metadata": {
        "id": "enoMebVcsRoG"
      },
      "execution_count": null,
      "outputs": []
    },
    {
      "cell_type": "markdown",
      "source": [
        "### Exportación de Variables Entorno"
      ],
      "metadata": {
        "id": "bhoxHr9TzVV0"
      }
    },
    {
      "cell_type": "code",
      "source": [
        "import os\n",
        "os.environ[\"JAVA_HOME\"] = \"/usr/lib/jvm/java-8-openjdk-amd64\"\n",
        "os.environ[\"PATH\"] += \":/bin/apache-maven-3.6.0/bin\"\n",
        "os.environ[\"SPARK_HOME\"] = \"/bin/spark-3.1.1-amzn-0-bin-3.2.1-amzn-3/\"\n",
        "os.environ[\"SPARK_CONF_DIR\"] = \"/bin/aws-glue-libs/conf\""
      ],
      "metadata": {
        "id": "zCi3c-5lsX_H"
      },
      "execution_count": null,
      "outputs": []
    },
    {
      "cell_type": "markdown",
      "source": [
        "### Instalación de AWS GLue 3.0 Libs"
      ],
      "metadata": {
        "id": "uZoM1kz41LQI"
      }
    },
    {
      "cell_type": "code",
      "source": [
        "!git clone -b glue-3.0 https://github.com/awslabs/aws-glue-libs.git /bin/aws-glue-libs\n",
        "!chmod +x /bin/aws-glue-libs/bin/glue-setup.sh\n",
        "!bash /bin/aws-glue-libs/bin/glue-setup.sh > /dev/null\n",
        "!cp -r /bin/spark-3.1.1-amzn-0-bin-3.2.1-amzn-3/jars/netty-all-4.1.51.Final.jar /bin/aws-glue-libs/jarsv1/"
      ],
      "metadata": {
        "colab": {
          "base_uri": "https://localhost:8080/"
        },
        "id": "Y5ArgNgqsi4I",
        "outputId": "d790f354-05b5-4e75-f3e8-fbe5d152a1ea"
      },
      "execution_count": null,
      "outputs": [
        {
          "output_type": "stream",
          "name": "stdout",
          "text": [
            "Cloning into '/bin/aws-glue-libs'...\n",
            "remote: Enumerating objects: 321, done.\u001b[K\n",
            "remote: Counting objects: 100% (99/99), done.\u001b[K\n",
            "remote: Compressing objects: 100% (54/54), done.\u001b[K\n",
            "remote: Total 321 (delta 63), reused 62 (delta 45), pack-reused 222\u001b[K\n",
            "Receiving objects: 100% (321/321), 163.93 KiB | 14.90 MiB/s, done.\n",
            "Resolving deltas: 100% (203/203), done.\n",
            "rm: cannot remove 'PyGlue.zip': No such file or directory\n",
            "rm: cannot remove '/bin/aws-glue-libs/conf/spark-defaults.conf': No such file or directory\n"
          ]
        }
      ]
    },
    {
      "cell_type": "markdown",
      "source": [
        "### Importación de Librerías y/o Módulos"
      ],
      "metadata": {
        "id": "gs9WyuNY0eIf"
      }
    },
    {
      "cell_type": "code",
      "execution_count": null,
      "metadata": {
        "id": "weHEFQDDoSoE",
        "colab": {
          "base_uri": "https://localhost:8080/",
          "height": 219
        },
        "outputId": "836dae43-3b51-4aa9-8ac0-34648db3faba"
      },
      "outputs": [
        {
          "output_type": "execute_result",
          "data": {
            "text/plain": [
              "<pyspark.sql.session.SparkSession at 0x7e02e069aaa0>"
            ],
            "text/html": [
              "\n",
              "            <div>\n",
              "                <p><b>SparkSession - in-memory</b></p>\n",
              "                \n",
              "        <div>\n",
              "            <p><b>SparkContext</b></p>\n",
              "\n",
              "            <p><a href=\"http://d73bc9ee2b23:4040\">Spark UI</a></p>\n",
              "\n",
              "            <dl>\n",
              "              <dt>Version</dt>\n",
              "                <dd><code>v3.1.1-amzn-0</code></dd>\n",
              "              <dt>Master</dt>\n",
              "                <dd><code>local[*]</code></dd>\n",
              "              <dt>AppName</dt>\n",
              "                <dd><code>pyspark-shell</code></dd>\n",
              "            </dl>\n",
              "        </div>\n",
              "        \n",
              "            </div>\n",
              "        "
            ]
          },
          "metadata": {},
          "execution_count": 4
        }
      ],
      "source": [
        "import sys\n",
        "sys.path.extend([\"/bin/spark-3.1.1-amzn-0-bin-3.2.1-amzn-3/python\",\"/bin/spark-3.1.1-amzn-0-bin-3.2.1-amzn-3/python/lib/py4j-0.10.9-src.zip\",\"/bin/aws-glue-libs/PyGlue.zip\"])\n",
        "\n",
        "import findspark\n",
        "from awsglue.context import GlueContext\n",
        "from pyspark.context import SparkContext\n",
        "from awsglue.dynamicframe import DynamicFrame\n",
        "from pyspark.sql.functions import when, col, size, split, explode, monotonically_increasing_id\n",
        "\n",
        "findspark.init()\n",
        "sc = SparkContext()\n",
        "glueContext = GlueContext(sc)\n",
        "spark = glueContext.spark_session\n",
        "spark"
      ]
    },
    {
      "cell_type": "markdown",
      "source": [
        "## 1 Extracción"
      ],
      "metadata": {
        "id": "f42m4ww00wIY"
      }
    },
    {
      "cell_type": "markdown",
      "source": [
        "En esta sección, extraemos los datasets de la fuente y los leemos como un DataFrame de PySpark."
      ],
      "metadata": {
        "id": "RnM8Dls40ytF"
      }
    },
    {
      "cell_type": "code",
      "source": [
        "# Ruta al archivo parquet user\n",
        "file_path = '/content/drive/MyDrive/data/raw/yelp/user.parquet'"
      ],
      "metadata": {
        "id": "T-Ftm7L4MXVk"
      },
      "execution_count": null,
      "outputs": []
    },
    {
      "cell_type": "code",
      "source": [
        "# Lee el archivo parquet\n",
        "df = spark.read.parquet(file_path)"
      ],
      "metadata": {
        "id": "svCYn1oz2AhD"
      },
      "execution_count": null,
      "outputs": []
    },
    {
      "cell_type": "markdown",
      "source": [
        "## 2 Transformación"
      ],
      "metadata": {
        "id": "naOeIpxO919e"
      }
    },
    {
      "cell_type": "markdown",
      "source": [
        "En esta sección, realizamos la limpieza inicial de los datos y las transformaciones necesarias. Esto puede incluir la creación de nuevas columnas  la eliminación de duplicados o columnas innecesarias, la gestión de valores nulos o la corrección de tipos de datos."
      ],
      "metadata": {
        "id": "ua1qTRsQ93hZ"
      }
    },
    {
      "cell_type": "code",
      "source": [
        "# Elimina las filas duplicadas\n",
        "df = df.dropDuplicates()"
      ],
      "metadata": {
        "id": "u35lchNbYJiy"
      },
      "execution_count": null,
      "outputs": []
    },
    {
      "cell_type": "code",
      "source": [
        "# Convierte la columna 'yelping_since' al formato datetime\n",
        "df = df.withColumn('yelping_since', df['yelping_since'].cast('timestamp'))"
      ],
      "metadata": {
        "id": "wplFVIqo5WYT"
      },
      "execution_count": null,
      "outputs": []
    },
    {
      "cell_type": "code",
      "source": [
        "# Ordena el DataFrame por y 'yelping_since'\n",
        "df = df.orderBy('yelping_since')"
      ],
      "metadata": {
        "id": "xJvgBUPA6bdE"
      },
      "execution_count": null,
      "outputs": []
    },
    {
      "cell_type": "code",
      "source": [
        "# Crea un nuevo DataFrame para la normalización de la columna 'elite'\n",
        "df_elite = df.withColumn('elite', split(df['elite'], ','))\n",
        "df_elite = df_elite.withColumn('elite', explode(df_elite['elite']))\n",
        "df_elite = df_elite.select('user_id', df_elite['elite'].alias('elite_year'))"
      ],
      "metadata": {
        "id": "geb4i49ITJD3"
      },
      "execution_count": null,
      "outputs": []
    },
    {
      "cell_type": "code",
      "source": [
        "# Reemplaza los strings en blanco por None\n",
        "df_elite = df_elite.withColumn('elite_year', when(col('elite_year') == '', None).otherwise(col('elite_year')))"
      ],
      "metadata": {
        "id": "A8dPNI0KcnNI"
      },
      "execution_count": null,
      "outputs": []
    },
    {
      "cell_type": "code",
      "source": [
        "# Elimina los None\n",
        "df_elite = df_elite.na.drop(subset=[\"elite_year\"])"
      ],
      "metadata": {
        "id": "3OiLwhbDdDUr"
      },
      "execution_count": null,
      "outputs": []
    },
    {
      "cell_type": "code",
      "source": [
        "# Ordena el DataFrame por 'elite_year'\n",
        "df_elite = df_elite.orderBy('elite_year')"
      ],
      "metadata": {
        "id": "UoCNoR_wdG5u"
      },
      "execution_count": null,
      "outputs": []
    },
    {
      "cell_type": "code",
      "source": [
        "# Filtra los años que no son '20'\n",
        "df_elite = df_elite.filter(df_elite.elite_year != '20')"
      ],
      "metadata": {
        "id": "3TdMTpa3dKtX"
      },
      "execution_count": null,
      "outputs": []
    },
    {
      "cell_type": "code",
      "source": [
        "# Elimina la columna 'elite'\n",
        "df = df.drop('elite')"
      ],
      "metadata": {
        "id": "ouHFrXIKd4Dg"
      },
      "execution_count": null,
      "outputs": []
    },
    {
      "cell_type": "code",
      "source": [
        "# Crea una nueva columna 'friends' que es la cantidad de amigos\n",
        "df = df.withColumn('friends', size(split(df['friends'], ',')))"
      ],
      "metadata": {
        "id": "KmZz5w9gd7PK"
      },
      "execution_count": null,
      "outputs": []
    },
    {
      "cell_type": "code",
      "source": [
        "df.printSchema()"
      ],
      "metadata": {
        "colab": {
          "base_uri": "https://localhost:8080/"
        },
        "id": "QeO2moPrMm14",
        "outputId": "06a127e5-f5b2-4491-9681-2362863f7ca0"
      },
      "execution_count": null,
      "outputs": [
        {
          "output_type": "stream",
          "name": "stdout",
          "text": [
            "root\n",
            " |-- user_id: string (nullable = true)\n",
            " |-- name: string (nullable = true)\n",
            " |-- review_count: long (nullable = true)\n",
            " |-- yelping_since: timestamp (nullable = true)\n",
            " |-- useful: long (nullable = true)\n",
            " |-- funny: long (nullable = true)\n",
            " |-- cool: long (nullable = true)\n",
            " |-- friends: integer (nullable = false)\n",
            " |-- fans: long (nullable = true)\n",
            " |-- average_stars: double (nullable = true)\n",
            " |-- compliment_hot: long (nullable = true)\n",
            " |-- compliment_more: long (nullable = true)\n",
            " |-- compliment_profile: long (nullable = true)\n",
            " |-- compliment_cute: long (nullable = true)\n",
            " |-- compliment_list: long (nullable = true)\n",
            " |-- compliment_note: long (nullable = true)\n",
            " |-- compliment_plain: long (nullable = true)\n",
            " |-- compliment_cool: long (nullable = true)\n",
            " |-- compliment_funny: long (nullable = true)\n",
            " |-- compliment_writer: long (nullable = true)\n",
            " |-- compliment_photos: long (nullable = true)\n",
            "\n"
          ]
        }
      ]
    },
    {
      "cell_type": "code",
      "source": [
        "df_elite.printSchema()"
      ],
      "metadata": {
        "colab": {
          "base_uri": "https://localhost:8080/"
        },
        "id": "WCSxt6saoDlN",
        "outputId": "bcff747a-4132-4c4a-99b6-1e7f858ca1ae"
      },
      "execution_count": null,
      "outputs": [
        {
          "output_type": "stream",
          "name": "stdout",
          "text": [
            "root\n",
            " |-- user_id: string (nullable = true)\n",
            " |-- elite_year: string (nullable = true)\n",
            "\n"
          ]
        }
      ]
    },
    {
      "cell_type": "markdown",
      "source": [
        "## 3. Carga"
      ],
      "metadata": {
        "id": "hNxMjfag9hma"
      }
    },
    {
      "cell_type": "markdown",
      "source": [
        "Finalmente, en esta sección cargamos nuestros datos transformados en formato parquet a su destino correspondiente."
      ],
      "metadata": {
        "id": "o-OnEMti-i2z"
      }
    },
    {
      "cell_type": "markdown",
      "source": [
        "### Google Drive"
      ],
      "metadata": {
        "id": "SzJbsgYb-qGn"
      }
    },
    {
      "cell_type": "code",
      "source": [
        "# Ruta al archivo Parquet local\n",
        "file_path = '/content/drive/MyDrive/data/cleaned/yelp/user.parquet'\n",
        "\n",
        "# Escribe el DataFrame a un archivo Parquet localmente\n",
        "df.write.parquet(file_path)\n"
      ],
      "metadata": {
        "id": "t9PEpRX09gVl"
      },
      "execution_count": null,
      "outputs": []
    },
    {
      "cell_type": "code",
      "source": [
        "# Ruta al archivo Parquet local\n",
        "file_path = '/content/drive/MyDrive/data/cleaned/yelp/elite.parquet'\n",
        "\n",
        "# Escribe el DataFrame a un archivo Parquet localmente\n",
        "df_elite.write.parquet(file_path)"
      ],
      "metadata": {
        "id": "IF_I7Y2AhD9h"
      },
      "execution_count": null,
      "outputs": []
    },
    {
      "cell_type": "markdown",
      "source": [
        "### S3"
      ],
      "metadata": {
        "id": "0piDPdCm-wRZ"
      }
    },
    {
      "cell_type": "code",
      "source": [
        "# Convierte el DataFrame de Spark a un DynamicFrame de Glue\n",
        "dyf = DynamicFrame.fromDF(df, glueContext, \"dynamic_frame\")"
      ],
      "metadata": {
        "id": "zkDYn1K-2Dr3"
      },
      "execution_count": null,
      "outputs": []
    },
    {
      "cell_type": "code",
      "source": [
        "# Escribe el DynamicFrame a S3 en formato Parquet\n",
        "glueContext.write_dynamic_frame.from_options(\n",
        "    frame = dyf,\n",
        "    connection_type = \"s3\",\n",
        "    connection_options = {\"path\": \"s3://ruta/al/bucket\"},\n",
        "    format = \"parquet\"\n",
        ")"
      ],
      "metadata": {
        "id": "xRDUuquA-4gx"
      },
      "execution_count": null,
      "outputs": []
    }
  ]
}