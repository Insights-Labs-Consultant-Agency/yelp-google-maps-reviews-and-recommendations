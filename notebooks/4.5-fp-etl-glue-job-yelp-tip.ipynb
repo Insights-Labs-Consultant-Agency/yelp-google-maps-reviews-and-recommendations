{
  "nbformat": 4,
  "nbformat_minor": 0,
  "metadata": {
    "colab": {
      "provenance": [],
      "mount_file_id": "1SmAZncBLXzhCHEomO6Jf6zAH5dwJDoct",
      "authorship_tag": "ABX9TyMu7PNzpibQjNGIZJx/fbRi",
      "include_colab_link": true
    },
    "kernelspec": {
      "name": "python3",
      "display_name": "Python 3"
    },
    "language_info": {
      "name": "python"
    }
  },
  "cells": [
    {
      "cell_type": "markdown",
      "metadata": {
        "id": "view-in-github",
        "colab_type": "text"
      },
      "source": [
        "<a href=\"https://colab.research.google.com/github/Insights-Labs-Consultant-Agency/yelp-google-maps-reviews-and-recommendations/blob/data-pipeline/notebooks/4.5-fp-etl-glue-job-yelp-tip.ipynb\" target=\"_parent\"><img src=\"https://colab.research.google.com/assets/colab-badge.svg\" alt=\"Open In Colab\"/></a>"
      ]
    },
    {
      "cell_type": "markdown",
      "source": [
        "# Extracción, transformación y carga (ETL)"
      ],
      "metadata": {
        "id": "hNl1vrW1wxib"
      }
    },
    {
      "cell_type": "markdown",
      "source": [
        "En este notebook, nuestro objetivo es realizar el proceso de extracción, transformación y carga (ETL) de los datos de Yelp y Google Maps utilizando la librería AWS Glue 3.0 que servirá como base para los scripts de los diferentes ETL Glue Jobs que se usaran en AWS Glue Workflow en el proceso de carga al DW. En esta etapa, se realizará un proceso de limpieza previa y posterior normalización para construir un DER."
      ],
      "metadata": {
        "id": "DDmg3udVw-1b"
      }
    },
    {
      "cell_type": "markdown",
      "source": [
        "## 0 Configuraciones Globales e Importaciones"
      ],
      "metadata": {
        "id": "4HXp2o_Aytpo"
      }
    },
    {
      "cell_type": "markdown",
      "source": [
        "En esta sección,instalamos e importamos todas las librerías y/o módulos necesarios para nuestro proceso ETL y establecemos configuraciones globales de ser requerido."
      ],
      "metadata": {
        "id": "rh6OIFORyz25"
      }
    },
    {
      "cell_type": "markdown",
      "source": [
        "### Instalación de librerías y/o Dependencias"
      ],
      "metadata": {
        "id": "0pZfLw2By_lm"
      }
    },
    {
      "cell_type": "code",
      "source": [
        "!apt-get install openjdk-8-jdk-headless -qq > /dev/null\n",
        "!wget -q https://aws-glue-etl-artifacts.s3.amazonaws.com/glue-common/apache-maven-3.6.0-bin.tar.gz\n",
        "!tar xvf apache-maven-3.6.0-bin.tar.gz -C /bin/ > /dev/null\n",
        "!wget -q https://aws-glue-etl-artifacts.s3.amazonaws.com/glue-3.0/spark-3.1.1-amzn-0-bin-3.2.1-amzn-3.tgz\n",
        "!tar xvf spark-3.1.1-amzn-0-bin-3.2.1-amzn-3.tgz -C /bin/ > /dev/null\n",
        "!pip install -q findspark"
      ],
      "metadata": {
        "id": "enoMebVcsRoG"
      },
      "execution_count": null,
      "outputs": []
    },
    {
      "cell_type": "markdown",
      "source": [
        "### Exportación de Variables Entorno"
      ],
      "metadata": {
        "id": "bhoxHr9TzVV0"
      }
    },
    {
      "cell_type": "code",
      "source": [
        "import os\n",
        "os.environ[\"JAVA_HOME\"] = \"/usr/lib/jvm/java-8-openjdk-amd64\"\n",
        "os.environ[\"PATH\"] += \":/bin/apache-maven-3.6.0/bin\"\n",
        "os.environ[\"SPARK_HOME\"] = \"/bin/spark-3.1.1-amzn-0-bin-3.2.1-amzn-3/\"\n",
        "os.environ[\"SPARK_CONF_DIR\"] = \"/bin/aws-glue-libs/conf\""
      ],
      "metadata": {
        "id": "zCi3c-5lsX_H"
      },
      "execution_count": null,
      "outputs": []
    },
    {
      "cell_type": "markdown",
      "source": [
        "### Instalación de AWS GLue 3.0 Libs"
      ],
      "metadata": {
        "id": "uZoM1kz41LQI"
      }
    },
    {
      "cell_type": "code",
      "source": [
        "!git clone -b glue-3.0 https://github.com/awslabs/aws-glue-libs.git /bin/aws-glue-libs\n",
        "!chmod +x /bin/aws-glue-libs/bin/glue-setup.sh\n",
        "!bash /bin/aws-glue-libs/bin/glue-setup.sh > /dev/null\n",
        "!cp -r /bin/spark-3.1.1-amzn-0-bin-3.2.1-amzn-3/jars/netty-all-4.1.51.Final.jar /bin/aws-glue-libs/jarsv1/"
      ],
      "metadata": {
        "colab": {
          "base_uri": "https://localhost:8080/"
        },
        "id": "Y5ArgNgqsi4I",
        "outputId": "f59cccfd-e668-4931-ddd3-c7d62a896a8b"
      },
      "execution_count": null,
      "outputs": [
        {
          "output_type": "stream",
          "name": "stdout",
          "text": [
            "Cloning into '/bin/aws-glue-libs'...\n",
            "remote: Enumerating objects: 321, done.\u001b[K\n",
            "remote: Counting objects: 100% (104/104), done.\u001b[K\n",
            "remote: Compressing objects: 100% (54/54), done.\u001b[K\n",
            "remote: Total 321 (delta 67), reused 67 (delta 50), pack-reused 217\u001b[K\n",
            "Receiving objects: 100% (321/321), 160.42 KiB | 2.17 MiB/s, done.\n",
            "Resolving deltas: 100% (205/205), done.\n",
            "rm: cannot remove 'PyGlue.zip': No such file or directory\n",
            "rm: cannot remove '/bin/aws-glue-libs/conf/spark-defaults.conf': No such file or directory\n"
          ]
        }
      ]
    },
    {
      "cell_type": "markdown",
      "source": [
        "### Importación de Librerías y/o Módulos"
      ],
      "metadata": {
        "id": "gs9WyuNY0eIf"
      }
    },
    {
      "cell_type": "code",
      "execution_count": null,
      "metadata": {
        "id": "weHEFQDDoSoE",
        "colab": {
          "base_uri": "https://localhost:8080/",
          "height": 219
        },
        "outputId": "46bae281-dc3a-4a15-838f-192040da866e"
      },
      "outputs": [
        {
          "output_type": "execute_result",
          "data": {
            "text/plain": [
              "<pyspark.sql.session.SparkSession at 0x7f22c2210dc0>"
            ],
            "text/html": [
              "\n",
              "            <div>\n",
              "                <p><b>SparkSession - in-memory</b></p>\n",
              "                \n",
              "        <div>\n",
              "            <p><b>SparkContext</b></p>\n",
              "\n",
              "            <p><a href=\"http://85accba99078:4040\">Spark UI</a></p>\n",
              "\n",
              "            <dl>\n",
              "              <dt>Version</dt>\n",
              "                <dd><code>v3.1.1-amzn-0</code></dd>\n",
              "              <dt>Master</dt>\n",
              "                <dd><code>local[*]</code></dd>\n",
              "              <dt>AppName</dt>\n",
              "                <dd><code>pyspark-shell</code></dd>\n",
              "            </dl>\n",
              "        </div>\n",
              "        \n",
              "            </div>\n",
              "        "
            ]
          },
          "metadata": {},
          "execution_count": 4
        }
      ],
      "source": [
        "import sys\n",
        "sys.path.extend([\"/bin/spark-3.1.1-amzn-0-bin-3.2.1-amzn-3/python\",\"/bin/spark-3.1.1-amzn-0-bin-3.2.1-amzn-3/python/lib/py4j-0.10.9-src.zip\",\"/bin/aws-glue-libs/PyGlue.zip\"])\n",
        "\n",
        "import findspark\n",
        "from awsglue.context import GlueContext\n",
        "from pyspark.context import SparkContext\n",
        "from awsglue.dynamicframe import DynamicFrame\n",
        "from pyspark.sql.functions import split, explode, monotonically_increasing_id\n",
        "\n",
        "findspark.init()\n",
        "sc = SparkContext()\n",
        "glueContext = GlueContext(sc)\n",
        "spark = glueContext.spark_session\n",
        "spark"
      ]
    },
    {
      "cell_type": "markdown",
      "source": [
        "## 1 Extracción"
      ],
      "metadata": {
        "id": "f42m4ww00wIY"
      }
    },
    {
      "cell_type": "markdown",
      "source": [
        "En esta sección, extraemos los datasets de la fuente y los leemos como un DataFrame de PySpark."
      ],
      "metadata": {
        "id": "RnM8Dls40ytF"
      }
    },
    {
      "cell_type": "code",
      "source": [
        "# Ruta al archivo JSON checkin\n",
        "file_path = '/content/drive/MyDrive/data/raw/yelp/tip.json'"
      ],
      "metadata": {
        "id": "T-Ftm7L4MXVk"
      },
      "execution_count": null,
      "outputs": []
    },
    {
      "cell_type": "code",
      "source": [
        "# Lee el archivo JSON con PySpark\n",
        "df = spark.read.json(file_path)"
      ],
      "metadata": {
        "id": "svCYn1oz2AhD"
      },
      "execution_count": null,
      "outputs": []
    },
    {
      "cell_type": "markdown",
      "source": [
        "## 2 Transformación"
      ],
      "metadata": {
        "id": "naOeIpxO919e"
      }
    },
    {
      "cell_type": "markdown",
      "source": [
        "En esta sección, realizamos la limpieza inicial de los datos y las transformaciones necesarias. Esto puede incluir la creación de nuevas columnas  la eliminación de duplicados o columnas innecesarias, la gestión de valores nulos o la corrección de tipos de datos."
      ],
      "metadata": {
        "id": "ua1qTRsQ93hZ"
      }
    },
    {
      "cell_type": "code",
      "source": [
        "# Elimina las filas duplicadas\n",
        "df = df.dropDuplicates()"
      ],
      "metadata": {
        "id": "u35lchNbYJiy"
      },
      "execution_count": null,
      "outputs": []
    },
    {
      "cell_type": "code",
      "source": [
        "# Convierte la columna 'date' al formato datetime\n",
        "df = df.withColumn('date', df['date'].cast('timestamp'))"
      ],
      "metadata": {
        "id": "wplFVIqo5WYT"
      },
      "execution_count": null,
      "outputs": []
    },
    {
      "cell_type": "code",
      "source": [
        "# Ordena el DataFrame por y 'date'\n",
        "df = df.orderBy('date')"
      ],
      "metadata": {
        "id": "xJvgBUPA6bdE"
      },
      "execution_count": null,
      "outputs": []
    },
    {
      "cell_type": "code",
      "source": [
        "# Agrega una columna 'id' con un ID único para cada registro\n",
        "df = df.withColumn('tip_id', monotonically_increasing_id())"
      ],
      "metadata": {
        "id": "geb4i49ITJD3"
      },
      "execution_count": null,
      "outputs": []
    },
    {
      "cell_type": "code",
      "source": [
        "# Cambia el nombre de la columna 'text' por 'tip'\n",
        "df = df.withColumnRenamed('text', 'tip')"
      ],
      "metadata": {
        "id": "Gkv6_54EYoeL"
      },
      "execution_count": null,
      "outputs": []
    },
    {
      "cell_type": "code",
      "source": [
        "# Reordena las columnas para que 'id' sea la primera columna\n",
        "df = df.select('tip_id', 'user_id', 'business_id', 'tip', 'date', 'compliment_count')"
      ],
      "metadata": {
        "id": "giaNOREW8Qrv"
      },
      "execution_count": null,
      "outputs": []
    },
    {
      "cell_type": "code",
      "source": [
        "df.show()"
      ],
      "metadata": {
        "colab": {
          "base_uri": "https://localhost:8080/"
        },
        "id": "Td6Al7sB5kPn",
        "outputId": "1b8006a7-6a2f-4467-e4e7-09dc05b4b43b"
      },
      "execution_count": null,
      "outputs": [
        {
          "output_type": "stream",
          "name": "stdout",
          "text": [
            "+------+--------------------+--------------------+--------------------+-------------------+----------------+\n",
            "|tip_id|             user_id|         business_id|                 tip|               date|compliment_count|\n",
            "+------+--------------------+--------------------+--------------------+-------------------+----------------+\n",
            "|     0|rCumu_NyXfbyq16cP...|cXSyVvOr9YRN9diDk...|Simply the best b...|2009-04-16 13:11:49|               0|\n",
            "|     1|LT_JU6bY75H918eKn...|kLYhipAEvdT1ORflu...|Crunchy French to...|2009-04-16 17:15:29|               0|\n",
            "|     2|sxZX1armKzagQxDnb...|gTC8IQ_i8zXytWSly...|Lunch specials ar...|2009-04-16 19:59:35|               0|\n",
            "|     3|KI4UutWtai0UKZ6ZK...|P3bw4h4kCaMaYqGGN...|Low selection, quiet|2009-04-16 23:45:46|               0|\n",
            "|     4|C14KW1jjKM8QlYfMy...|aUjJ_x1KuvWmqIErh...|Pretty good pad t...|2009-04-17 00:34:55|               0|\n",
            "|     5|8IcTnw2hmu5xjElM1...|DU4y4jJPE96-hBN_j...|Tries to cater fo...|2009-04-17 02:03:49|               0|\n",
            "|     6|osLu8P3SkCJJQoMpx...|5k0-j1Nuoj0CrYzuh...|The breaded palom...|2009-04-17 02:20:20|               0|\n",
            "|     7|aD-rsDe2S0e7jTkYD...|iSRTaT9WngzB8JJ2Y...|While waiting in ...|2009-04-17 18:14:34|               0|\n",
            "|     8|dYUP-Nw3mHPnO8_48...|3GjYa0zpRfNXScHgu...|Busy at lunch. Ca...|2009-04-17 22:00:26|               0|\n",
            "|     9|KI4UutWtai0UKZ6ZK...|DKXeB-JIou5XPI49C...|Hot and sour soup...|2009-04-18 01:02:56|               0|\n",
            "|    10|FH6Tr2VgZMcQzXIzD...|M9EMOYyem3oWU1VLl...|Pho Hua has reope...|2009-04-18 05:15:05|               0|\n",
            "|    11|VunYnJA-JcqMbWuJq...|mhrW9O0O5hXGXGnEY...|Fantastic place! ...|2009-04-18 14:11:27|               0|\n",
            "|    12|VunYnJA-JcqMbWuJq...|NCzKKh6npVeq-AvlJ...|Get the Duck. Fri...|2009-04-18 14:16:45|               0|\n",
            "|    13|zkamNMEjihh3zN7lC...|DqWyZsrMYSx1rTAQS...|Order the spring ...|2009-04-18 16:41:53|               1|\n",
            "|    14|Ey0Ybmwtx-4XTX1BO...|ezB8e2rijjViprrcT...|Don't get confuse...|2009-04-19 01:32:36|               0|\n",
            "|    15|7xD3Si-SqPgT6bB7T...|uvj_tGQrGDSVXjNU4...|Great food, very ...|2009-04-19 14:54:23|               0|\n",
            "|    16|GnaQpoohHKVLif5cs...|6PLn64ysk0rcTVG3o...|A vision without ...|2009-04-19 17:19:43|               0|\n",
            "|    17|6nSI_u6bNGUDWIr78...|GVWcwqUD-ekCMQ0x2...|Great service, go...|2009-04-20 12:52:41|               0|\n",
            "|    18|RfZTcTpgvXO79j5k2...|2njTjQ35skXN171Ko...|Rich house blend....|2009-04-20 14:30:01|               0|\n",
            "|    19|R4gAJHkTScyokNOni...|B7WQ7wjnkJmdXgbGs...|          Roast beef|2009-04-21 00:42:34|               0|\n",
            "+------+--------------------+--------------------+--------------------+-------------------+----------------+\n",
            "only showing top 20 rows\n",
            "\n"
          ]
        }
      ]
    },
    {
      "cell_type": "code",
      "source": [
        "df.printSchema()"
      ],
      "metadata": {
        "colab": {
          "base_uri": "https://localhost:8080/"
        },
        "id": "QeO2moPrMm14",
        "outputId": "21c21370-8649-4a28-c6d2-67c8b372bce2"
      },
      "execution_count": null,
      "outputs": [
        {
          "output_type": "stream",
          "name": "stdout",
          "text": [
            "root\n",
            " |-- tip_id: long (nullable = false)\n",
            " |-- user_id: string (nullable = true)\n",
            " |-- business_id: string (nullable = true)\n",
            " |-- tip: string (nullable = true)\n",
            " |-- date: timestamp (nullable = true)\n",
            " |-- compliment_count: long (nullable = true)\n",
            "\n"
          ]
        }
      ]
    },
    {
      "cell_type": "markdown",
      "source": [
        "## 3. Carga"
      ],
      "metadata": {
        "id": "hNxMjfag9hma"
      }
    },
    {
      "cell_type": "markdown",
      "source": [
        "Finalmente, en esta sección cargamos nuestros datos transformados en formato parquet a su destino correspondiente."
      ],
      "metadata": {
        "id": "o-OnEMti-i2z"
      }
    },
    {
      "cell_type": "markdown",
      "source": [
        "### Google Drive"
      ],
      "metadata": {
        "id": "SzJbsgYb-qGn"
      }
    },
    {
      "cell_type": "code",
      "source": [
        "# Ruta al archivo Parquet local\n",
        "file_path = '/content/drive/MyDrive/data/cleaned/yelp/tip.parquet'\n",
        "\n",
        "# Escribe el DataFrame a un archivo Parquet localmente\n",
        "df.write.parquet(file_path)\n"
      ],
      "metadata": {
        "id": "t9PEpRX09gVl"
      },
      "execution_count": null,
      "outputs": []
    },
    {
      "cell_type": "markdown",
      "source": [
        "### S3"
      ],
      "metadata": {
        "id": "0piDPdCm-wRZ"
      }
    },
    {
      "cell_type": "code",
      "source": [
        "# Convierte el DataFrame de Spark a un DynamicFrame de Glue\n",
        "dyf = DynamicFrame.fromDF(df, glueContext, \"dynamic_frame\")"
      ],
      "metadata": {
        "id": "zkDYn1K-2Dr3"
      },
      "execution_count": null,
      "outputs": []
    },
    {
      "cell_type": "code",
      "source": [
        "# Escribe el DynamicFrame a S3 en formato Parquet\n",
        "glueContext.write_dynamic_frame.from_options(\n",
        "    frame = dyf,\n",
        "    connection_type = \"s3\",\n",
        "    connection_options = {\"path\": \"s3://ruta/al/bucket\"},\n",
        "    format = \"parquet\"\n",
        ")"
      ],
      "metadata": {
        "id": "xRDUuquA-4gx"
      },
      "execution_count": null,
      "outputs": []
    }
  ]
}